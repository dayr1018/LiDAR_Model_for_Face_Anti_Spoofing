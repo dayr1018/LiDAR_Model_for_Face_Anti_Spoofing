{
 "cells": [
  {
   "cell_type": "code",
   "execution_count": 1,
   "id": "6106aeb8",
   "metadata": {},
   "outputs": [
    {
     "data": {
      "text/plain": [
       "True"
      ]
     },
     "execution_count": 1,
     "metadata": {},
     "output_type": "execute_result"
    }
   ],
   "source": [
    "3==3"
   ]
  },
  {
   "cell_type": "code",
   "execution_count": 2,
   "id": "164f619a",
   "metadata": {},
   "outputs": [],
   "source": [
    "import time\n",
    "import argparse\n",
    "import os\n",
    "from tqdm.notebook import tqdm as tqdm_notebook\n",
    "# import matplotlib\n",
    "\n",
    "# matplotlib.use('Agg')\n",
    "import numpy as np\n",
    "\n",
    "import torch\n",
    "import torch.nn as nn\n",
    "import torch.optim as optim\n",
    "import torch.nn.functional as F\n",
    "from torch.optim import lr_scheduler\n",
    "\n",
    "# from data.dataloader_RGB import load_cisia_surf\n",
    "from dataloader.dataloader_RGB_Depth import load_cisia_surf\n",
    "# from dataloader.dataloader_RGB_Depth_IR import load_cisia_surf\n",
    "\n",
    "# from models.model_RGB import Model\n",
    "from models.model_RGB_Depth import Model\n",
    "# from models.model_RGB_Depth_IR import Model\n",
    "\n",
    "# from loger import Logger\n",
    "from evalution import eval_model\n",
    "from centerloss import CenterLoss\n",
    "from utils import plot_roc_curve, plot_eval_metric\n"
   ]
  },
  {
   "cell_type": "code",
   "execution_count": 3,
   "id": "3af9bf53",
   "metadata": {},
   "outputs": [
    {
     "name": "stdout",
     "output_type": "stream",
     "text": [
      "train dataset count : 5580\n",
      "test dataset count : 2520\n",
      "train loader count : 88\n",
      "test loader count : 40\n"
     ]
    }
   ],
   "source": [
    "time_object = time.localtime(time.time())\n",
    "time_string = time.strftime('%Y-%m-%d_%I:%M_%p', time_object)\n",
    "use_cuda = True if torch.cuda.is_available() else False\n",
    "\n",
    "parser = argparse.ArgumentParser(description='face anti-spoofing test')\n",
    "parser.add_argument('--batch-size', default='64', type=int, help='train batch size')\n",
    "parser.add_argument('--test-size', default='64', type=int, help='test batch size')\n",
    "parser.add_argument('--save-path', default='./logs/RGB_Depth/Test/', type=str, help='logs save path')\n",
    "parser.add_argument('--message', default='test', type=str, help='pretrained model checkpoint')\n",
    "parser.add_argument('--mode', default=1, type=int, help='dataset protocol_mode')\n",
    "args = parser.parse_known_args()[0]\n",
    "\n",
    "save_path = args.save_path + f'{time_string}' + '_' + f'{args.message}'\n",
    "\n",
    "if not os.path.exists(save_path):\n",
    "    os.makedirs(save_path)\n",
    "# logger = Logger(f'{save_path}/logs.logs')\n",
    "# logger.Print(args.message)\n",
    "\n",
    "_, test_data = load_cisia_surf(train_size=args.batch_size,test_size=args.test_size, mode=args.mode)\n",
    "\n",
    "eval_history = []\n",
    "eval_loss = []\n",
    "eval_score = []\n",
    "test_score = []"
   ]
  },
  {
   "cell_type": "code",
   "execution_count": null,
   "id": "dce8dfe6",
   "metadata": {},
   "outputs": [],
   "source": []
  },
  {
   "cell_type": "code",
   "execution_count": 4,
   "id": "fad3332d",
   "metadata": {},
   "outputs": [],
   "source": [
    "def val(epoch=0, data_set=test_data,flag=1, weight_dir=''):\n",
    "    device = torch.device('cuda' if torch.cuda.is_available() else 'cpu')\n",
    "\n",
    "    model = Model(pretrained=False, num_classes=2)\n",
    "\n",
    "    if use_cuda:\n",
    "        model = torch.nn.DataParallel(model,device_ids=list(range(torch.cuda.device_count()))) \n",
    "        model = model.to(device)\n",
    "        model.load_state_dict(\n",
    "            torch.load(weight_dir))\n",
    "\n",
    "    y_true = []\n",
    "    y_pred = []\n",
    "    y_prob = []\n",
    "    \n",
    "    model.eval()\n",
    "\n",
    "    total_batch = 0\n",
    "\n",
    "#     with open(save_path+fprob_{epoch}.txt', 'w') as fb:\n",
    "    with torch.no_grad():\n",
    "        pbar = tqdm_notebook(enumerate(data_set, 1),total=40)\n",
    "        for batch, data in pbar :\n",
    "\n",
    "            rgb_img = data[0]\n",
    "            depth_img = data[1]\n",
    "            labels = data[2]\n",
    "\n",
    "            if use_cuda:\n",
    "                rgb_img = rgb_img.to(device)\n",
    "                depth_img = depth_img.to(device)\n",
    "                labels = labels.to(device)\n",
    "\n",
    "            # 예측 오류 계산\n",
    "            outputs, features = model(rgb_img, depth_img)\n",
    "            _, pred_outputs = torch.max(outputs, 1)\n",
    "            prob_outputs = F.softmax(outputs,1)[:,1]\n",
    "\n",
    "            y_true.extend(labels.data.cpu().numpy())\n",
    "            y_pred.extend(pred_outputs.data.cpu().numpy())\n",
    "            y_prob.extend(prob_outputs.data.cpu().numpy())\n",
    "\n",
    "            total_batch = batch\n",
    "\n",
    "#         fb.close()\n",
    "\n",
    "    eval_result, score, acer = eval_model(y_true, y_pred, y_prob)\n",
    "    eval_history.append(eval_result)\n",
    "\n",
    "    plot_roc_curve(save_path, epoch, y_true, y_prob)\n",
    "    plot_eval_metric(save_path, epoch, y_true, y_pred)\n",
    "\n",
    "    if flag == 0 :\n",
    "        eval_score.append(score)\n",
    "        # avg_loss = total_loss/total_batch\n",
    "        # eval_loss.append(avg_loss)\n",
    "        # message = f'|eval|loss:{avg_loss:.6f}|'\n",
    "        # logger.Print(message)\n",
    "    else:\n",
    "        test_score.append(score)\n",
    "\n",
    "    with open(save_path+f'/val_{epoch}.txt', 'w') as f:\n",
    "        for i in range(len(y_true)):\n",
    "            message = f'{y_prob[i]:.6f} {y_pred[i]} {y_true[i]}'\n",
    "            f.write(message)\n",
    "            f.write('\\n')\n",
    "        f.close()\n",
    "        \n",
    "    return y_true,y_pred"
   ]
  },
  {
   "cell_type": "code",
   "execution_count": null,
   "id": "a0f9379e",
   "metadata": {},
   "outputs": [],
   "source": []
  },
  {
   "cell_type": "code",
   "execution_count": 5,
   "id": "fd327121",
   "metadata": {},
   "outputs": [
    {
     "data": {
      "text/plain": [
       "'/mnt/nas3/yrkim/liveness_lidar_project/GC_project/code/models/output/RGB_Depth_IR/checkpoint_v1_0/Cycle_1_min_acer_model.pth'"
      ]
     },
     "execution_count": 5,
     "metadata": {},
     "output_type": "execute_result"
    }
   ],
   "source": [
    "global_dir = '/mnt/nas3/yrkim/liveness_lidar_project/GC_project/code/models/output/RGB_Depth_IR/checkpoint_v' + str(args.mode) + '_0/' +'Cycle_1_min_acer_model.pth'\n",
    "global_dir"
   ]
  },
  {
   "cell_type": "code",
   "execution_count": null,
   "id": "4c8bfc23",
   "metadata": {},
   "outputs": [],
   "source": []
  },
  {
   "cell_type": "code",
   "execution_count": 6,
   "id": "fcfdc34b",
   "metadata": {},
   "outputs": [
    {
     "name": "stdout",
     "output_type": "stream",
     "text": [
      "--global_dir start--\n"
     ]
    },
    {
     "data": {
      "application/vnd.jupyter.widget-view+json": {
       "model_id": "d02fc066214149e1ae21678224c24ca4",
       "version_major": 2,
       "version_minor": 0
      },
      "text/plain": [
       "  0%|          | 0/40 [00:00<?, ?it/s]"
      ]
     },
     "metadata": {},
     "output_type": "display_data"
    },
    {
     "name": "stdout",
     "output_type": "stream",
     "text": [
      "scikit learn AUC : 0.5227198286722096\n",
      "auc_value: 0.5227198286722096\n",
      "--global_dir end--\n"
     ]
    }
   ],
   "source": [
    "global_dir = '/mnt/nas3/yrkim/liveness_lidar_project/GC_project/code/models/output/RGB_Depth/checkpoint_v1_0/Cycle_2_min_acer_model.pth'\n",
    "# global_dir = '/mnt/nas3/yrkim/liveness_lidar_project/GC_project/code/models/output/RGB_Depth/checkpoint_v1_0/std/Cycle_2_min_acer_model.pth'\n",
    "\n",
    "\n",
    "print(\"--global_dir start--\")\n",
    "y_true,y_pred = val(epoch=1, weight_dir=global_dir)\n",
    "print(\"--global_dir end--\")\n"
   ]
  },
  {
   "cell_type": "code",
   "execution_count": 7,
   "id": "8f6bc09d",
   "metadata": {},
   "outputs": [
    {
     "ename": "ZeroDivisionError",
     "evalue": "division by zero",
     "output_type": "error",
     "traceback": [
      "\u001b[0;31m---------------------------------------------------------------------------\u001b[0m",
      "\u001b[0;31mZeroDivisionError\u001b[0m                         Traceback (most recent call last)",
      "\u001b[0;32m/tmp/ipykernel_3386225/3150626867.py\u001b[0m in \u001b[0;36m<module>\u001b[0;34m\u001b[0m\n\u001b[0;32m----> 1\u001b[0;31m \u001b[0;36m3\u001b[0m\u001b[0;34m/\u001b[0m\u001b[0;36m0\u001b[0m\u001b[0;34m\u001b[0m\u001b[0;34m\u001b[0m\u001b[0m\n\u001b[0m",
      "\u001b[0;31mZeroDivisionError\u001b[0m: division by zero"
     ]
    }
   ],
   "source": [
    "3/0"
   ]
  },
  {
   "cell_type": "code",
   "execution_count": null,
   "id": "a63d5f44",
   "metadata": {},
   "outputs": [],
   "source": []
  },
  {
   "cell_type": "code",
   "execution_count": null,
   "id": "718ae4c0",
   "metadata": {},
   "outputs": [],
   "source": []
  },
  {
   "cell_type": "code",
   "execution_count": null,
   "id": "a25440df",
   "metadata": {},
   "outputs": [],
   "source": []
  },
  {
   "cell_type": "code",
   "execution_count": null,
   "id": "002ca5bc",
   "metadata": {},
   "outputs": [],
   "source": []
  },
  {
   "cell_type": "code",
   "execution_count": null,
   "id": "cb078216",
   "metadata": {},
   "outputs": [],
   "source": []
  },
  {
   "cell_type": "code",
   "execution_count": null,
   "id": "c5a9a4d5",
   "metadata": {},
   "outputs": [],
   "source": []
  },
  {
   "cell_type": "code",
   "execution_count": null,
   "id": "beea44bf",
   "metadata": {},
   "outputs": [],
   "source": [
    "from collections import Counter\n",
    "print(Counter(y_true))\n",
    "print(Counter(y_pred))"
   ]
  },
  {
   "cell_type": "code",
   "execution_count": null,
   "id": "4e075b16",
   "metadata": {},
   "outputs": [],
   "source": [
    "from sklearn.metrics import confusion_matrix\n",
    "confusion_matrix(y_true, y_pred)"
   ]
  },
  {
   "cell_type": "code",
   "execution_count": null,
   "id": "85540bf7",
   "metadata": {},
   "outputs": [],
   "source": [
    "from sklearn.metrics import f1_score\n",
    "f1_score(y_true, y_pred)"
   ]
  },
  {
   "cell_type": "code",
   "execution_count": null,
   "id": "c12cd764",
   "metadata": {},
   "outputs": [],
   "source": []
  },
  {
   "cell_type": "code",
   "execution_count": null,
   "id": "5cb2e11d",
   "metadata": {},
   "outputs": [],
   "source": [
    "device = torch.device('cuda' if torch.cuda.is_available() else 'cpu')\n",
    "model = Model(pretrained=False, num_classes=2)\n",
    "\n",
    "if use_cuda:\n",
    "    model = torch.nn.DataParallel(model,device_ids=list(range(torch.cuda.device_count()))) \n",
    "    model = model.to(device)\n",
    "    model.load_state_dict(\n",
    "        torch.load(global_dir))\n",
    "model.eval()\n",
    "print()"
   ]
  },
  {
   "cell_type": "code",
   "execution_count": null,
   "id": "54dcd6c1",
   "metadata": {},
   "outputs": [],
   "source": [
    "pbar = tqdm_notebook(enumerate(test_data, 1),total=40)\n",
    "for batch, data in pbar :\n",
    "\n",
    "    rgb_img = data[0]\n",
    "    depth_img = data[1]\n",
    "    labels = data[2]\n",
    "    \n",
    "    break"
   ]
  },
  {
   "cell_type": "code",
   "execution_count": 8,
   "id": "f416ae77",
   "metadata": {},
   "outputs": [],
   "source": [
    "metadata_root = '/mnt/nas3/yrkim/liveness_lidar_project/GC_project/code/metadata/'\n",
    "data_root = '/mnt/nas3/yrkim/liveness_lidar_project/GC_project/data/'\n",
    "datatxt='MakeTextFileCode_RGB_Depth/test_data_list.txt'\n",
    "img_paths = []\n",
    "rgb_paths = []\n",
    "depth_paths = []\n",
    "labels = []\n",
    "\n",
    "lines_in_txt = open(os.path.join(metadata_root,datatxt),'r')\n",
    "\n",
    "for line in lines_in_txt:\n",
    "    line = line.rstrip() \n",
    "    split_str = line.split()\n",
    "    rgb_path = os.path.join(data_root,split_str[0])\n",
    "    depth_path = os.path.join(data_root,split_str[1])\n",
    "    label = split_str[2] \n",
    "    rgb_paths.append(rgb_path)\n",
    "    depth_paths.append(depth_path)\n",
    "\n",
    "    labels.append(label)"
   ]
  },
  {
   "cell_type": "code",
   "execution_count": 10,
   "id": "98dcfe76",
   "metadata": {},
   "outputs": [
    {
     "data": {
      "text/plain": [
       "2520"
      ]
     },
     "execution_count": 10,
     "metadata": {},
     "output_type": "execute_result"
    }
   ],
   "source": [
    "len(depth_paths)"
   ]
  },
  {
   "cell_type": "code",
   "execution_count": null,
   "id": "0bd06cbb",
   "metadata": {},
   "outputs": [],
   "source": []
  },
  {
   "cell_type": "code",
   "execution_count": null,
   "id": "cb42b9e8",
   "metadata": {},
   "outputs": [],
   "source": [
    "rgb_paths_mask = [rgb_paths[int(i)] for i in range(len(labels)) if int(labels[i])==0]\n",
    "rgb_paths_real = [rgb_paths[int(i)] for i in range(len(labels)) if int(labels[i])==1]"
   ]
  },
  {
   "cell_type": "code",
   "execution_count": null,
   "id": "a96bf5d1",
   "metadata": {},
   "outputs": [],
   "source": []
  },
  {
   "cell_type": "code",
   "execution_count": null,
   "id": "24f38677",
   "metadata": {},
   "outputs": [],
   "source": []
  },
  {
   "cell_type": "code",
   "execution_count": null,
   "id": "333b2439",
   "metadata": {
    "scrolled": false
   },
   "outputs": [],
   "source": [
    "import matplotlib.pyplot as plt\n",
    "from PIL import Image\n",
    "import cv2\n",
    "for k in range(30) :\n",
    "    img = cv2.imread(rgb_paths_mask[k])\n",
    "    print('Mask')\n",
    "    display(Image.fromarray(img))\n",
    "    img = cv2.imread(rgb_paths_real[k])\n",
    "    print('real')\n",
    "    display(Image.fromarray(img))\n"
   ]
  },
  {
   "cell_type": "code",
   "execution_count": null,
   "id": "a02d78f4",
   "metadata": {},
   "outputs": [],
   "source": [
    "img = cv2.imread(rgb_paths_real[0])\n",
    "Image.fromarray(img)"
   ]
  },
  {
   "cell_type": "code",
   "execution_count": null,
   "id": "c4cf5434",
   "metadata": {},
   "outputs": [],
   "source": []
  },
  {
   "cell_type": "code",
   "execution_count": null,
   "id": "e369a94b",
   "metadata": {},
   "outputs": [],
   "source": []
  },
  {
   "cell_type": "code",
   "execution_count": null,
   "id": "86b8f439",
   "metadata": {},
   "outputs": [],
   "source": []
  }
 ],
 "metadata": {
  "kernelspec": {
   "display_name": "clothes",
   "language": "python",
   "name": "clothes"
  },
  "language_info": {
   "codemirror_mode": {
    "name": "ipython",
    "version": 3
   },
   "file_extension": ".py",
   "mimetype": "text/x-python",
   "name": "python",
   "nbconvert_exporter": "python",
   "pygments_lexer": "ipython3",
   "version": "3.7.11"
  }
 },
 "nbformat": 4,
 "nbformat_minor": 5
}
