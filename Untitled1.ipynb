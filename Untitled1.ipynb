{
 "cells": [
  {
   "cell_type": "code",
   "execution_count": 25,
   "id": "133f4d56",
   "metadata": {},
   "outputs": [],
   "source": [
    "from PIL import Image\n",
    "import os\n",
    "import cv2\n",
    "import torch\n",
    "import numpy as np\n",
    "from torch.utils.data import Dataset,DataLoader\n",
    "from torchvision import transforms \n",
    "from torch.utils.data.sampler import SubsetRandomSampler, RandomSampler\n",
    "import pdb\n",
    "from torch.utils.data.dataset import ConcatDataset\n",
    "from collections import Counter\n",
    "\n",
    "class CISIA_SURF(Dataset):\n",
    "\n",
    "    def __init__(self, metadata_root = '/mnt/nas3/yrkim/liveness_lidar_project/GC_project/code/metadata/', \n",
    "                        data_root = '/mnt/nas3/yrkim/liveness_lidar_project/GC_project/data/' , datatxt = '', transform=None):\n",
    "        self.metadata_root = metadata_root\n",
    "        self.data_root =  data_root\n",
    "        self.transform = transform\n",
    "        self.rgb_paths = []\n",
    "        self.labels = []\n",
    "\n",
    "        lines_in_txt = open(os.path.join(metadata_root, datatxt),'r')\n",
    "\n",
    "        for line in lines_in_txt:\n",
    "            line = line.rstrip() \n",
    "            split_str = line.split()\n",
    "\n",
    "            rgb_path = os.path.join(data_root, split_str[0])\n",
    "            label = split_str[1] \n",
    "            self.rgb_paths.append(rgb_path)\n",
    "            self.labels.append(label)\n",
    "\n",
    "    def __getitem__(self,index):\n",
    "        rgb_path = self.rgb_paths[index]\n",
    "        rgb_img = Image.open(rgb_path).convert('RGB')\n",
    "\n",
    "        if self.transform is not None:\n",
    "            rgb_img = self.transform(rgb_img)\n",
    "\n",
    "        label = torch.as_tensor(int(self.labels[index]))\n",
    "        \n",
    "        return rgb_img, label\n",
    "\n",
    "    def __len__(self):\n",
    "        return len(self.rgb_paths)\n"
   ]
  },
  {
   "cell_type": "code",
   "execution_count": 26,
   "id": "91dc00d9",
   "metadata": {},
   "outputs": [
    {
     "name": "stdout",
     "output_type": "stream",
     "text": [
      "8100\n",
      "5580\n"
     ]
    },
    {
     "data": {
      "text/plain": [
       "Counter({0.0: 2790, 1.0: 2790})"
      ]
     },
     "execution_count": 26,
     "metadata": {},
     "output_type": "execute_result"
    }
   ],
   "source": [
    "train_transforms = transforms.Compose([\n",
    "    transforms.Resize((124,124)),\n",
    "    # transforms.CenterCrop((112,112)),\n",
    "    transforms.ToTensor(),\n",
    "    transforms.Normalize([0.5,0.5,0.5],[0.5,0.5,0.5])\n",
    "])\n",
    "\n",
    "train_data=CISIA_SURF(datatxt='MakeTextFileCode_RGB/train_data_list.txt', transform=train_transforms)\n",
    "test_data=CISIA_SURF(datatxt='MakeTextFileCode_RGB/test_data_list.txt', transform=train_transforms)\n",
    "\n",
    "nparr_label = []\n",
    "for i in range(train_data.__len__()):\n",
    "    rgb_img, label = train_data.__getitem__(i)\n",
    "    np_label = label.numpy()\n",
    "    nparr_label = np.append(nparr_label, np_label)\n",
    "\n",
    "dataset = ConcatDataset([train_data, test_data])\n",
    "    \n",
    "# print(dataset)\n",
    "print(len(dataset))\n",
    "print(len(train_data))\n",
    "\n",
    "Counter(nparr_label)"
   ]
  },
  {
   "cell_type": "code",
   "execution_count": null,
   "id": "ee9119e6",
   "metadata": {},
   "outputs": [],
   "source": []
  },
  {
   "cell_type": "code",
   "execution_count": null,
   "id": "9c0a8d35",
   "metadata": {},
   "outputs": [],
   "source": []
  }
 ],
 "metadata": {
  "kernelspec": {
   "display_name": "clothes",
   "language": "python",
   "name": "clothes"
  },
  "language_info": {
   "codemirror_mode": {
    "name": "ipython",
    "version": 3
   },
   "file_extension": ".py",
   "mimetype": "text/x-python",
   "name": "python",
   "nbconvert_exporter": "python",
   "pygments_lexer": "ipython3",
   "version": "3.7.11"
  }
 },
 "nbformat": 4,
 "nbformat_minor": 5
}
