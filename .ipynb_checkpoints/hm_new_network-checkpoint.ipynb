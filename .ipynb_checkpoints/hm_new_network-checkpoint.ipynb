{
 "cells": [
  {
   "cell_type": "code",
   "execution_count": 1,
   "id": "6158b91c",
   "metadata": {},
   "outputs": [
    {
     "name": "stdout",
     "output_type": "stream",
     "text": [
      "1.10.1+cu102 True 2\n",
      "server : server1 , copy_before_model : True\n"
     ]
    }
   ],
   "source": [
    "from curses import init_color\n",
    "import os\n",
    "import os.path as osp\n",
    "import copy\n",
    "import sys\n",
    "import time \n",
    "from datetime import timedelta\n",
    "from datetime import datetime\n",
    "import random\n",
    "import time\n",
    "from tqdm import tqdm\n",
    "from collections import Counter\n",
    "\n",
    "import matplotlib.pyplot as plt\n",
    "import pandas as pd\n",
    "import numpy as np\n",
    "import argparse\n",
    "import pickle\n",
    "from sklearn.metrics import f1_score, accuracy_score, confusion_matrix, classification_report\n",
    "\n",
    "import torch\n",
    "import torch.nn as nn\n",
    "from torch.optim import lr_scheduler\n",
    "from torch.utils.tensorboard import SummaryWriter\n",
    "from torch.utils.data import DataLoader\n",
    "\n",
    "from models.AutoEncoder import AutoEncoder_RGB, AutoEncoder_Depth\n",
    "from models.AutoEncoder import AutoEncoder_Intergrated_Basic, AutoEncoder_Intergrated_Proposed\n",
    "from models.hm_Network import Face_Detection_Model\n",
    "# from models.Network import Face_Detection_Model\n",
    "\n",
    "from dataloader.dataloader import load_dataset, load_test_dataset\n",
    "from utility import draw_train_and_test_loss, draw_train_and_test_loss1, draw_accuracy_and_f1_during_training, draw_accuracy_and_f1_during_training1\n",
    "\n",
    "print(torch.__version__,torch.cuda.is_available(),torch.cuda.device_count())\n",
    "copy_before_model = True\n",
    "server = 'server1'\n",
    "print(f'server : {server} , copy_before_model : {copy_before_model}')"
   ]
  },
  {
   "cell_type": "code",
   "execution_count": null,
   "id": "1d614108",
   "metadata": {},
   "outputs": [],
   "source": []
  },
  {
   "cell_type": "code",
   "execution_count": 2,
   "id": "83fa6270",
   "metadata": {},
   "outputs": [],
   "source": [
    "# rgbp = 6\n",
    "model = Face_Detection_Model(6).to('cuda')   "
   ]
  },
  {
   "cell_type": "code",
   "execution_count": 3,
   "id": "1a6c0261",
   "metadata": {},
   "outputs": [],
   "source": [
    "model2 = Face_Detection_Model(3).to('cuda')   "
   ]
  },
  {
   "cell_type": "code",
   "execution_count": null,
   "id": "104a5c53",
   "metadata": {},
   "outputs": [],
   "source": []
  },
  {
   "cell_type": "code",
   "execution_count": 4,
   "id": "c80c9c73",
   "metadata": {},
   "outputs": [],
   "source": [
    "model = Face_Detection_Model(6).to('cuda')   \n",
    "\n",
    "del model.bn1\n",
    "del model.layer1[0].bn1\n",
    "del model.layer1[0].bn2\n",
    "del model.layer1[1].bn1\n",
    "del model.layer1[1].bn2\n",
    "del model.layer1[2].bn1\n",
    "del model.layer1[2].bn2\n",
    "\n",
    "del model.layer2[0].bn1\n",
    "del model.layer2[0].bn2\n",
    "del model.layer2[0].downsample[1]\n",
    "del model.layer2[1].bn1\n",
    "del model.layer2[1].bn2\n",
    "del model.layer2[2].bn1\n",
    "del model.layer2[2].bn2\n",
    "del model.layer2[3].bn1\n",
    "del model.layer2[3].bn2\n",
    "\n",
    "del model.layer3[0].bn1\n",
    "del model.layer3[0].bn2\n",
    "del model.layer3[0].downsample[1]\n",
    "del model.layer3[1].bn1\n",
    "del model.layer3[1].bn2\n",
    "del model.layer3[2].bn1\n",
    "del model.layer3[2].bn2\n",
    "del model.layer3[3].bn1\n",
    "del model.layer3[3].bn2\n",
    "del model.layer3[4].bn1\n",
    "del model.layer3[4].bn2\n",
    "del model.layer3[5].bn1\n",
    "del model.layer3[5].bn2\n",
    "\n",
    "del model.layer4[0].bn1\n",
    "del model.layer4[0].bn2\n",
    "del model.layer4[0].downsample[1]\n",
    "del model.layer4[1].bn1\n",
    "del model.layer4[1].bn2\n",
    "del model.layer4[2].bn1\n",
    "del model.layer4[2].bn2"
   ]
  },
  {
   "cell_type": "code",
   "execution_count": null,
   "id": "0dd50d14",
   "metadata": {},
   "outputs": [],
   "source": []
  },
  {
   "cell_type": "code",
   "execution_count": 5,
   "id": "7171ec29",
   "metadata": {},
   "outputs": [
    {
     "ename": "ZeroDivisionError",
     "evalue": "division by zero",
     "output_type": "error",
     "traceback": [
      "\u001b[0;31m---------------------------------------------------------------------------\u001b[0m",
      "\u001b[0;31mZeroDivisionError\u001b[0m                         Traceback (most recent call last)",
      "\u001b[0;32m<ipython-input-5-f6cc6d14333b>\u001b[0m in \u001b[0;36m<module>\u001b[0;34m\u001b[0m\n\u001b[0;32m----> 1\u001b[0;31m \u001b[0;36m3\u001b[0m\u001b[0;34m/\u001b[0m\u001b[0;36m0\u001b[0m\u001b[0;34m\u001b[0m\u001b[0;34m\u001b[0m\u001b[0m\n\u001b[0m",
      "\u001b[0;31mZeroDivisionError\u001b[0m: division by zero"
     ]
    }
   ],
   "source": [
    "3/0"
   ]
  },
  {
   "cell_type": "code",
   "execution_count": null,
   "id": "9e1d3dc4",
   "metadata": {},
   "outputs": [],
   "source": []
  },
  {
   "cell_type": "code",
   "execution_count": null,
   "id": "9be75d52",
   "metadata": {},
   "outputs": [],
   "source": []
  },
  {
   "cell_type": "code",
   "execution_count": null,
   "id": "1851b247",
   "metadata": {},
   "outputs": [],
   "source": []
  },
  {
   "cell_type": "code",
   "execution_count": 6,
   "id": "d83ae61b",
   "metadata": {},
   "outputs": [],
   "source": [
    "from torchsummary import summary\n"
   ]
  },
  {
   "cell_type": "code",
   "execution_count": 7,
   "id": "eeb6e470",
   "metadata": {
    "scrolled": true
   },
   "outputs": [
    {
     "ename": "AttributeError",
     "evalue": "'ResNet' object has no attribute 'bn1'",
     "output_type": "error",
     "traceback": [
      "\u001b[0;31m---------------------------------------------------------------------------\u001b[0m",
      "\u001b[0;31mAttributeError\u001b[0m                            Traceback (most recent call last)",
      "\u001b[0;32m<ipython-input-7-b3f9da99d19e>\u001b[0m in \u001b[0;36m<module>\u001b[0;34m\u001b[0m\n\u001b[0;32m----> 1\u001b[0;31m \u001b[0msummary\u001b[0m\u001b[0;34m(\u001b[0m\u001b[0mmodel\u001b[0m\u001b[0;34m,\u001b[0m \u001b[0;34m(\u001b[0m\u001b[0;36m6\u001b[0m\u001b[0;34m,\u001b[0m \u001b[0;36m28\u001b[0m\u001b[0;34m,\u001b[0m \u001b[0;36m28\u001b[0m\u001b[0;34m)\u001b[0m\u001b[0;34m)\u001b[0m\u001b[0;34m\u001b[0m\u001b[0;34m\u001b[0m\u001b[0m\n\u001b[0m",
      "\u001b[0;32m~/anaconda3/envs/yrkim/lib/python3.6/site-packages/torchsummary/torchsummary.py\u001b[0m in \u001b[0;36msummary\u001b[0;34m(model, input_size, batch_size, device)\u001b[0m\n\u001b[1;32m     70\u001b[0m     \u001b[0;31m# make a forward pass\u001b[0m\u001b[0;34m\u001b[0m\u001b[0;34m\u001b[0m\u001b[0;34m\u001b[0m\u001b[0m\n\u001b[1;32m     71\u001b[0m     \u001b[0;31m# print(x.shape)\u001b[0m\u001b[0;34m\u001b[0m\u001b[0;34m\u001b[0m\u001b[0;34m\u001b[0m\u001b[0m\n\u001b[0;32m---> 72\u001b[0;31m     \u001b[0mmodel\u001b[0m\u001b[0;34m(\u001b[0m\u001b[0;34m*\u001b[0m\u001b[0mx\u001b[0m\u001b[0;34m)\u001b[0m\u001b[0;34m\u001b[0m\u001b[0;34m\u001b[0m\u001b[0m\n\u001b[0m\u001b[1;32m     73\u001b[0m \u001b[0;34m\u001b[0m\u001b[0m\n\u001b[1;32m     74\u001b[0m     \u001b[0;31m# remove these hooks\u001b[0m\u001b[0;34m\u001b[0m\u001b[0;34m\u001b[0m\u001b[0;34m\u001b[0m\u001b[0m\n",
      "\u001b[0;32m~/anaconda3/envs/yrkim/lib/python3.6/site-packages/torch/nn/modules/module.py\u001b[0m in \u001b[0;36m_call_impl\u001b[0;34m(self, *input, **kwargs)\u001b[0m\n\u001b[1;32m   1100\u001b[0m         if not (self._backward_hooks or self._forward_hooks or self._forward_pre_hooks or _global_backward_hooks\n\u001b[1;32m   1101\u001b[0m                 or _global_forward_hooks or _global_forward_pre_hooks):\n\u001b[0;32m-> 1102\u001b[0;31m             \u001b[0;32mreturn\u001b[0m \u001b[0mforward_call\u001b[0m\u001b[0;34m(\u001b[0m\u001b[0;34m*\u001b[0m\u001b[0minput\u001b[0m\u001b[0;34m,\u001b[0m \u001b[0;34m**\u001b[0m\u001b[0mkwargs\u001b[0m\u001b[0;34m)\u001b[0m\u001b[0;34m\u001b[0m\u001b[0;34m\u001b[0m\u001b[0m\n\u001b[0m\u001b[1;32m   1103\u001b[0m         \u001b[0;31m# Do not call functions when jit is used\u001b[0m\u001b[0;34m\u001b[0m\u001b[0;34m\u001b[0m\u001b[0;34m\u001b[0m\u001b[0m\n\u001b[1;32m   1104\u001b[0m         \u001b[0mfull_backward_hooks\u001b[0m\u001b[0;34m,\u001b[0m \u001b[0mnon_full_backward_hooks\u001b[0m \u001b[0;34m=\u001b[0m \u001b[0;34m[\u001b[0m\u001b[0;34m]\u001b[0m\u001b[0;34m,\u001b[0m \u001b[0;34m[\u001b[0m\u001b[0;34m]\u001b[0m\u001b[0;34m\u001b[0m\u001b[0;34m\u001b[0m\u001b[0m\n",
      "\u001b[0;32m/mnt/nas3/yrkim/liveness_lidar_project/GC_project/bc_code/models/Network.py\u001b[0m in \u001b[0;36mforward\u001b[0;34m(self, x)\u001b[0m\n\u001b[1;32m    199\u001b[0m \u001b[0;34m\u001b[0m\u001b[0m\n\u001b[1;32m    200\u001b[0m     \u001b[0;32mdef\u001b[0m \u001b[0mforward\u001b[0m\u001b[0;34m(\u001b[0m\u001b[0mself\u001b[0m\u001b[0;34m,\u001b[0m \u001b[0mx\u001b[0m\u001b[0;34m)\u001b[0m\u001b[0;34m:\u001b[0m\u001b[0;34m\u001b[0m\u001b[0;34m\u001b[0m\u001b[0m\n\u001b[0;32m--> 201\u001b[0;31m         \u001b[0;32mreturn\u001b[0m \u001b[0mself\u001b[0m\u001b[0;34m.\u001b[0m\u001b[0m_forward_impl\u001b[0m\u001b[0;34m(\u001b[0m\u001b[0mx\u001b[0m\u001b[0;34m)\u001b[0m\u001b[0;34m\u001b[0m\u001b[0;34m\u001b[0m\u001b[0m\n\u001b[0m\u001b[1;32m    202\u001b[0m \u001b[0;34m\u001b[0m\u001b[0m\n\u001b[1;32m    203\u001b[0m \u001b[0;32mdef\u001b[0m \u001b[0m_resnet\u001b[0m\u001b[0;34m(\u001b[0m\u001b[0march\u001b[0m\u001b[0;34m,\u001b[0m \u001b[0mblock\u001b[0m\u001b[0;34m,\u001b[0m \u001b[0mlayers\u001b[0m\u001b[0;34m,\u001b[0m \u001b[0mpretrained\u001b[0m\u001b[0;34m,\u001b[0m \u001b[0mprogress\u001b[0m\u001b[0;34m,\u001b[0m \u001b[0;34m**\u001b[0m\u001b[0mkwargs\u001b[0m\u001b[0;34m)\u001b[0m\u001b[0;34m:\u001b[0m\u001b[0;34m\u001b[0m\u001b[0;34m\u001b[0m\u001b[0m\n",
      "\u001b[0;32m/mnt/nas3/yrkim/liveness_lidar_project/GC_project/bc_code/models/Network.py\u001b[0m in \u001b[0;36m_forward_impl\u001b[0;34m(self, x)\u001b[0m\n\u001b[1;32m    183\u001b[0m         \u001b[0;31m# See note [TorchScript super()]\u001b[0m\u001b[0;34m\u001b[0m\u001b[0;34m\u001b[0m\u001b[0;34m\u001b[0m\u001b[0m\n\u001b[1;32m    184\u001b[0m         \u001b[0mx\u001b[0m \u001b[0;34m=\u001b[0m \u001b[0mself\u001b[0m\u001b[0;34m.\u001b[0m\u001b[0mconv1\u001b[0m\u001b[0;34m(\u001b[0m\u001b[0mx\u001b[0m\u001b[0;34m)\u001b[0m\u001b[0;34m\u001b[0m\u001b[0;34m\u001b[0m\u001b[0m\n\u001b[0;32m--> 185\u001b[0;31m         \u001b[0mx\u001b[0m \u001b[0;34m=\u001b[0m \u001b[0mself\u001b[0m\u001b[0;34m.\u001b[0m\u001b[0mbn1\u001b[0m\u001b[0;34m(\u001b[0m\u001b[0mx\u001b[0m\u001b[0;34m)\u001b[0m\u001b[0;34m\u001b[0m\u001b[0;34m\u001b[0m\u001b[0m\n\u001b[0m\u001b[1;32m    186\u001b[0m         \u001b[0mx\u001b[0m \u001b[0;34m=\u001b[0m \u001b[0mself\u001b[0m\u001b[0;34m.\u001b[0m\u001b[0mrelu\u001b[0m\u001b[0;34m(\u001b[0m\u001b[0mx\u001b[0m\u001b[0;34m)\u001b[0m\u001b[0;34m\u001b[0m\u001b[0;34m\u001b[0m\u001b[0m\n\u001b[1;32m    187\u001b[0m         \u001b[0mx\u001b[0m \u001b[0;34m=\u001b[0m \u001b[0mself\u001b[0m\u001b[0;34m.\u001b[0m\u001b[0mmaxpool\u001b[0m\u001b[0;34m(\u001b[0m\u001b[0mx\u001b[0m\u001b[0;34m)\u001b[0m\u001b[0;34m\u001b[0m\u001b[0;34m\u001b[0m\u001b[0m\n",
      "\u001b[0;32m~/anaconda3/envs/yrkim/lib/python3.6/site-packages/torch/nn/modules/module.py\u001b[0m in \u001b[0;36m__getattr__\u001b[0;34m(self, name)\u001b[0m\n\u001b[1;32m   1176\u001b[0m                 \u001b[0;32mreturn\u001b[0m \u001b[0mmodules\u001b[0m\u001b[0;34m[\u001b[0m\u001b[0mname\u001b[0m\u001b[0;34m]\u001b[0m\u001b[0;34m\u001b[0m\u001b[0;34m\u001b[0m\u001b[0m\n\u001b[1;32m   1177\u001b[0m         raise AttributeError(\"'{}' object has no attribute '{}'\".format(\n\u001b[0;32m-> 1178\u001b[0;31m             type(self).__name__, name))\n\u001b[0m\u001b[1;32m   1179\u001b[0m \u001b[0;34m\u001b[0m\u001b[0m\n\u001b[1;32m   1180\u001b[0m     \u001b[0;32mdef\u001b[0m \u001b[0m__setattr__\u001b[0m\u001b[0;34m(\u001b[0m\u001b[0mself\u001b[0m\u001b[0;34m,\u001b[0m \u001b[0mname\u001b[0m\u001b[0;34m:\u001b[0m \u001b[0mstr\u001b[0m\u001b[0;34m,\u001b[0m \u001b[0mvalue\u001b[0m\u001b[0;34m:\u001b[0m \u001b[0mUnion\u001b[0m\u001b[0;34m[\u001b[0m\u001b[0mTensor\u001b[0m\u001b[0;34m,\u001b[0m \u001b[0;34m'Module'\u001b[0m\u001b[0;34m]\u001b[0m\u001b[0;34m)\u001b[0m \u001b[0;34m->\u001b[0m \u001b[0;32mNone\u001b[0m\u001b[0;34m:\u001b[0m\u001b[0;34m\u001b[0m\u001b[0;34m\u001b[0m\u001b[0m\n",
      "\u001b[0;31mAttributeError\u001b[0m: 'ResNet' object has no attribute 'bn1'"
     ]
    }
   ],
   "source": [
    "summary(model, (6, 28, 28))"
   ]
  },
  {
   "cell_type": "code",
   "execution_count": null,
   "id": "661e6277",
   "metadata": {},
   "outputs": [],
   "source": []
  },
  {
   "cell_type": "code",
   "execution_count": 8,
   "id": "26d3d418",
   "metadata": {},
   "outputs": [
    {
     "name": "stdout",
     "output_type": "stream",
     "text": [
      "----------------------------------------------------------------\n",
      "        Layer (type)               Output Shape         Param #\n",
      "================================================================\n",
      "            Conv2d-1           [-1, 64, 14, 14]           9,408\n",
      "       BatchNorm2d-2           [-1, 64, 14, 14]             128\n",
      "              ReLU-3           [-1, 64, 14, 14]               0\n",
      "         MaxPool2d-4             [-1, 64, 7, 7]               0\n",
      "            Conv2d-5             [-1, 64, 7, 7]          36,864\n",
      "       BatchNorm2d-6             [-1, 64, 7, 7]             128\n",
      "              ReLU-7             [-1, 64, 7, 7]               0\n",
      "            Conv2d-8             [-1, 64, 7, 7]          36,864\n",
      "       BatchNorm2d-9             [-1, 64, 7, 7]             128\n",
      "             ReLU-10             [-1, 64, 7, 7]               0\n",
      "       BasicBlock-11             [-1, 64, 7, 7]               0\n",
      "           Conv2d-12             [-1, 64, 7, 7]          36,864\n",
      "      BatchNorm2d-13             [-1, 64, 7, 7]             128\n",
      "             ReLU-14             [-1, 64, 7, 7]               0\n",
      "           Conv2d-15             [-1, 64, 7, 7]          36,864\n",
      "      BatchNorm2d-16             [-1, 64, 7, 7]             128\n",
      "             ReLU-17             [-1, 64, 7, 7]               0\n",
      "       BasicBlock-18             [-1, 64, 7, 7]               0\n",
      "           Conv2d-19             [-1, 64, 7, 7]          36,864\n",
      "      BatchNorm2d-20             [-1, 64, 7, 7]             128\n",
      "             ReLU-21             [-1, 64, 7, 7]               0\n",
      "           Conv2d-22             [-1, 64, 7, 7]          36,864\n",
      "      BatchNorm2d-23             [-1, 64, 7, 7]             128\n",
      "             ReLU-24             [-1, 64, 7, 7]               0\n",
      "       BasicBlock-25             [-1, 64, 7, 7]               0\n",
      "           Conv2d-26            [-1, 128, 4, 4]          73,728\n",
      "      BatchNorm2d-27            [-1, 128, 4, 4]             256\n",
      "             ReLU-28            [-1, 128, 4, 4]               0\n",
      "           Conv2d-29            [-1, 128, 4, 4]         147,456\n",
      "      BatchNorm2d-30            [-1, 128, 4, 4]             256\n",
      "           Conv2d-31            [-1, 128, 4, 4]           8,192\n",
      "      BatchNorm2d-32            [-1, 128, 4, 4]             256\n",
      "             ReLU-33            [-1, 128, 4, 4]               0\n",
      "       BasicBlock-34            [-1, 128, 4, 4]               0\n",
      "           Conv2d-35            [-1, 128, 4, 4]         147,456\n",
      "      BatchNorm2d-36            [-1, 128, 4, 4]             256\n",
      "             ReLU-37            [-1, 128, 4, 4]               0\n",
      "           Conv2d-38            [-1, 128, 4, 4]         147,456\n",
      "      BatchNorm2d-39            [-1, 128, 4, 4]             256\n",
      "             ReLU-40            [-1, 128, 4, 4]               0\n",
      "       BasicBlock-41            [-1, 128, 4, 4]               0\n",
      "           Conv2d-42            [-1, 128, 4, 4]         147,456\n",
      "      BatchNorm2d-43            [-1, 128, 4, 4]             256\n",
      "             ReLU-44            [-1, 128, 4, 4]               0\n",
      "           Conv2d-45            [-1, 128, 4, 4]         147,456\n",
      "      BatchNorm2d-46            [-1, 128, 4, 4]             256\n",
      "             ReLU-47            [-1, 128, 4, 4]               0\n",
      "       BasicBlock-48            [-1, 128, 4, 4]               0\n",
      "           Conv2d-49            [-1, 128, 4, 4]         147,456\n",
      "      BatchNorm2d-50            [-1, 128, 4, 4]             256\n",
      "             ReLU-51            [-1, 128, 4, 4]               0\n",
      "           Conv2d-52            [-1, 128, 4, 4]         147,456\n",
      "      BatchNorm2d-53            [-1, 128, 4, 4]             256\n",
      "             ReLU-54            [-1, 128, 4, 4]               0\n",
      "       BasicBlock-55            [-1, 128, 4, 4]               0\n",
      "           Conv2d-56            [-1, 256, 2, 2]         294,912\n",
      "      BatchNorm2d-57            [-1, 256, 2, 2]             512\n",
      "             ReLU-58            [-1, 256, 2, 2]               0\n",
      "           Conv2d-59            [-1, 256, 2, 2]         589,824\n",
      "      BatchNorm2d-60            [-1, 256, 2, 2]             512\n",
      "           Conv2d-61            [-1, 256, 2, 2]          32,768\n",
      "      BatchNorm2d-62            [-1, 256, 2, 2]             512\n",
      "             ReLU-63            [-1, 256, 2, 2]               0\n",
      "       BasicBlock-64            [-1, 256, 2, 2]               0\n",
      "           Conv2d-65            [-1, 256, 2, 2]         589,824\n",
      "      BatchNorm2d-66            [-1, 256, 2, 2]             512\n",
      "             ReLU-67            [-1, 256, 2, 2]               0\n",
      "           Conv2d-68            [-1, 256, 2, 2]         589,824\n",
      "      BatchNorm2d-69            [-1, 256, 2, 2]             512\n",
      "             ReLU-70            [-1, 256, 2, 2]               0\n",
      "       BasicBlock-71            [-1, 256, 2, 2]               0\n",
      "           Conv2d-72            [-1, 256, 2, 2]         589,824\n",
      "      BatchNorm2d-73            [-1, 256, 2, 2]             512\n",
      "             ReLU-74            [-1, 256, 2, 2]               0\n",
      "           Conv2d-75            [-1, 256, 2, 2]         589,824\n",
      "      BatchNorm2d-76            [-1, 256, 2, 2]             512\n",
      "             ReLU-77            [-1, 256, 2, 2]               0\n",
      "       BasicBlock-78            [-1, 256, 2, 2]               0\n",
      "           Conv2d-79            [-1, 256, 2, 2]         589,824\n",
      "      BatchNorm2d-80            [-1, 256, 2, 2]             512\n",
      "             ReLU-81            [-1, 256, 2, 2]               0\n",
      "           Conv2d-82            [-1, 256, 2, 2]         589,824\n",
      "      BatchNorm2d-83            [-1, 256, 2, 2]             512\n",
      "             ReLU-84            [-1, 256, 2, 2]               0\n",
      "       BasicBlock-85            [-1, 256, 2, 2]               0\n",
      "           Conv2d-86            [-1, 256, 2, 2]         589,824\n",
      "      BatchNorm2d-87            [-1, 256, 2, 2]             512\n",
      "             ReLU-88            [-1, 256, 2, 2]               0\n",
      "           Conv2d-89            [-1, 256, 2, 2]         589,824\n",
      "      BatchNorm2d-90            [-1, 256, 2, 2]             512\n",
      "             ReLU-91            [-1, 256, 2, 2]               0\n",
      "       BasicBlock-92            [-1, 256, 2, 2]               0\n",
      "           Conv2d-93            [-1, 256, 2, 2]         589,824\n",
      "      BatchNorm2d-94            [-1, 256, 2, 2]             512\n",
      "             ReLU-95            [-1, 256, 2, 2]               0\n",
      "           Conv2d-96            [-1, 256, 2, 2]         589,824\n",
      "      BatchNorm2d-97            [-1, 256, 2, 2]             512\n",
      "             ReLU-98            [-1, 256, 2, 2]               0\n",
      "       BasicBlock-99            [-1, 256, 2, 2]               0\n",
      "          Conv2d-100            [-1, 512, 1, 1]       1,179,648\n",
      "     BatchNorm2d-101            [-1, 512, 1, 1]           1,024\n",
      "            ReLU-102            [-1, 512, 1, 1]               0\n",
      "          Conv2d-103            [-1, 512, 1, 1]       2,359,296\n",
      "     BatchNorm2d-104            [-1, 512, 1, 1]           1,024\n",
      "          Conv2d-105            [-1, 512, 1, 1]         131,072\n",
      "     BatchNorm2d-106            [-1, 512, 1, 1]           1,024\n",
      "            ReLU-107            [-1, 512, 1, 1]               0\n",
      "      BasicBlock-108            [-1, 512, 1, 1]               0\n",
      "          Conv2d-109            [-1, 512, 1, 1]       2,359,296\n",
      "     BatchNorm2d-110            [-1, 512, 1, 1]           1,024\n",
      "            ReLU-111            [-1, 512, 1, 1]               0\n",
      "          Conv2d-112            [-1, 512, 1, 1]       2,359,296\n",
      "     BatchNorm2d-113            [-1, 512, 1, 1]           1,024\n",
      "            ReLU-114            [-1, 512, 1, 1]               0\n",
      "      BasicBlock-115            [-1, 512, 1, 1]               0\n",
      "          Conv2d-116            [-1, 512, 1, 1]       2,359,296\n",
      "     BatchNorm2d-117            [-1, 512, 1, 1]           1,024\n",
      "            ReLU-118            [-1, 512, 1, 1]               0\n",
      "          Conv2d-119            [-1, 512, 1, 1]       2,359,296\n",
      "     BatchNorm2d-120            [-1, 512, 1, 1]           1,024\n",
      "            ReLU-121            [-1, 512, 1, 1]               0\n",
      "      BasicBlock-122            [-1, 512, 1, 1]               0\n",
      "AdaptiveAvgPool2d-123            [-1, 512, 1, 1]               0\n",
      "          Linear-124                    [-1, 2]           1,026\n",
      "================================================================\n",
      "Total params: 21,285,698\n",
      "Trainable params: 21,285,698\n",
      "Non-trainable params: 0\n",
      "----------------------------------------------------------------\n",
      "Input size (MB): 0.01\n",
      "Forward/backward pass size (MB): 1.72\n",
      "Params size (MB): 81.20\n",
      "Estimated Total Size (MB): 82.93\n",
      "----------------------------------------------------------------\n"
     ]
    }
   ],
   "source": [
    "summary(model2, (3, 28, 28))"
   ]
  },
  {
   "cell_type": "code",
   "execution_count": null,
   "id": "c7b28b0d",
   "metadata": {},
   "outputs": [],
   "source": []
  },
  {
   "cell_type": "code",
   "execution_count": null,
   "id": "ffa2ec8a",
   "metadata": {},
   "outputs": [],
   "source": []
  },
  {
   "cell_type": "code",
   "execution_count": null,
   "id": "10772fac",
   "metadata": {},
   "outputs": [],
   "source": []
  }
 ],
 "metadata": {
  "kernelspec": {
   "display_name": "yrkim",
   "language": "python",
   "name": "yrkim"
  },
  "language_info": {
   "codemirror_mode": {
    "name": "ipython",
    "version": 3
   },
   "file_extension": ".py",
   "mimetype": "text/x-python",
   "name": "python",
   "nbconvert_exporter": "python",
   "pygments_lexer": "ipython3",
   "version": "3.6.13"
  }
 },
 "nbformat": 4,
 "nbformat_minor": 5
}
