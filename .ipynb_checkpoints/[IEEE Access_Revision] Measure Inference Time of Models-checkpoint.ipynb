{
 "cells": [
  {
   "cell_type": "code",
   "execution_count": 21,
   "metadata": {},
   "outputs": [],
   "source": [
    "import torch\n",
    "from models.Network import Face_Detection_Model, rgbdp_v2_twostep_model, rgbdp_v3_twostep_model\n",
    "import numpy as np\n",
    "from torch.utils.data import Dataset, DataLoader\n",
    "from torchvision import transforms as T \n",
    "import os\n",
    "import os.path as osp\n",
    "import cv2"
   ]
  },
  {
   "cell_type": "code",
   "execution_count": 3,
   "metadata": {},
   "outputs": [],
   "source": [
    "rgb_model = Face_Detection_Model(3).to('cuda:0').eval()\n",
    "lidar_model = rgbdp_v3_twostep_model(device='cuda:0').eval()\n",
    "cloudnet_model = rgbdp_v2_twostep_model(device='cuda:0').eval()"
   ]
  },
  {
   "cell_type": "code",
   "execution_count": 4,
   "metadata": {},
   "outputs": [],
   "source": [
    "dummy_rgb = torch.cuda.FloatTensor(4, 3, 180, 180)\n",
    "dummy_depth = torch.cuda.FloatTensor(4, 1, 180, 180)\n",
    "dummy_cloud = torch.cuda.FloatTensor(4, 3, 180, 180)"
   ]
  },
  {
   "cell_type": "code",
   "execution_count": null,
   "metadata": {},
   "outputs": [],
   "source": []
  },
  {
   "cell_type": "code",
   "execution_count": 30,
   "metadata": {},
   "outputs": [
    {
     "name": "stdout",
     "output_type": "stream",
     "text": [
      "[1.13044131]\n"
     ]
    }
   ],
   "source": [
    "starter, ender = torch.cuda.Event(enable_timing=True), torch.cuda.Event(enable_timing=True)\n",
    "repetitions = 300\n",
    "timings=np.zeros((repetitions,1))\n",
    "    \n",
    "# MEASURE PERFORMANCE\n",
    "with torch.no_grad():\n",
    "    for rep in range(repetitions):\n",
    "        starter.record()\n",
    "        _ = rgb_model(dummy_rgb)\n",
    "        ender.record()\n",
    "        # WAIT FOR GPU SYNC\n",
    "        torch.cuda.synchronize()\n",
    "        curr_time = starter.elapsed_time(ender)\n",
    "        timings[rep] = curr_time\n",
    "\n",
    "print(sum(timings)/1000)"
   ]
  },
  {
   "cell_type": "code",
   "execution_count": 31,
   "metadata": {},
   "outputs": [
    {
     "name": "stdout",
     "output_type": "stream",
     "text": [
      "[1.13834649]\n"
     ]
    }
   ],
   "source": [
    "starter, ender = torch.cuda.Event(enable_timing=True), torch.cuda.Event(enable_timing=True)\n",
    "repetitions = 300\n",
    "timings=np.zeros((repetitions,1))\n",
    "    \n",
    "# MEASURE PERFORMANCE\n",
    "with torch.no_grad():\n",
    "    for rep in range(repetitions):\n",
    "        starter.record()\n",
    "        _ = lidar_model(dummy_rgb, dummy_depth, dummy_cloud)\n",
    "        ender.record()\n",
    "        # WAIT FOR GPU SYNC\n",
    "        torch.cuda.synchronize()\n",
    "        curr_time = starter.elapsed_time(ender)\n",
    "        timings[rep] = curr_time\n",
    "\n",
    "print(sum(timings)/1000)"
   ]
  },
  {
   "cell_type": "code",
   "execution_count": 32,
   "metadata": {},
   "outputs": [
    {
     "name": "stdout",
     "output_type": "stream",
     "text": [
      "[2.27154058]\n"
     ]
    }
   ],
   "source": [
    "starter, ender = torch.cuda.Event(enable_timing=True), torch.cuda.Event(enable_timing=True)\n",
    "repetitions = 300\n",
    "timings=np.zeros((repetitions,1))\n",
    "    \n",
    "# MEASURE PERFORMANCE\n",
    "with torch.no_grad():\n",
    "    for rep in range(repetitions):\n",
    "        starter.record()\n",
    "        _ = cloudnet_model(dummy_rgb, dummy_depth, dummy_cloud)\n",
    "        ender.record()\n",
    "        # WAIT FOR GPU SYNC\n",
    "        torch.cuda.synchronize()\n",
    "        curr_time = starter.elapsed_time(ender)\n",
    "        timings[rep] = curr_time\n",
    "\n",
    "print(sum(timings)/1000)"
   ]
  },
  {
   "cell_type": "code",
   "execution_count": null,
   "metadata": {},
   "outputs": [],
   "source": [
    "1. cpu / gpu 둘다 해볼 것\n",
    "모바일넷 논문 참고할 것. \n",
    "\n",
    "2. gpu 를 스펙 낮은 gpu 에서. \n",
    "\n",
    "3. 모든 걸 할 땐 batch 사이즈 1개, gpu 1개 사용할 것. \n",
    "\n",
    "4. .py 파일만들고, 리눅스 상에서 타임체크할 것. \n",
    "서버 환경까지 적어줘야 함. \n",
    "\n",
    "\n"
   ]
  },
  {
   "cell_type": "code",
   "execution_count": 16,
   "metadata": {},
   "outputs": [],
   "source": [
    "class Face_Data(Dataset):\n",
    "\n",
    "    def __init__(self, data_paths, crop=False):\n",
    "        self.data_paths = data_paths\n",
    "        self.crop = crop\n",
    "        \n",
    "        normalize = T.Normalize(mean=[0.485, 0.456, 0.406],std = [0.229, 0.224, 0.225])\n",
    "        self.transforms = T.Compose([\n",
    "            T.ToTensor(),\n",
    "            normalize\n",
    "        ])   \n",
    "        self.transforms2 = T.Compose([\n",
    "            T.ToTensor()\n",
    "        ])               \n",
    "    \n",
    "    def __getitem__(self, index):\n",
    "        rgb_path = self.data_paths[index][0]\n",
    "        cloud_path = self.data_paths[index][1]\n",
    "        depth_path = self.data_paths[index][2]   \n",
    "             \n",
    "        # crop setting\n",
    "        crop_width = 90\n",
    "        crop_height = 150\n",
    "        mid_x, mid_y = 90, 90\n",
    "        offset_x, offset_y = crop_width//2, crop_height//2\n",
    "        \n",
    "        # RGB open and crop \n",
    "        rgb_data = cv2.imread(rgb_path)\n",
    "        rgb_data = cv2.cvtColor(rgb_data, cv2.COLOR_BGR2RGB)\n",
    "        rgb_data = cv2.resize(rgb_data, (180,180), interpolation=cv2.INTER_CUBIC)\n",
    "        if self.crop == True:\n",
    "            rgb_data = rgb_data[mid_y-offset_y:mid_y+offset_y, mid_x-offset_x:mid_x+offset_x]     \n",
    "        if self.transforms is not None :\n",
    "            rgb_data = self.transforms(rgb_data)\n",
    "            \n",
    "        # Depth open \n",
    "        depth_data = cv2.imread(depth_path)\n",
    "        depth_data = cv2.cvtColor(depth_data, cv2.COLOR_BGR2GRAY)\n",
    "        depth_data = cv2.resize(depth_data, (180,180), interpolation=cv2.INTER_CUBIC)        \n",
    "        if self.transforms2 is not None :\n",
    "            depth_data = self.transforms2(depth_data)            \n",
    "            \n",
    "        # Point Cloud(192, 256, 3) open and crop \n",
    "        cloud_data = np.load(cloud_path)\n",
    "        cloud_data = cv2.resize(cloud_data, (180,180), interpolation=cv2.INTER_CUBIC)\n",
    "        cloud_data += 5\n",
    "        if self.crop == True:\n",
    "            cloud_data = cloud_data[mid_y-offset_y:mid_y+offset_y, mid_x-offset_x:mid_x+offset_x]\n",
    "        \n",
    "        # Point Cloud and Depth Scaling\n",
    "        shift_value = 0\n",
    "        xcoor = np.array(cloud_data[:, :, 0] + shift_value)\n",
    "        ycoor = np.array(cloud_data[:, :, 1] + shift_value)\n",
    "        zcoor = np.array(cloud_data[:, :, 2] + shift_value)\n",
    "        # depth = np.array(cloud_data[:, :, 3] + shift_value)  \n",
    "        \n",
    "        # Min Max         \n",
    "        xcoor = (xcoor-xcoor.min())/(xcoor.max()-xcoor.min())\n",
    "        ycoor = (ycoor-ycoor.min())/(ycoor.max()-ycoor.min())\n",
    "        zcoor = (zcoor-zcoor.min())/(zcoor.max()-zcoor.min())\n",
    "        # depth = (depth-depth.min())/(depth.max()-depth.min())  \n",
    "        \n",
    "        scaled_cloud_data = np.concatenate([xcoor[np.newaxis,:],ycoor[np.newaxis,:],zcoor[np.newaxis,:]]) \n",
    "        # scaled_depth_data = depth[np.newaxis,:]\n",
    "        \n",
    "        # label - { 0 : real , 1 : mask }\n",
    "        if 'bonafide' in rgb_path :\n",
    "            label = 0\n",
    "        elif 'attack_mask' in rgb_path :\n",
    "            label = 1\n",
    "        elif 'attack_replay' in rgb_path :\n",
    "            label = 1\n",
    "        elif 'attack_paper' in rgb_path :\n",
    "            label = 1\n",
    "        # return rgb_data, scaled_cloud_data, scaled_depth_data, label\n",
    "        return rgb_data, scaled_cloud_data, depth_data, label\n",
    "    def __len__(self):\n",
    "        return len(self.data_paths)\n"
   ]
  },
  {
   "cell_type": "code",
   "execution_count": 22,
   "metadata": {},
   "outputs": [],
   "source": [
    "def load_dataset(): \n",
    "        \n",
    "    ## Input : RGB(3-channel) + Depth(1-channel) + Point_Cloud(3-channel)\n",
    "    data_path = '/mnt/nas3/yrkim/liveness_lidar_project/GC_project/LDFAS/1. Indoor'\n",
    "    npy_path = '/mnt/nas3/yrkim/liveness_lidar_project/GC_project/LDFAS/NPY_Files/1. Indoor'\n",
    "\n",
    "    traindata_count = [1]\n",
    " \n",
    "    train_img_paths = []\n",
    "    for i in traindata_count :\n",
    "        img_path = osp.join(data_path, str(i), 'bonafide')\n",
    "        files = os.listdir(img_path)\n",
    "        rgbs = [j for j in files if (j.split('.')[-1]=='jpg') and (j.split('_')[0]=='rgb')]\n",
    "        depths = [j for j in files if (j.split('.')[-1]=='jpg') and (j.split('_')[0]=='depth')]\n",
    "        \n",
    "        # RGB \n",
    "        bonafide_files = [osp.join(data_path, str(i), 'bonafide', j) for j in rgbs]\n",
    "        paper_files= [osp.join(data_path, str(i), 'attack_paper', j) for j in rgbs]\n",
    "        replay_files= [osp.join(data_path, str(i), 'attack_replay', j) for j in rgbs]\n",
    "        mask_files= [osp.join(data_path, str(i), 'attack_mask', j) for j in rgbs]\n",
    "        \n",
    "        # Depth\n",
    "        bonafide_depths = [osp.join(data_path, str(i), 'bonafide', j) for j in depths]\n",
    "        paper_depths= [osp.join(data_path, str(i), 'attack_paper', j) for j in depths]\n",
    "        replay_depths= [osp.join(data_path, str(i), 'attack_replay', j) for j in depths]\n",
    "        mask_depths= [osp.join(data_path, str(i), 'attack_mask', j) for j in depths]       \n",
    "        \n",
    "        # Point Cloud\n",
    "        bonafide_cloud_files = [osp.join(npy_path, 'real_cloud_data',j.split('/')[-3], \n",
    "                                (('pc_'+j.split('/')[-1].split('_')[-1]).split('.')[0]+'.npy')) for j in bonafide_files]\n",
    "        paper_cloud_files = [osp.join(npy_path, 'paper_cloud_data',j.split('/')[-3], \n",
    "                                (('pc_'+j.split('/')[-1].split('_')[-1]).split('.')[0]+'.npy')) for j in paper_files]\n",
    "        replay_cloud_files = [osp.join(npy_path, 'replay_cloud_data',j.split('/')[-3], \n",
    "                                (('pc_'+j.split('/')[-1].split('_')[-1]).split('.')[0]+'.npy')) for j in replay_files]\n",
    "        mask_cloud_files = [osp.join(npy_path, 'mask_cloud_data',j.split('/')[-3], \n",
    "                                (('pc_'+j.split('/')[-1].split('_')[-1]).split('.')[0]+'.npy')) for j in mask_files]\n",
    "        \n",
    "        # bonafide\n",
    "        train_img_paths += list(zip(bonafide_files,bonafide_cloud_files,bonafide_depths))[:]\n",
    "        \n",
    "        # PAs\n",
    "        train_img_paths += list(zip(paper_files,paper_cloud_files,paper_depths))[:]\n",
    "        train_img_paths += list(zip(replay_files,replay_cloud_files,replay_depths))[:]\n",
    "        train_img_paths += list(zip(mask_files,mask_cloud_files,mask_depths))[:]\n",
    " \n",
    "    train_dataset=Face_Data(train_img_paths, False)\n",
    "\n",
    "    return train_dataset"
   ]
  },
  {
   "cell_type": "code",
   "execution_count": 23,
   "metadata": {},
   "outputs": [],
   "source": [
    "train_dataset = load_dataset()\n",
    "train_loader = DataLoader(train_dataset, batch_size=1, shuffle=False, num_workers=4, pin_memory=True)"
   ]
  },
  {
   "cell_type": "code",
   "execution_count": 24,
   "metadata": {},
   "outputs": [
    {
     "ename": "NameError",
     "evalue": "name 'repetitions' is not defined",
     "output_type": "error",
     "traceback": [
      "\u001b[0;31m---------------------------------------------------------------------------\u001b[0m",
      "\u001b[0;31mNameError\u001b[0m                                 Traceback (most recent call last)",
      "Input \u001b[0;32mIn [24]\u001b[0m, in \u001b[0;36m<cell line: 2>\u001b[0;34m()\u001b[0m\n\u001b[1;32m      1\u001b[0m \u001b[38;5;66;03m# MEASURE PERFORMANCE\u001b[39;00m\n\u001b[1;32m      2\u001b[0m \u001b[38;5;28;01mwith\u001b[39;00m torch\u001b[38;5;241m.\u001b[39mno_grad():\n\u001b[0;32m----> 3\u001b[0m     \u001b[38;5;28;01mfor\u001b[39;00m rep \u001b[38;5;129;01min\u001b[39;00m \u001b[38;5;28mrange\u001b[39m(\u001b[43mrepetitions\u001b[49m):\n\u001b[1;32m      4\u001b[0m         starter\u001b[38;5;241m.\u001b[39mrecord()\n\u001b[1;32m      5\u001b[0m         _ \u001b[38;5;241m=\u001b[39m rgb_model(dummy_rgb)\n",
      "\u001b[0;31mNameError\u001b[0m: name 'repetitions' is not defined"
     ]
    }
   ],
   "source": [
    "# MEASURE PERFORMANCE\n",
    "with torch.no_grad():\n",
    "    for rep in range(repetitions):\n",
    "        starter.record()\n",
    "        _ = rgb_model(dummy_rgb)\n",
    "        ender.record()\n",
    "        # WAIT FOR GPU SYNC\n",
    "        torch.cuda.synchronize()\n",
    "        curr_time = starter.elapsed_time(ender)\n",
    "        timings[rep] = curr_time\n",
    "\n",
    "print(sum(timings)/1000)"
   ]
  },
  {
   "cell_type": "code",
   "execution_count": 27,
   "metadata": {},
   "outputs": [
    {
     "name": "stdout",
     "output_type": "stream",
     "text": [
      "0\n",
      "1\n",
      "2\n",
      "3\n",
      "4\n",
      "5\n",
      "6\n",
      "7\n",
      "8\n",
      "9\n",
      "10\n",
      "11\n",
      "12\n",
      "13\n",
      "14\n",
      "15\n",
      "16\n",
      "17\n",
      "18\n",
      "19\n",
      "20\n",
      "21\n",
      "22\n",
      "23\n",
      "24\n",
      "25\n",
      "26\n",
      "27\n",
      "28\n",
      "29\n",
      "30\n",
      "31\n",
      "32\n",
      "33\n",
      "34\n",
      "35\n",
      "36\n",
      "37\n",
      "38\n",
      "39\n",
      "40\n",
      "41\n",
      "42\n",
      "43\n",
      "44\n",
      "45\n",
      "46\n",
      "47\n",
      "48\n",
      "49\n",
      "50\n",
      "51\n",
      "52\n",
      "53\n",
      "54\n",
      "55\n",
      "56\n",
      "57\n",
      "58\n",
      "59\n",
      "60\n",
      "61\n",
      "62\n",
      "63\n",
      "64\n",
      "65\n",
      "66\n",
      "67\n",
      "68\n",
      "69\n",
      "70\n",
      "71\n",
      "72\n",
      "73\n",
      "74\n",
      "75\n",
      "76\n",
      "77\n",
      "78\n",
      "79\n"
     ]
    }
   ],
   "source": [
    "for step, data in enumerate(train_loader) :  \n",
    "    rgb, cloud, depth, label = data\n",
    "    rgb = rgb.float().to('cuda:0') \n",
    "    cloud = cloud.float().to('cuda:0') \n",
    "    depth = depth.float().to('cuda:0') \n",
    "    label = label.float().to('cuda:0') \n",
    "    print(step)"
   ]
  },
  {
   "cell_type": "code",
   "execution_count": null,
   "metadata": {},
   "outputs": [],
   "source": []
  }
 ],
 "metadata": {
  "kernelspec": {
   "display_name": "Python 3 (ipykernel)",
   "language": "python",
   "name": "python3"
  },
  "language_info": {
   "codemirror_mode": {
    "name": "ipython",
    "version": 3
   },
   "file_extension": ".py",
   "mimetype": "text/x-python",
   "name": "python",
   "nbconvert_exporter": "python",
   "pygments_lexer": "ipython3",
   "version": "3.8.10"
  },
  "vscode": {
   "interpreter": {
    "hash": "612335445b59884117d59db647b17f4de1ad18c90f8d9b923a6ba1babb256810"
   }
  }
 },
 "nbformat": 4,
 "nbformat_minor": 2
}
