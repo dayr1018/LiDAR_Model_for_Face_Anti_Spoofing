{
 "cells": [
  {
   "cell_type": "code",
   "execution_count": 1,
   "id": "ab3fd8b6",
   "metadata": {},
   "outputs": [],
   "source": [
    "import time\n",
    "import argparse\n",
    "import os\n",
    "import matplotlib\n",
    "from torch.utils.data.dataset import ConcatDataset\n",
    "import numpy as np\n",
    "\n",
    "import torch\n",
    "import torch.nn as nn\n",
    "import torch.optim as optim\n",
    "import torch.nn.functional as F\n",
    "from torch.optim import lr_scheduler\n",
    "from torchvision import transforms \n",
    "from torch.utils.data.sampler import SubsetRandomSampler \n",
    "from sklearn.model_selection import StratifiedKFold\n",
    "from torch.utils.data import DataLoader\n",
    "\n",
    "from dataloader.dataloader_RGB import load_cisia_surf, CISIA_SURF\n",
    "# from data.dataloader_RGB_Depth import load_cisia_surf\n",
    "# from dataloader.dataloader_RGB_Depth_IR import load_cisia_surf\n",
    "\n",
    "from models.model_RGB import Model\n",
    "# from models.model_RGB_Depth import Model\n",
    "# from models.model_RGB_Depth_IR import Model\n",
    "\n",
    "from evalution import eval_model\n",
    "from centerloss import CenterLoss\n",
    "from utils import plot_figure, plot_roc_curve, plot_eval_metric\n",
    "from loger import Logger"
   ]
  },
  {
   "cell_type": "code",
   "execution_count": 11,
   "id": "842cc458",
   "metadata": {},
   "outputs": [],
   "source": [
    "transform = transforms.Compose([\n",
    "            transforms.Resize((124,124)),\n",
    "            transforms.ToTensor(),\n",
    "            transforms.Normalize([0.5,0.5,0.5],[0.5,0.5,0.5])\n",
    "        ])\n",
    "\n",
    "train_data=CISIA_SURF(datatxt='MakeTextFileCode_RGB/train_data_list.txt', transform=transform)\n",
    "test_data=CISIA_SURF(datatxt='MakeTextFileCode_RGB/test_data_list.txt', transform=transform)\n",
    "\n",
    "dataset = ConcatDataset([train_data, test_data])\n",
    "\n"
   ]
  },
  {
   "cell_type": "code",
   "execution_count": 13,
   "id": "75e81dc8",
   "metadata": {},
   "outputs": [
    {
     "name": "stdout",
     "output_type": "stream",
     "text": [
      "fold: 0, dataset: 8100\n",
      "fold: 1, dataset: 8100\n",
      "fold: 2, dataset: 8100\n"
     ]
    }
   ],
   "source": [
    "nparr_label = []\n",
    "for i in range(dataset.__len__()):\n",
    "    _, label = dataset.__getitem__(i)\n",
    "    np_label = label.numpy()\n",
    "    nparr_label = np.append(nparr_label, np_label)\n",
    "\n",
    "skf = StratifiedKFold(n_splits=3)\n",
    "\n",
    "for fold, (train_idx, test_idx) in enumerate(skf.split(dataset, nparr_label)):\n",
    "    train_sampler = SubsetRandomSampler(train_idx)\n",
    "    test_sampler = SubsetRandomSampler(test_idx)\n",
    "    train_loader = DataLoader(dataset=train_data, batch_size=64, sampler=train_sampler, num_workers=32)\n",
    "    test_loader = DataLoader(dataset=train_data, batch_size=64, sampler=test_sampler, num_workers=32)\n",
    "\n",
    "    print(f\"fold: {fold}, dataset: {len(dataset)}\")\n",
    "#     print(f\"fold: {fold}, train sampler: {len(train_sampler)}\")\n",
    "#     print(f\"fold: {fold}, test sampler: {len(test_sampler)}\")\n",
    "#     print(f\"fold: {fold}, train loader: {len(train_loader.dataset)}\")\n",
    "#     print(f\"fold: {fold}, test loader: {len(test_loader.dataset)}\")\n",
    "          \n"
   ]
  },
  {
   "cell_type": "code",
   "execution_count": null,
   "id": "33dc8602",
   "metadata": {},
   "outputs": [],
   "source": []
  }
 ],
 "metadata": {
  "kernelspec": {
   "display_name": "clothes",
   "language": "python",
   "name": "clothes"
  },
  "language_info": {
   "codemirror_mode": {
    "name": "ipython",
    "version": 3
   },
   "file_extension": ".py",
   "mimetype": "text/x-python",
   "name": "python",
   "nbconvert_exporter": "python",
   "pygments_lexer": "ipython3",
   "version": "3.7.11"
  }
 },
 "nbformat": 4,
 "nbformat_minor": 5
}
