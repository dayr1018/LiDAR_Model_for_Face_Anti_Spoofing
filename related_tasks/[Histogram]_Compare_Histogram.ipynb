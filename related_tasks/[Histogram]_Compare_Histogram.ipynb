{
 "cells": [
  {
   "cell_type": "code",
   "execution_count": 130,
   "id": "dc6e7eef",
   "metadata": {},
   "outputs": [],
   "source": [
    "import torch\n",
    "import torchvision.transforms as t\n",
    "from PIL import Image\n",
    "import plyfile as plyData\n",
    "from matplotlib import pyplot as plt\n",
    "import cv2\n",
    "import numpy as np\n",
    "from plyfile import PlyData\n",
    "import pandas as pd "
   ]
  },
  {
   "cell_type": "code",
   "execution_count": 174,
   "id": "78eca141",
   "metadata": {},
   "outputs": [],
   "source": [
    "# kok_path_rgb = \"k1_rgb.jpg\"\n",
    "# kok_path_pc = \"k1_pc.ply\"\n",
    "\n",
    "\n",
    "# kok_path_rgb = \"k2_rgb.jpg\"\n",
    "# kok_path_pc = \"k2_pc.ply\"\n",
    "\n",
    "kok_path_rgb = \"k3_rgb.jpg\"\n",
    "kok_path_pc = \"k3_pc.ply\"\n",
    "\n",
    "\n",
    "# kok_path_depth = \"rgb.jpg\"\n",
    "\n",
    "lnt_path_rgb = \"rgb.jpg\"\n",
    "# lnt_path_depth = \"rgb.jpg\"\n",
    "lnt_path_pc = \"rgb.jpg\"\n",
    "\n",
    "kok_image_rgb = Image.open(kok_path_rgb)\n",
    "lnt_image_rgb = Image.open(lnt_path_rgb)\n",
    "kok_rgb = cv2.imread(kok_path_rgb)\n",
    "# kok_depth \n",
    "# kok_pc\n",
    "lnt_rgb = cv2.imread(lnt_path_rgb)\n",
    "# lnt_depth\n",
    "# lnt_pc"
   ]
  },
  {
   "cell_type": "code",
   "execution_count": 175,
   "id": "12311961",
   "metadata": {},
   "outputs": [],
   "source": [
    "trans = t.Compose([\n",
    "    t.Resize((128,128))\n",
    "#     t.Resize((128,128)),\n",
    "#     t.RandomCrop((100,100)) # random 을 줄 수도 있다. \n",
    "])"
   ]
  },
  {
   "cell_type": "code",
   "execution_count": 176,
   "id": "9f73c865",
   "metadata": {
    "scrolled": true
   },
   "outputs": [
    {
     "data": {
      "image/png": "[encoded data removed]",
      "text/plain": [
       "<PIL.Image.Image image mode=RGB size=128x128 at 0x7F5D531ABCC0>"
      ]
     },
     "execution_count": 176,
     "metadata": {},
     "output_type": "execute_result"
    }
   ],
   "source": [
    "\n",
    "kok_image_rgb = trans(kok_image_rgb)\n",
    "kok_image_rgb"
   ]
  },
  {
   "cell_type": "code",
   "execution_count": 177,
   "id": "e017b71b",
   "metadata": {},
   "outputs": [
    {
     "data": {
      "text/plain": [
       "(128, 128, 3)"
      ]
     },
     "execution_count": 177,
     "metadata": {},
     "output_type": "execute_result"
    }
   ],
   "source": [
    "np_rgb = np.array(kok_image_rgb)\n",
    "np_rgb.shape\n",
    "\n",
    "# mean = np.mean(np_rgb, axis=(1,2), keepdims=True)\n",
    "# std = np.std(np_rgb, axis=(1,2), keepdims=True)\n",
    "# standardized_images_out = (np_rgb - mean) / std"
   ]
  },
  {
   "cell_type": "code",
   "execution_count": 178,
   "id": "3e81d287",
   "metadata": {
    "scrolled": true
   },
   "outputs": [
    {
     "data": {
      "text/html": [
       "<div>\n",
       "<style scoped>\n",
       "    .dataframe tbody tr th:only-of-type {\n",
       "        vertical-align: middle;\n",
       "    }\n",
       "\n",
       "    .dataframe tbody tr th {\n",
       "        vertical-align: top;\n",
       "    }\n",
       "\n",
       "    .dataframe thead th {\n",
       "        text-align: right;\n",
       "    }\n",
       "</style>\n",
       "<table border=\"1\" class=\"dataframe\">\n",
       "  <thead>\n",
       "    <tr style=\"text-align: right;\">\n",
       "      <th></th>\n",
       "      <th>x</th>\n",
       "      <th>y</th>\n",
       "      <th>z</th>\n",
       "      <th>red</th>\n",
       "      <th>green</th>\n",
       "      <th>blue</th>\n",
       "      <th>cx</th>\n",
       "      <th>cy</th>\n",
       "      <th>depth</th>\n",
       "      <th>alpha</th>\n",
       "    </tr>\n",
       "  </thead>\n",
       "  <tbody>\n",
       "    <tr>\n",
       "      <th>0</th>\n",
       "      <td>-10788.977539</td>\n",
       "      <td>-42241.937500</td>\n",
       "      <td>-23830.287109</td>\n",
       "      <td>0</td>\n",
       "      <td>0</td>\n",
       "      <td>0</td>\n",
       "      <td>0.0</td>\n",
       "      <td>0.0</td>\n",
       "      <td>0.609863</td>\n",
       "      <td>255</td>\n",
       "    </tr>\n",
       "    <tr>\n",
       "      <th>1</th>\n",
       "      <td>-10788.986328</td>\n",
       "      <td>-42241.941406</td>\n",
       "      <td>-23830.283203</td>\n",
       "      <td>0</td>\n",
       "      <td>0</td>\n",
       "      <td>0</td>\n",
       "      <td>0.0</td>\n",
       "      <td>1.0</td>\n",
       "      <td>0.602051</td>\n",
       "      <td>255</td>\n",
       "    </tr>\n",
       "    <tr>\n",
       "      <th>2</th>\n",
       "      <td>-10788.978516</td>\n",
       "      <td>-42241.937500</td>\n",
       "      <td>-23830.287109</td>\n",
       "      <td>0</td>\n",
       "      <td>0</td>\n",
       "      <td>0</td>\n",
       "      <td>0.0</td>\n",
       "      <td>2.0</td>\n",
       "      <td>0.608887</td>\n",
       "      <td>255</td>\n",
       "    </tr>\n",
       "    <tr>\n",
       "      <th>3</th>\n",
       "      <td>-10788.975586</td>\n",
       "      <td>-42241.937500</td>\n",
       "      <td>-23830.289062</td>\n",
       "      <td>0</td>\n",
       "      <td>0</td>\n",
       "      <td>0</td>\n",
       "      <td>0.0</td>\n",
       "      <td>3.0</td>\n",
       "      <td>0.612305</td>\n",
       "      <td>255</td>\n",
       "    </tr>\n",
       "    <tr>\n",
       "      <th>4</th>\n",
       "      <td>-10788.974609</td>\n",
       "      <td>-42241.937500</td>\n",
       "      <td>-23830.289062</td>\n",
       "      <td>0</td>\n",
       "      <td>0</td>\n",
       "      <td>0</td>\n",
       "      <td>0.0</td>\n",
       "      <td>4.0</td>\n",
       "      <td>0.612793</td>\n",
       "      <td>255</td>\n",
       "    </tr>\n",
       "    <tr>\n",
       "      <th>...</th>\n",
       "      <td>...</td>\n",
       "      <td>...</td>\n",
       "      <td>...</td>\n",
       "      <td>...</td>\n",
       "      <td>...</td>\n",
       "      <td>...</td>\n",
       "      <td>...</td>\n",
       "      <td>...</td>\n",
       "      <td>...</td>\n",
       "      <td>...</td>\n",
       "    </tr>\n",
       "    <tr>\n",
       "      <th>49147</th>\n",
       "      <td>-10788.929688</td>\n",
       "      <td>-42241.996094</td>\n",
       "      <td>-23830.212891</td>\n",
       "      <td>0</td>\n",
       "      <td>0</td>\n",
       "      <td>0</td>\n",
       "      <td>255.0</td>\n",
       "      <td>187.0</td>\n",
       "      <td>0.668457</td>\n",
       "      <td>255</td>\n",
       "    </tr>\n",
       "    <tr>\n",
       "      <th>49148</th>\n",
       "      <td>-10788.921875</td>\n",
       "      <td>-42241.996094</td>\n",
       "      <td>-23830.216797</td>\n",
       "      <td>0</td>\n",
       "      <td>0</td>\n",
       "      <td>0</td>\n",
       "      <td>255.0</td>\n",
       "      <td>188.0</td>\n",
       "      <td>0.675781</td>\n",
       "      <td>255</td>\n",
       "    </tr>\n",
       "    <tr>\n",
       "      <th>49149</th>\n",
       "      <td>-10788.928711</td>\n",
       "      <td>-42242.000000</td>\n",
       "      <td>-23830.212891</td>\n",
       "      <td>0</td>\n",
       "      <td>0</td>\n",
       "      <td>0</td>\n",
       "      <td>255.0</td>\n",
       "      <td>189.0</td>\n",
       "      <td>0.669434</td>\n",
       "      <td>255</td>\n",
       "    </tr>\n",
       "    <tr>\n",
       "      <th>49150</th>\n",
       "      <td>-10788.922852</td>\n",
       "      <td>-42241.996094</td>\n",
       "      <td>-23830.216797</td>\n",
       "      <td>0</td>\n",
       "      <td>0</td>\n",
       "      <td>0</td>\n",
       "      <td>255.0</td>\n",
       "      <td>190.0</td>\n",
       "      <td>0.675781</td>\n",
       "      <td>255</td>\n",
       "    </tr>\n",
       "    <tr>\n",
       "      <th>49151</th>\n",
       "      <td>-10788.923828</td>\n",
       "      <td>-42241.996094</td>\n",
       "      <td>-23830.214844</td>\n",
       "      <td>0</td>\n",
       "      <td>0</td>\n",
       "      <td>0</td>\n",
       "      <td>255.0</td>\n",
       "      <td>191.0</td>\n",
       "      <td>0.674805</td>\n",
       "      <td>255</td>\n",
       "    </tr>\n",
       "  </tbody>\n",
       "</table>\n",
       "<p>49152 rows × 10 columns</p>\n",
       "</div>"
      ],
      "text/plain": [
       "                  x             y             z  red  green  blue     cx  \\\n",
       "0     -10788.977539 -42241.937500 -23830.287109    0      0     0    0.0   \n",
       "1     -10788.986328 -42241.941406 -23830.283203    0      0     0    0.0   \n",
       "2     -10788.978516 -42241.937500 -23830.287109    0      0     0    0.0   \n",
       "3     -10788.975586 -42241.937500 -23830.289062    0      0     0    0.0   \n",
       "4     -10788.974609 -42241.937500 -23830.289062    0      0     0    0.0   \n",
       "...             ...           ...           ...  ...    ...   ...    ...   \n",
       "49147 -10788.929688 -42241.996094 -23830.212891    0      0     0  255.0   \n",
       "49148 -10788.921875 -42241.996094 -23830.216797    0      0     0  255.0   \n",
       "49149 -10788.928711 -42242.000000 -23830.212891    0      0     0  255.0   \n",
       "49150 -10788.922852 -42241.996094 -23830.216797    0      0     0  255.0   \n",
       "49151 -10788.923828 -42241.996094 -23830.214844    0      0     0  255.0   \n",
       "\n",
       "          cy     depth  alpha  \n",
       "0        0.0  0.609863    255  \n",
       "1        1.0  0.602051    255  \n",
       "2        2.0  0.608887    255  \n",
       "3        3.0  0.612305    255  \n",
       "4        4.0  0.612793    255  \n",
       "...      ...       ...    ...  \n",
       "49147  187.0  0.668457    255  \n",
       "49148  188.0  0.675781    255  \n",
       "49149  189.0  0.669434    255  \n",
       "49150  190.0  0.675781    255  \n",
       "49151  191.0  0.674805    255  \n",
       "\n",
       "[49152 rows x 10 columns]"
      ]
     },
     "execution_count": 178,
     "metadata": {},
     "output_type": "execute_result"
    }
   ],
   "source": [
    "plydata = PlyData.read(kok_path_pc)\n",
    "ply_test = pd.DataFrame({key_: plydata['vertex'][key_] for key_ in ['x', 'y', 'z', 'red', 'green', 'blue', 'cx', 'cy', 'depth', 'alpha']})\n",
    "ply_test"
   ]
  },
  {
   "cell_type": "code",
   "execution_count": 179,
   "id": "f2a7dc3d",
   "metadata": {
    "scrolled": true
   },
   "outputs": [
    {
     "data": {
      "text/plain": [
       "0.69091796875"
      ]
     },
     "execution_count": 179,
     "metadata": {},
     "output_type": "execute_result"
    }
   ],
   "source": [
    "max(ply_test['depth'])"
   ]
  },
  {
   "cell_type": "code",
   "execution_count": 180,
   "id": "fb8cd04f",
   "metadata": {},
   "outputs": [
    {
     "data": {
      "text/plain": [
       "0.361328125"
      ]
     },
     "execution_count": 180,
     "metadata": {},
     "output_type": "execute_result"
    }
   ],
   "source": [
    "min(ply_test['depth'])"
   ]
  },
  {
   "cell_type": "code",
   "execution_count": 113,
   "id": "df7766c3",
   "metadata": {},
   "outputs": [
    {
     "data": {
      "text/plain": [
       "0        3.388672\n",
       "1        3.396484\n",
       "2        3.423828\n",
       "3        3.501953\n",
       "4        3.533203\n",
       "           ...   \n",
       "49147    1.078125\n",
       "49148    1.085938\n",
       "49149    1.078125\n",
       "49150    1.072266\n",
       "49151    1.082031\n",
       "Name: depth, Length: 49152, dtype: float32"
      ]
     },
     "execution_count": 113,
     "metadata": {},
     "output_type": "execute_result"
    }
   ],
   "source": [
    "ply_test['depth']"
   ]
  },
  {
   "cell_type": "code",
   "execution_count": 181,
   "id": "e8bc7c27",
   "metadata": {
    "scrolled": false
   },
   "outputs": [
    {
     "ename": "NameError",
     "evalue": "name 'rgb_kok' is not defined",
     "output_type": "error",
     "traceback": [
      "\u001b[0;31m---------------------------------------------------------------------------\u001b[0m",
      "\u001b[0;31mNameError\u001b[0m                                 Traceback (most recent call last)",
      "\u001b[0;32m<ipython-input-181-991ea855f836>\u001b[0m in \u001b[0;36m<module>\u001b[0;34m\u001b[0m\n\u001b[1;32m      1\u001b[0m \u001b[0mcolor\u001b[0m \u001b[0;34m=\u001b[0m \u001b[0;34m(\u001b[0m\u001b[0;34m'b'\u001b[0m\u001b[0;34m,\u001b[0m \u001b[0;34m'g'\u001b[0m\u001b[0;34m,\u001b[0m \u001b[0;34m'r'\u001b[0m\u001b[0;34m)\u001b[0m\u001b[0;34m\u001b[0m\u001b[0;34m\u001b[0m\u001b[0m\n\u001b[1;32m      2\u001b[0m \u001b[0;32mfor\u001b[0m \u001b[0mi\u001b[0m\u001b[0;34m,\u001b[0m\u001b[0mcol\u001b[0m \u001b[0;32min\u001b[0m \u001b[0menumerate\u001b[0m\u001b[0;34m(\u001b[0m\u001b[0mcolor\u001b[0m\u001b[0;34m)\u001b[0m\u001b[0;34m:\u001b[0m\u001b[0;34m\u001b[0m\u001b[0;34m\u001b[0m\u001b[0m\n\u001b[0;32m----> 3\u001b[0;31m     \u001b[0mhistr_kok\u001b[0m \u001b[0;34m=\u001b[0m \u001b[0mcv2\u001b[0m\u001b[0;34m.\u001b[0m\u001b[0mcalcHist\u001b[0m\u001b[0;34m(\u001b[0m\u001b[0;34m[\u001b[0m\u001b[0mrgb_kok\u001b[0m\u001b[0;34m]\u001b[0m\u001b[0;34m,\u001b[0m \u001b[0;34m[\u001b[0m\u001b[0mi\u001b[0m\u001b[0;34m]\u001b[0m\u001b[0;34m,\u001b[0m \u001b[0;32mNone\u001b[0m\u001b[0;34m,\u001b[0m \u001b[0;34m[\u001b[0m\u001b[0;36m256\u001b[0m\u001b[0;34m]\u001b[0m\u001b[0;34m,\u001b[0m \u001b[0;34m[\u001b[0m\u001b[0;36m0\u001b[0m\u001b[0;34m,\u001b[0m\u001b[0;36m256\u001b[0m\u001b[0;34m]\u001b[0m\u001b[0;34m)\u001b[0m\u001b[0;34m\u001b[0m\u001b[0;34m\u001b[0m\u001b[0m\n\u001b[0m\u001b[1;32m      4\u001b[0m     \u001b[0mhistr_lnt\u001b[0m \u001b[0;34m=\u001b[0m \u001b[0mcv2\u001b[0m\u001b[0;34m.\u001b[0m\u001b[0mcalcHist\u001b[0m\u001b[0;34m(\u001b[0m\u001b[0;34m[\u001b[0m\u001b[0mrgb_lnt\u001b[0m\u001b[0;34m]\u001b[0m\u001b[0;34m,\u001b[0m \u001b[0;34m[\u001b[0m\u001b[0mi\u001b[0m\u001b[0;34m]\u001b[0m\u001b[0;34m,\u001b[0m \u001b[0;32mNone\u001b[0m\u001b[0;34m,\u001b[0m \u001b[0;34m[\u001b[0m\u001b[0;36m256\u001b[0m\u001b[0;34m]\u001b[0m\u001b[0;34m,\u001b[0m \u001b[0;34m[\u001b[0m\u001b[0;36m0\u001b[0m\u001b[0;34m,\u001b[0m\u001b[0;36m256\u001b[0m\u001b[0;34m]\u001b[0m\u001b[0;34m)\u001b[0m\u001b[0;34m\u001b[0m\u001b[0;34m\u001b[0m\u001b[0m\n\u001b[1;32m      5\u001b[0m     \u001b[0mplt\u001b[0m\u001b[0;34m.\u001b[0m\u001b[0mplot\u001b[0m\u001b[0;34m(\u001b[0m\u001b[0mhistr_kok\u001b[0m\u001b[0;34m,\u001b[0m \u001b[0mcolor\u001b[0m\u001b[0;34m=\u001b[0m \u001b[0mcol\u001b[0m\u001b[0;34m)\u001b[0m\u001b[0;34m\u001b[0m\u001b[0;34m\u001b[0m\u001b[0m\n",
      "\u001b[0;31mNameError\u001b[0m: name 'rgb_kok' is not defined"
     ]
    }
   ],
   "source": [
    "color = ('b', 'g', 'r')\n",
    "for i,col in enumerate(color):\n",
    "    histr_kok = cv2.calcHist([rgb_kok], [i], None, [256], [0,256])\n",
    "    histr_lnt = cv2.calcHist([rgb_lnt], [i], None, [256], [0,256])\n",
    "    plt.plot(histr_kok, color= col)\n",
    "    plt.title(f\"kok_{col}\")\n",
    "    plt.show()\n",
    "    plt.plot(histr_lnt, color= col)\n",
    "    plt.title(f\"LT_{col}\")\n",
    "    plt.show()"
   ]
  },
  {
   "cell_type": "code",
   "execution_count": null,
   "id": "40806321",
   "metadata": {},
   "outputs": [],
   "source": []
  }
 ],
 "metadata": {
  "kernelspec": {
   "display_name": "yrkim",
   "language": "python",
   "name": "yrkim"
  },
  "language_info": {
   "codemirror_mode": {
    "name": "ipython",
    "version": 3
   },
   "file_extension": ".py",
   "mimetype": "text/x-python",
   "name": "python",
   "nbconvert_exporter": "python",
   "pygments_lexer": "ipython3",
   "version": "3.6.13"
  }
 },
 "nbformat": 4,
 "nbformat_minor": 5
}
