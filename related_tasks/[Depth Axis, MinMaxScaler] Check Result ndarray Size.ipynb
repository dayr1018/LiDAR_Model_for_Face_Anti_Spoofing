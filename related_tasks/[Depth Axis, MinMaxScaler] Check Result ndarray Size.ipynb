{
 "cells": [
  {
   "cell_type": "code",
   "execution_count": 9,
   "id": "ad86a50f",
   "metadata": {},
   "outputs": [],
   "source": [
    "import pandas as pd\n",
    "import numpy as np\n",
    "from plyfile import PlyData\n",
    "from PIL import Image\n",
    "from sklearn.preprocessing import MinMaxScaler, StandardScaler\n",
    "import torch"
   ]
  },
  {
   "cell_type": "code",
   "execution_count": 18,
   "id": "e237bcdd",
   "metadata": {},
   "outputs": [
    {
     "name": "stdout",
     "output_type": "stream",
     "text": [
      "(192, 256)\n",
      "(192, 256, 1)\n",
      "torch.Size([1, 192, 256])\n",
      "(1, 192, 256)\n",
      "<class 'numpy.ndarray'>, (192, 256)\n",
      "torch.Size([192, 256])\n"
     ]
    }
   ],
   "source": [
    "depth_image = Image.open(\"depth.jpg\").convert('L')\n",
    "depth_numpy = np.array(depth_image)\n",
    "\n",
    "print(depth_numpy.shape)\n",
    "depth_numpy = depth_numpy[:, :, np.newaxis]\n",
    "print(depth_numpy.shape)\n",
    "\n",
    "depth_tensor = torch.from_numpy(depth_numpy).permute(2,0,1)\n",
    "print(depth_tensor.shape)\n",
    "\n",
    "depth_numpy = depth_tensor.numpy()\n",
    "print(depth_numpy.shape)\n",
    "\n",
    "depth_array = StandardScaler().fit_transform(depth_numpy[0])\n",
    "print(f\"{type(depth_array)}, {depth_array.shape}\")\n",
    "depth_tensor = torch.from_numpy(depth_array)\n",
    "print(depth_tensor.shape)"
   ]
  },
  {
   "cell_type": "code",
   "execution_count": null,
   "id": "5a3cb0e0",
   "metadata": {},
   "outputs": [],
   "source": [
    "# 표준화 수행 및 tensor로 변경 \n",
    "depth_numpy = depth_tensor.numpy()\n",
    "print(depth_numpy.shape)\n",
    "depth_array = StandardScaler().fit_transform(depth_numpy[0])\n",
    "depth_tensor = torch.from_numpy(depth_array)"
   ]
  }
 ],
 "metadata": {
  "kernelspec": {
   "display_name": "yrkim",
   "language": "python",
   "name": "yrkim"
  },
  "language_info": {
   "codemirror_mode": {
    "name": "ipython",
    "version": 3
   },
   "file_extension": ".py",
   "mimetype": "text/x-python",
   "name": "python",
   "nbconvert_exporter": "python",
   "pygments_lexer": "ipython3",
   "version": "3.6.13"
  }
 },
 "nbformat": 4,
 "nbformat_minor": 5
}
