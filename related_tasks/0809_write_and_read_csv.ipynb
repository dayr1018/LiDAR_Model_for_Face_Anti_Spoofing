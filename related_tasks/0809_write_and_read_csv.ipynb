{
 "cells": [
  {
   "cell_type": "code",
   "execution_count": 15,
   "id": "65b6c497",
   "metadata": {},
   "outputs": [],
   "source": [
    "import pandas as pd\n",
    "import csv"
   ]
  },
  {
   "cell_type": "code",
   "execution_count": 12,
   "id": "3b1f5d0d",
   "metadata": {},
   "outputs": [],
   "source": [
    "area = [1,2,3,4,5]"
   ]
  },
  {
   "cell_type": "code",
   "execution_count": 13,
   "id": "7f6d7d12",
   "metadata": {},
   "outputs": [],
   "source": [
    "df = pd.DataFrame(area, columns = ['area'])"
   ]
  },
  {
   "cell_type": "code",
   "execution_count": 14,
   "id": "84f5d958",
   "metadata": {},
   "outputs": [],
   "source": [
    "df.to_csv(\"houseprice.csv\", index = False)"
   ]
  },
  {
   "cell_type": "code",
   "execution_count": 16,
   "id": "1996232f",
   "metadata": {},
   "outputs": [
    {
     "name": "stdout",
     "output_type": "stream",
     "text": [
      "['area']\n",
      "['1']\n",
      "['2']\n",
      "['3']\n",
      "['4']\n",
      "['5']\n"
     ]
    }
   ],
   "source": [
    "f = open('houseprice.csv', 'r', encoding='utf-8')\n",
    "rdr = csv.reader(f)\n",
    "for line in rdr:\n",
    "    print(line)\n",
    "f.close()"
   ]
  },
  {
   "cell_type": "code",
   "execution_count": null,
   "id": "bd1672d6",
   "metadata": {},
   "outputs": [],
   "source": []
  }
 ],
 "metadata": {
  "kernelspec": {
   "display_name": "yrkim",
   "language": "python",
   "name": "yrkim"
  },
  "language_info": {
   "codemirror_mode": {
    "name": "ipython",
    "version": 3
   },
   "file_extension": ".py",
   "mimetype": "text/x-python",
   "name": "python",
   "nbconvert_exporter": "python",
   "pygments_lexer": "ipython3",
   "version": "3.6.13"
  }
 },
 "nbformat": 4,
 "nbformat_minor": 5
}
