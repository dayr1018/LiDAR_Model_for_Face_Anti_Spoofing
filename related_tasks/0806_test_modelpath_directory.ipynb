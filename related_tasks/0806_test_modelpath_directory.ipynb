{
 "cells": [
  {
   "cell_type": "code",
   "execution_count": 52,
   "id": "ef384de0",
   "metadata": {},
   "outputs": [],
   "source": [
    "import os\n",
    "from collections import OrderedDict"
   ]
  },
  {
   "cell_type": "code",
   "execution_count": 53,
   "id": "d790792d",
   "metadata": {},
   "outputs": [],
   "source": [
    "path = \"/mnt/nas3/yrkim/liveness_lidar_project/GC_project/bc_output/checkpoint/0805_mask_rgb\""
   ]
  },
  {
   "cell_type": "code",
   "execution_count": 54,
   "id": "e5c10607",
   "metadata": {},
   "outputs": [
    {
     "data": {
      "text/plain": [
       "'/mnt/nas3/yrkim/liveness_lidar_project/GC_project/related_program'"
      ]
     },
     "execution_count": 54,
     "metadata": {},
     "output_type": "execute_result"
    }
   ],
   "source": [
    "os.getcwd()"
   ]
  },
  {
   "cell_type": "code",
   "execution_count": 55,
   "id": "4ff50e02",
   "metadata": {},
   "outputs": [],
   "source": [
    "files = os.listdir(path)\n",
    "# files.append(\"max_accu_model.pth\")\n",
    "# files"
   ]
  },
  {
   "cell_type": "code",
   "execution_count": 56,
   "id": "d606cbb4",
   "metadata": {},
   "outputs": [],
   "source": [
    "num = list[0].split('_')[1]\n",
    "int(num)\n",
    "\n",
    "dic = {}\n",
    "for file in files:\n",
    "    if file != \"max_accu_model.pth\":\n",
    "        dic[int(file.split('_')[1])] = file\n",
    "\n",
    "dic = sorted(dic.items())\n",
    "# dic"
   ]
  },
  {
   "cell_type": "code",
   "execution_count": 59,
   "id": "13b82577",
   "metadata": {},
   "outputs": [
    {
     "data": {
      "text/plain": [
       "{1: 'a', 2: 'b'}"
      ]
     },
     "execution_count": 59,
     "metadata": {},
     "output_type": "execute_result"
    }
   ],
   "source": [
    "d = {1:'a', 2:'b'}\n",
    "# d = OrderedDict()\n",
    "# d[1]='a'\n",
    "# d[2]='b'\n",
    "\n",
    "d"
   ]
  },
  {
   "cell_type": "code",
   "execution_count": 62,
   "id": "4ba7695d",
   "metadata": {},
   "outputs": [
    {
     "ename": "TypeError",
     "evalue": "'list' object is not callable",
     "output_type": "error",
     "traceback": [
      "\u001b[0;31m---------------------------------------------------------------------------\u001b[0m",
      "\u001b[0;31mTypeError\u001b[0m                                 Traceback (most recent call last)",
      "\u001b[0;32m<ipython-input-62-80456166db34>\u001b[0m in \u001b[0;36m<module>\u001b[0;34m\u001b[0m\n\u001b[0;32m----> 1\u001b[0;31m \u001b[0mlist\u001b[0m\u001b[0;34m(\u001b[0m\u001b[0md\u001b[0m\u001b[0;34m.\u001b[0m\u001b[0mvalues\u001b[0m\u001b[0;34m(\u001b[0m\u001b[0;34m)\u001b[0m\u001b[0;34m)\u001b[0m\u001b[0;34m[\u001b[0m\u001b[0;34m-\u001b[0m\u001b[0;36m1\u001b[0m\u001b[0;34m]\u001b[0m\u001b[0;34m\u001b[0m\u001b[0;34m\u001b[0m\u001b[0m\n\u001b[0m",
      "\u001b[0;31mTypeError\u001b[0m: 'list' object is not callable"
     ]
    }
   ],
   "source": [
    "list(d.values())[-1]"
   ]
  },
  {
   "cell_type": "code",
   "execution_count": null,
   "id": "4b8fe4a9",
   "metadata": {},
   "outputs": [],
   "source": []
  }
 ],
 "metadata": {
  "kernelspec": {
   "display_name": "yrkim",
   "language": "python",
   "name": "yrkim"
  },
  "language_info": {
   "codemirror_mode": {
    "name": "ipython",
    "version": 3
   },
   "file_extension": ".py",
   "mimetype": "text/x-python",
   "name": "python",
   "nbconvert_exporter": "python",
   "pygments_lexer": "ipython3",
   "version": "3.6.13"
  }
 },
 "nbformat": 4,
 "nbformat_minor": 5
}
