{
 "cells": [
  {
   "cell_type": "code",
   "execution_count": 8,
   "id": "e9253a4c",
   "metadata": {},
   "outputs": [],
   "source": [
    "from sklearn.preprocessing import StandardScaler\n",
    "import numpy as np\n",
    "from PIL import Image\n",
    "import torch\n",
    "from torchvision import transforms "
   ]
  },
  {
   "cell_type": "code",
   "execution_count": 19,
   "id": "5dc385b7",
   "metadata": {},
   "outputs": [
    {
     "name": "stdout",
     "output_type": "stream",
     "text": [
      "(3, 1440, 1080)\n"
     ]
    },
    {
     "data": {
      "text/plain": [
       "array([[[0., 0., 0., ..., 0., 0., 0.],\n",
       "        [0., 0., 0., ..., 0., 0., 0.],\n",
       "        [0., 0., 0., ..., 0., 0., 0.],\n",
       "        ...,\n",
       "        [0., 0., 0., ..., 0., 0., 0.],\n",
       "        [0., 0., 0., ..., 0., 0., 0.],\n",
       "        [0., 0., 0., ..., 0., 0., 0.]],\n",
       "\n",
       "       [[0., 0., 0., ..., 0., 0., 0.],\n",
       "        [0., 0., 0., ..., 0., 0., 0.],\n",
       "        [0., 0., 0., ..., 0., 0., 0.],\n",
       "        ...,\n",
       "        [0., 0., 0., ..., 0., 0., 0.],\n",
       "        [0., 0., 0., ..., 0., 0., 0.],\n",
       "        [0., 0., 0., ..., 0., 0., 0.]],\n",
       "\n",
       "       [[0., 0., 0., ..., 0., 0., 0.],\n",
       "        [0., 0., 0., ..., 0., 0., 0.],\n",
       "        [0., 0., 0., ..., 0., 0., 0.],\n",
       "        ...,\n",
       "        [0., 0., 0., ..., 0., 0., 0.],\n",
       "        [0., 0., 0., ..., 0., 0., 0.],\n",
       "        [0., 0., 0., ..., 0., 0., 0.]]])"
      ]
     },
     "execution_count": 19,
     "metadata": {},
     "output_type": "execute_result"
    }
   ],
   "source": [
    "rgb_array = np.zeros((3,1440,1080))\n",
    "print(rgb_array.shape)\n",
    "rgb_array"
   ]
  },
  {
   "cell_type": "code",
   "execution_count": 10,
   "id": "4b34f4c8",
   "metadata": {
    "scrolled": true
   },
   "outputs": [
    {
     "name": "stdout",
     "output_type": "stream",
     "text": [
      "(1440, 1080)\n",
      "(1080, 1440, 3)\n"
     ]
    }
   ],
   "source": [
    "rgb_path = \"rgb.jpg\"\n",
    "rgb = Image.open(rgb_path).convert(\"RGB\")\n",
    "print(rgb.size)\n",
    "rgb_np = np.array(rgb)\n",
    "print(rgb_np.shape)"
   ]
  },
  {
   "cell_type": "code",
   "execution_count": 11,
   "id": "c07a5f84",
   "metadata": {},
   "outputs": [
    {
     "name": "stdout",
     "output_type": "stream",
     "text": [
      "(3, 1440, 1080)\n"
     ]
    }
   ],
   "source": [
    "swaped_rgb_np = rgb_np.swapaxes(0,2)\n",
    "print(swaped_rgb_np.shape)"
   ]
  },
  {
   "cell_type": "markdown",
   "id": "771cbbbd",
   "metadata": {},
   "source": [
    "# RGB 1채널"
   ]
  },
  {
   "cell_type": "code",
   "execution_count": 12,
   "id": "193ea902",
   "metadata": {
    "scrolled": true
   },
   "outputs": [
    {
     "name": "stdout",
     "output_type": "stream",
     "text": [
      "(1440, 1080)\n",
      "max: 255\n",
      "min: 0\n",
      "[[209 209 209 ... 186 187 187]\n",
      " [209 209 209 ... 187 187 187]\n",
      " [209 209 209 ... 187 187 188]\n",
      " ...\n",
      " [180 180 180 ...  22  22  23]\n",
      " [180 180 180 ...  21  22  23]\n",
      " [180 180 180 ...  20  22  17]]\n"
     ]
    }
   ],
   "source": [
    "print(swaped_rgb_np[0].shape)\n",
    "print(f\"max: {swaped_rgb_np[0].max()}\")\n",
    "print(f\"min: {swaped_rgb_np[0].min()}\")\n",
    "print(swaped_rgb_np[0])"
   ]
  },
  {
   "cell_type": "code",
   "execution_count": 13,
   "id": "e4bd1e6b",
   "metadata": {
    "scrolled": false
   },
   "outputs": [
    {
     "data": {
      "text/plain": [
       "array([[-0.02351833, -0.02695233, -0.02343293, ..., -0.26774635,\n",
       "        -0.26040074, -0.26885844],\n",
       "       [-0.02351833, -0.02695233, -0.02343293, ..., -0.25262893,\n",
       "        -0.26040074, -0.26885844],\n",
       "       [-0.02351833, -0.02695233, -0.02343293, ..., -0.25262893,\n",
       "        -0.26040074, -0.25359685],\n",
       "       ...,\n",
       "       [-1.33301905, -1.33570735, -1.33166713, ..., -2.74700365,\n",
       "        -2.76540973, -2.77176013],\n",
       "       [-1.33301905, -1.33570735, -1.33166713, ..., -2.76212108,\n",
       "        -2.76540973, -2.77176013],\n",
       "       [-1.33301905, -1.33570735, -1.33166713, ..., -2.7772385 ,\n",
       "        -2.76540973, -2.8633297 ]])"
      ]
     },
     "execution_count": 13,
     "metadata": {},
     "output_type": "execute_result"
    }
   ],
   "source": [
    "std_result0 = StandardScaler().fit_transform(swaped_rgb_np[0])\n",
    "rgb_array[0] = std_result0\n",
    "std_result0"
   ]
  },
  {
   "cell_type": "markdown",
   "id": "0b162142",
   "metadata": {},
   "source": [
    "# RGB 2채널"
   ]
  },
  {
   "cell_type": "code",
   "execution_count": 14,
   "id": "cd18ae2c",
   "metadata": {},
   "outputs": [
    {
     "name": "stdout",
     "output_type": "stream",
     "text": [
      "(1440, 1080)\n",
      "max: 255\n",
      "min: 0\n",
      "[[194 194 194 ... 141 142 142]\n",
      " [194 194 194 ... 142 142 142]\n",
      " [194 194 194 ... 142 142 143]\n",
      " ...\n",
      " [167 167 167 ...  29  29  30]\n",
      " [167 167 167 ...  28  29  30]\n",
      " [167 167 167 ...  27  29  24]]\n"
     ]
    }
   ],
   "source": [
    "print(swaped_rgb_np[1].shape)\n",
    "print(f\"max: {swaped_rgb_np[1].max()}\")\n",
    "print(f\"min: {swaped_rgb_np[1].min()}\")\n",
    "print(swaped_rgb_np[1])"
   ]
  },
  {
   "cell_type": "code",
   "execution_count": 15,
   "id": "aa7792d3",
   "metadata": {
    "scrolled": true
   },
   "outputs": [
    {
     "data": {
      "text/plain": [
       "array([[-0.07138493, -0.07308619, -0.06978166, ..., -0.66945215,\n",
       "        -0.6647855 , -0.67400104],\n",
       "       [-0.07138493, -0.07308619, -0.06978166, ..., -0.65604448,\n",
       "        -0.6647855 , -0.67400104],\n",
       "       [-0.07138493, -0.07308619, -0.06978166, ..., -0.65604448,\n",
       "        -0.6647855 , -0.66049664],\n",
       "       ...,\n",
       "       [-1.07880644, -1.07967182, -1.07575528, ..., -2.17111059,\n",
       "        -2.18467953, -2.18649426],\n",
       "       [-1.07880644, -1.07967182, -1.07575528, ..., -2.18451826,\n",
       "        -2.18467953, -2.18649426],\n",
       "       [-1.07880644, -1.07967182, -1.07575528, ..., -2.19792592,\n",
       "        -2.18467953, -2.26752068]])"
      ]
     },
     "execution_count": 15,
     "metadata": {},
     "output_type": "execute_result"
    }
   ],
   "source": [
    "std_result1 = StandardScaler().fit_transform(swaped_rgb_np[1])\n",
    "rgb_array[1] = std_result1\n",
    "std_result1"
   ]
  },
  {
   "cell_type": "markdown",
   "id": "a2fb466b",
   "metadata": {},
   "source": [
    "# RGB 3채널"
   ]
  },
  {
   "cell_type": "code",
   "execution_count": 16,
   "id": "0c39c024",
   "metadata": {
    "scrolled": true
   },
   "outputs": [
    {
     "name": "stdout",
     "output_type": "stream",
     "text": [
      "(1440, 1080)\n",
      "max: 255\n",
      "min: 0\n",
      "[[171 171 171 ...  82  83  83]\n",
      " [171 171 171 ...  83  83  83]\n",
      " [171 171 171 ...  83  85  86]\n",
      " ...\n",
      " [150 150 150 ...  45  45  46]\n",
      " [150 150 150 ...  44  45  46]\n",
      " [150 150 150 ...  43  45  40]]\n"
     ]
    }
   ],
   "source": [
    "print(swaped_rgb_np[2].shape)\n",
    "print(f\"max: {swaped_rgb_np[2].max()}\")\n",
    "print(f\"min: {swaped_rgb_np[2].min()}\")\n",
    "print(swaped_rgb_np[2])"
   ]
  },
  {
   "cell_type": "code",
   "execution_count": 17,
   "id": "bea75c4a",
   "metadata": {},
   "outputs": [
    {
     "data": {
      "text/plain": [
       "array([[-0.21421727, -0.21710051, -0.21564303, ..., -1.13736351,\n",
       "        -1.13404334, -1.14313808],\n",
       "       [-0.21421727, -0.21710051, -0.21564303, ..., -1.12566533,\n",
       "        -1.13404334, -1.14313808],\n",
       "       [-0.21421727, -0.21710051, -0.21564303, ..., -1.12566533,\n",
       "        -1.1106016 , -1.10786738],\n",
       "       ...,\n",
       "       [-0.85130719, -0.85387252, -0.85171845, ..., -1.57019611,\n",
       "        -1.57943653, -1.57814337],\n",
       "       [-0.85130719, -0.85387252, -0.85171845, ..., -1.58189428,\n",
       "        -1.57943653, -1.57814337],\n",
       "       [-0.85130719, -0.85387252, -0.85171845, ..., -1.59359246,\n",
       "        -1.57943653, -1.64868477]])"
      ]
     },
     "execution_count": 17,
     "metadata": {},
     "output_type": "execute_result"
    }
   ],
   "source": [
    "std_result2 = StandardScaler().fit_transform(swaped_rgb_np[2])\n",
    "rgb_array[2] = std_result2\n",
    "std_result2"
   ]
  },
  {
   "cell_type": "markdown",
   "id": "7e17b678",
   "metadata": {},
   "source": [
    "# 3개 채널 다시 합쳐서 numpy로 만들기"
   ]
  },
  {
   "cell_type": "code",
   "execution_count": 18,
   "id": "1ae9bf4c",
   "metadata": {
    "scrolled": true
   },
   "outputs": [
    {
     "data": {
      "text/plain": [
       "array([[[-0.02351833, -0.02695233, -0.02343293, ..., -0.26774635,\n",
       "         -0.26040074, -0.26885844],\n",
       "        [-0.02351833, -0.02695233, -0.02343293, ..., -0.25262893,\n",
       "         -0.26040074, -0.26885844],\n",
       "        [-0.02351833, -0.02695233, -0.02343293, ..., -0.25262893,\n",
       "         -0.26040074, -0.25359685],\n",
       "        ...,\n",
       "        [-1.33301905, -1.33570735, -1.33166713, ..., -2.74700365,\n",
       "         -2.76540973, -2.77176013],\n",
       "        [-1.33301905, -1.33570735, -1.33166713, ..., -2.76212108,\n",
       "         -2.76540973, -2.77176013],\n",
       "        [-1.33301905, -1.33570735, -1.33166713, ..., -2.7772385 ,\n",
       "         -2.76540973, -2.8633297 ]],\n",
       "\n",
       "       [[-0.07138493, -0.07308619, -0.06978166, ..., -0.66945215,\n",
       "         -0.6647855 , -0.67400104],\n",
       "        [-0.07138493, -0.07308619, -0.06978166, ..., -0.65604448,\n",
       "         -0.6647855 , -0.67400104],\n",
       "        [-0.07138493, -0.07308619, -0.06978166, ..., -0.65604448,\n",
       "         -0.6647855 , -0.66049664],\n",
       "        ...,\n",
       "        [-1.07880644, -1.07967182, -1.07575528, ..., -2.17111059,\n",
       "         -2.18467953, -2.18649426],\n",
       "        [-1.07880644, -1.07967182, -1.07575528, ..., -2.18451826,\n",
       "         -2.18467953, -2.18649426],\n",
       "        [-1.07880644, -1.07967182, -1.07575528, ..., -2.19792592,\n",
       "         -2.18467953, -2.26752068]],\n",
       "\n",
       "       [[-0.21421727, -0.21710051, -0.21564303, ..., -1.13736351,\n",
       "         -1.13404334, -1.14313808],\n",
       "        [-0.21421727, -0.21710051, -0.21564303, ..., -1.12566533,\n",
       "         -1.13404334, -1.14313808],\n",
       "        [-0.21421727, -0.21710051, -0.21564303, ..., -1.12566533,\n",
       "         -1.1106016 , -1.10786738],\n",
       "        ...,\n",
       "        [-0.85130719, -0.85387252, -0.85171845, ..., -1.57019611,\n",
       "         -1.57943653, -1.57814337],\n",
       "        [-0.85130719, -0.85387252, -0.85171845, ..., -1.58189428,\n",
       "         -1.57943653, -1.57814337],\n",
       "        [-0.85130719, -0.85387252, -0.85171845, ..., -1.59359246,\n",
       "         -1.57943653, -1.64868477]]])"
      ]
     },
     "execution_count": 18,
     "metadata": {},
     "output_type": "execute_result"
    }
   ],
   "source": [
    "rgb_array"
   ]
  },
  {
   "cell_type": "code",
   "execution_count": 20,
   "id": "f7a58354",
   "metadata": {},
   "outputs": [
    {
     "data": {
      "text/plain": [
       "(1080, 1440, 3)"
      ]
     },
     "execution_count": 20,
     "metadata": {},
     "output_type": "execute_result"
    }
   ],
   "source": [
    "shapeback_rgb_np = rgb_array.swapaxes(0,2)\n",
    "shapeback_rgb_np.shape"
   ]
  },
  {
   "cell_type": "markdown",
   "id": "16b00e53",
   "metadata": {},
   "source": [
    "# 아래가 왜 안 되는지는 모르겠다 ㅠㅠ 되야되는데 ㅠㅠ "
   ]
  },
  {
   "cell_type": "code",
   "execution_count": null,
   "id": "ddcbb691",
   "metadata": {},
   "outputs": [],
   "source": [
    "print(rgb_np[:][:][0].max())\n",
    "print(rgb_np[:][:][0].min())\n",
    "rgb_np[0].shape"
   ]
  },
  {
   "cell_type": "code",
   "execution_count": 77,
   "id": "c3d7de5d",
   "metadata": {},
   "outputs": [
    {
     "data": {
      "text/plain": [
       "torch.Size([1080, 1440, 3])"
      ]
     },
     "execution_count": 77,
     "metadata": {},
     "output_type": "execute_result"
    }
   ],
   "source": [
    "rgb_tensor = torch.from_numpy(rgb_np)\n",
    "rgb_tensor.shape"
   ]
  },
  {
   "cell_type": "code",
   "execution_count": 78,
   "id": "a73ec37b",
   "metadata": {},
   "outputs": [
    {
     "data": {
      "text/plain": [
       "array([[-0.02351833, -0.07138493, -0.21421727],\n",
       "       [-0.02351833, -0.07138493, -0.21421727],\n",
       "       [-0.02351833, -0.07138493, -0.21421727],\n",
       "       ...,\n",
       "       [-1.33301905, -1.07880644, -0.85130719],\n",
       "       [-1.33301905, -1.07880644, -0.85130719],\n",
       "       [-1.33301905, -1.07880644, -0.85130719]])"
      ]
     },
     "execution_count": 78,
     "metadata": {},
     "output_type": "execute_result"
    }
   ],
   "source": [
    "std_result = StandardScaler().fit_transform(rgb_np[:][:][0])\n",
    "std_result"
   ]
  },
  {
   "cell_type": "markdown",
   "id": "32cf6fe1",
   "metadata": {},
   "source": [
    "# RGB 2채널"
   ]
  },
  {
   "cell_type": "code",
   "execution_count": 59,
   "id": "426fffe3",
   "metadata": {
    "scrolled": true
   },
   "outputs": [
    {
     "name": "stdout",
     "output_type": "stream",
     "text": [
      "255\n",
      "145\n"
     ]
    },
    {
     "data": {
      "text/plain": [
       "array([[209, 194, 171],\n",
       "       [209, 194, 171],\n",
       "       [209, 194, 171],\n",
       "       ...,\n",
       "       [180, 167, 150],\n",
       "       [180, 167, 150],\n",
       "       [180, 167, 150]], dtype=uint8)"
      ]
     },
     "execution_count": 59,
     "metadata": {},
     "output_type": "execute_result"
    }
   ],
   "source": [
    "print(rgb_np[:][:][1].max())\n",
    "print(rgb_np[:][:][1].min())\n",
    "rgb_np[:][:][1]"
   ]
  },
  {
   "cell_type": "code",
   "execution_count": 29,
   "id": "b35d5542",
   "metadata": {},
   "outputs": [
    {
     "data": {
      "text/plain": [
       "array([[-0.02351833, -0.07138493, -0.21421727],\n",
       "       [-0.02351833, -0.07138493, -0.21421727],\n",
       "       [-0.02351833, -0.07138493, -0.21421727],\n",
       "       ...,\n",
       "       [-1.33301905, -1.07880644, -0.85130719],\n",
       "       [-1.33301905, -1.07880644, -0.85130719],\n",
       "       [-1.33301905, -1.07880644, -0.85130719]])"
      ]
     },
     "execution_count": 29,
     "metadata": {},
     "output_type": "execute_result"
    }
   ],
   "source": [
    "std_result = StandardScaler().fit_transform(rgb_np[:][:][0])\n",
    "std_result"
   ]
  },
  {
   "cell_type": "markdown",
   "id": "5978e1eb",
   "metadata": {},
   "source": [
    "# RGB 3채널"
   ]
  },
  {
   "cell_type": "code",
   "execution_count": 31,
   "id": "894d47da",
   "metadata": {},
   "outputs": [
    {
     "name": "stdout",
     "output_type": "stream",
     "text": [
      "255\n",
      "145\n"
     ]
    },
    {
     "data": {
      "text/plain": [
       "array([[209, 194, 171],\n",
       "       [209, 194, 171],\n",
       "       [209, 194, 171],\n",
       "       ...,\n",
       "       [180, 167, 150],\n",
       "       [180, 167, 150],\n",
       "       [180, 167, 150]], dtype=uint8)"
      ]
     },
     "execution_count": 31,
     "metadata": {},
     "output_type": "execute_result"
    }
   ],
   "source": [
    "print(rgb_np[:][:][2].max())\n",
    "print(rgb_np[:][:][2].min())\n",
    "rgb_np[:][:][5]"
   ]
  },
  {
   "cell_type": "code",
   "execution_count": 3,
   "id": "76bc2877",
   "metadata": {},
   "outputs": [
    {
     "name": "stdout",
     "output_type": "stream",
     "text": [
      "good\n"
     ]
    }
   ],
   "source": [
    "a = \"equal\"\n",
    "b = \"equal\"\n",
    "if a == b:\n",
    "    print(\"good\")"
   ]
  },
  {
   "cell_type": "code",
   "execution_count": 23,
   "id": "b7532579",
   "metadata": {},
   "outputs": [
    {
     "data": {
      "text/plain": [
       "['T',\n",
       " '__abs__',\n",
       " '__add__',\n",
       " '__and__',\n",
       " '__array__',\n",
       " '__array_priority__',\n",
       " '__array_wrap__',\n",
       " '__bool__',\n",
       " '__class__',\n",
       " '__complex__',\n",
       " '__contains__',\n",
       " '__deepcopy__',\n",
       " '__delattr__',\n",
       " '__delitem__',\n",
       " '__dict__',\n",
       " '__dir__',\n",
       " '__div__',\n",
       " '__dlpack__',\n",
       " '__dlpack_device__',\n",
       " '__doc__',\n",
       " '__eq__',\n",
       " '__float__',\n",
       " '__floordiv__',\n",
       " '__format__',\n",
       " '__ge__',\n",
       " '__getattribute__',\n",
       " '__getitem__',\n",
       " '__gt__',\n",
       " '__hash__',\n",
       " '__iadd__',\n",
       " '__iand__',\n",
       " '__idiv__',\n",
       " '__ifloordiv__',\n",
       " '__ilshift__',\n",
       " '__imod__',\n",
       " '__imul__',\n",
       " '__index__',\n",
       " '__init__',\n",
       " '__init_subclass__',\n",
       " '__int__',\n",
       " '__invert__',\n",
       " '__ior__',\n",
       " '__ipow__',\n",
       " '__irshift__',\n",
       " '__isub__',\n",
       " '__iter__',\n",
       " '__itruediv__',\n",
       " '__ixor__',\n",
       " '__le__',\n",
       " '__len__',\n",
       " '__long__',\n",
       " '__lshift__',\n",
       " '__lt__',\n",
       " '__matmul__',\n",
       " '__mod__',\n",
       " '__module__',\n",
       " '__mul__',\n",
       " '__ne__',\n",
       " '__neg__',\n",
       " '__new__',\n",
       " '__nonzero__',\n",
       " '__or__',\n",
       " '__pos__',\n",
       " '__pow__',\n",
       " '__radd__',\n",
       " '__rand__',\n",
       " '__rdiv__',\n",
       " '__reduce__',\n",
       " '__reduce_ex__',\n",
       " '__repr__',\n",
       " '__reversed__',\n",
       " '__rfloordiv__',\n",
       " '__rlshift__',\n",
       " '__rmatmul__',\n",
       " '__rmod__',\n",
       " '__rmul__',\n",
       " '__ror__',\n",
       " '__rpow__',\n",
       " '__rrshift__',\n",
       " '__rshift__',\n",
       " '__rsub__',\n",
       " '__rtruediv__',\n",
       " '__rxor__',\n",
       " '__setattr__',\n",
       " '__setitem__',\n",
       " '__setstate__',\n",
       " '__sizeof__',\n",
       " '__str__',\n",
       " '__sub__',\n",
       " '__subclasshook__',\n",
       " '__torch_function__',\n",
       " '__truediv__',\n",
       " '__weakref__',\n",
       " '__xor__',\n",
       " '_backward_hooks',\n",
       " '_base',\n",
       " '_cdata',\n",
       " '_coalesced_',\n",
       " '_conj',\n",
       " '_conj_physical',\n",
       " '_dimI',\n",
       " '_dimV',\n",
       " '_fix_weakref',\n",
       " '_grad',\n",
       " '_grad_fn',\n",
       " '_indices',\n",
       " '_is_view',\n",
       " '_make_subclass',\n",
       " '_neg_view',\n",
       " '_nnz',\n",
       " '_python_dispatch',\n",
       " '_reduce_ex_internal',\n",
       " '_update_names',\n",
       " '_values',\n",
       " '_version',\n",
       " 'abs',\n",
       " 'abs_',\n",
       " 'absolute',\n",
       " 'absolute_',\n",
       " 'acos',\n",
       " 'acos_',\n",
       " 'acosh',\n",
       " 'acosh_',\n",
       " 'add',\n",
       " 'add_',\n",
       " 'addbmm',\n",
       " 'addbmm_',\n",
       " 'addcdiv',\n",
       " 'addcdiv_',\n",
       " 'addcmul',\n",
       " 'addcmul_',\n",
       " 'addmm',\n",
       " 'addmm_',\n",
       " 'addmv',\n",
       " 'addmv_',\n",
       " 'addr',\n",
       " 'addr_',\n",
       " 'align_as',\n",
       " 'align_to',\n",
       " 'all',\n",
       " 'allclose',\n",
       " 'amax',\n",
       " 'amin',\n",
       " 'aminmax',\n",
       " 'angle',\n",
       " 'any',\n",
       " 'apply_',\n",
       " 'arccos',\n",
       " 'arccos_',\n",
       " 'arccosh',\n",
       " 'arccosh_',\n",
       " 'arcsin',\n",
       " 'arcsin_',\n",
       " 'arcsinh',\n",
       " 'arcsinh_',\n",
       " 'arctan',\n",
       " 'arctan_',\n",
       " 'arctanh',\n",
       " 'arctanh_',\n",
       " 'argmax',\n",
       " 'argmin',\n",
       " 'argsort',\n",
       " 'as_strided',\n",
       " 'as_strided_',\n",
       " 'as_subclass',\n",
       " 'asin',\n",
       " 'asin_',\n",
       " 'asinh',\n",
       " 'asinh_',\n",
       " 'atan',\n",
       " 'atan2',\n",
       " 'atan2_',\n",
       " 'atan_',\n",
       " 'atanh',\n",
       " 'atanh_',\n",
       " 'backward',\n",
       " 'baddbmm',\n",
       " 'baddbmm_',\n",
       " 'bernoulli',\n",
       " 'bernoulli_',\n",
       " 'bfloat16',\n",
       " 'bincount',\n",
       " 'bitwise_and',\n",
       " 'bitwise_and_',\n",
       " 'bitwise_left_shift',\n",
       " 'bitwise_left_shift_',\n",
       " 'bitwise_not',\n",
       " 'bitwise_not_',\n",
       " 'bitwise_or',\n",
       " 'bitwise_or_',\n",
       " 'bitwise_right_shift',\n",
       " 'bitwise_right_shift_',\n",
       " 'bitwise_xor',\n",
       " 'bitwise_xor_',\n",
       " 'bmm',\n",
       " 'bool',\n",
       " 'broadcast_to',\n",
       " 'byte',\n",
       " 'cauchy_',\n",
       " 'cdouble',\n",
       " 'ceil',\n",
       " 'ceil_',\n",
       " 'cfloat',\n",
       " 'char',\n",
       " 'cholesky',\n",
       " 'cholesky_inverse',\n",
       " 'cholesky_solve',\n",
       " 'chunk',\n",
       " 'clamp',\n",
       " 'clamp_',\n",
       " 'clamp_max',\n",
       " 'clamp_max_',\n",
       " 'clamp_min',\n",
       " 'clamp_min_',\n",
       " 'clip',\n",
       " 'clip_',\n",
       " 'clone',\n",
       " 'coalesce',\n",
       " 'col_indices',\n",
       " 'conj',\n",
       " 'conj_physical',\n",
       " 'conj_physical_',\n",
       " 'contiguous',\n",
       " 'copy_',\n",
       " 'copysign',\n",
       " 'copysign_',\n",
       " 'corrcoef',\n",
       " 'cos',\n",
       " 'cos_',\n",
       " 'cosh',\n",
       " 'cosh_',\n",
       " 'count_nonzero',\n",
       " 'cov',\n",
       " 'cpu',\n",
       " 'cross',\n",
       " 'crow_indices',\n",
       " 'cuda',\n",
       " 'cummax',\n",
       " 'cummin',\n",
       " 'cumprod',\n",
       " 'cumprod_',\n",
       " 'cumsum',\n",
       " 'cumsum_',\n",
       " 'data',\n",
       " 'data_ptr',\n",
       " 'deg2rad',\n",
       " 'deg2rad_',\n",
       " 'dense_dim',\n",
       " 'dequantize',\n",
       " 'det',\n",
       " 'detach',\n",
       " 'detach_',\n",
       " 'device',\n",
       " 'diag',\n",
       " 'diag_embed',\n",
       " 'diagflat',\n",
       " 'diagonal',\n",
       " 'diff',\n",
       " 'digamma',\n",
       " 'digamma_',\n",
       " 'dim',\n",
       " 'dist',\n",
       " 'div',\n",
       " 'div_',\n",
       " 'divide',\n",
       " 'divide_',\n",
       " 'dot',\n",
       " 'double',\n",
       " 'dsplit',\n",
       " 'dtype',\n",
       " 'eig',\n",
       " 'element_size',\n",
       " 'eq',\n",
       " 'eq_',\n",
       " 'equal',\n",
       " 'erf',\n",
       " 'erf_',\n",
       " 'erfc',\n",
       " 'erfc_',\n",
       " 'erfinv',\n",
       " 'erfinv_',\n",
       " 'exp',\n",
       " 'exp2',\n",
       " 'exp2_',\n",
       " 'exp_',\n",
       " 'expand',\n",
       " 'expand_as',\n",
       " 'expm1',\n",
       " 'expm1_',\n",
       " 'exponential_',\n",
       " 'fill_',\n",
       " 'fill_diagonal_',\n",
       " 'fix',\n",
       " 'fix_',\n",
       " 'flatten',\n",
       " 'flip',\n",
       " 'fliplr',\n",
       " 'flipud',\n",
       " 'float',\n",
       " 'float_power',\n",
       " 'float_power_',\n",
       " 'floor',\n",
       " 'floor_',\n",
       " 'floor_divide',\n",
       " 'floor_divide_',\n",
       " 'fmax',\n",
       " 'fmin',\n",
       " 'fmod',\n",
       " 'fmod_',\n",
       " 'frac',\n",
       " 'frac_',\n",
       " 'frexp',\n",
       " 'gather',\n",
       " 'gcd',\n",
       " 'gcd_',\n",
       " 'ge',\n",
       " 'ge_',\n",
       " 'geometric_',\n",
       " 'geqrf',\n",
       " 'ger',\n",
       " 'get_device',\n",
       " 'grad',\n",
       " 'grad_fn',\n",
       " 'greater',\n",
       " 'greater_',\n",
       " 'greater_equal',\n",
       " 'greater_equal_',\n",
       " 'gt',\n",
       " 'gt_',\n",
       " 'half',\n",
       " 'hardshrink',\n",
       " 'has_names',\n",
       " 'heaviside',\n",
       " 'heaviside_',\n",
       " 'histc',\n",
       " 'histogram',\n",
       " 'hsplit',\n",
       " 'hypot',\n",
       " 'hypot_',\n",
       " 'i0',\n",
       " 'i0_',\n",
       " 'igamma',\n",
       " 'igamma_',\n",
       " 'igammac',\n",
       " 'igammac_',\n",
       " 'imag',\n",
       " 'index_add',\n",
       " 'index_add_',\n",
       " 'index_copy',\n",
       " 'index_copy_',\n",
       " 'index_fill',\n",
       " 'index_fill_',\n",
       " 'index_put',\n",
       " 'index_put_',\n",
       " 'index_select',\n",
       " 'indices',\n",
       " 'inner',\n",
       " 'int',\n",
       " 'int_repr',\n",
       " 'inverse',\n",
       " 'is_coalesced',\n",
       " 'is_complex',\n",
       " 'is_conj',\n",
       " 'is_contiguous',\n",
       " 'is_cuda',\n",
       " 'is_distributed',\n",
       " 'is_floating_point',\n",
       " 'is_inference',\n",
       " 'is_leaf',\n",
       " 'is_meta',\n",
       " 'is_mkldnn',\n",
       " 'is_mlc',\n",
       " 'is_neg',\n",
       " 'is_nonzero',\n",
       " 'is_ort',\n",
       " 'is_pinned',\n",
       " 'is_quantized',\n",
       " 'is_same_size',\n",
       " 'is_set_to',\n",
       " 'is_shared',\n",
       " 'is_signed',\n",
       " 'is_sparse',\n",
       " 'is_sparse_csr',\n",
       " 'is_vulkan',\n",
       " 'is_xpu',\n",
       " 'isclose',\n",
       " 'isfinite',\n",
       " 'isinf',\n",
       " 'isnan',\n",
       " 'isneginf',\n",
       " 'isposinf',\n",
       " 'isreal',\n",
       " 'istft',\n",
       " 'item',\n",
       " 'kron',\n",
       " 'kthvalue',\n",
       " 'layout',\n",
       " 'lcm',\n",
       " 'lcm_',\n",
       " 'ldexp',\n",
       " 'ldexp_',\n",
       " 'le',\n",
       " 'le_',\n",
       " 'lerp',\n",
       " 'lerp_',\n",
       " 'less',\n",
       " 'less_',\n",
       " 'less_equal',\n",
       " 'less_equal_',\n",
       " 'lgamma',\n",
       " 'lgamma_',\n",
       " 'log',\n",
       " 'log10',\n",
       " 'log10_',\n",
       " 'log1p',\n",
       " 'log1p_',\n",
       " 'log2',\n",
       " 'log2_',\n",
       " 'log_',\n",
       " 'log_normal_',\n",
       " 'log_softmax',\n",
       " 'logaddexp',\n",
       " 'logaddexp2',\n",
       " 'logcumsumexp',\n",
       " 'logdet',\n",
       " 'logical_and',\n",
       " 'logical_and_',\n",
       " 'logical_not',\n",
       " 'logical_not_',\n",
       " 'logical_or',\n",
       " 'logical_or_',\n",
       " 'logical_xor',\n",
       " 'logical_xor_',\n",
       " 'logit',\n",
       " 'logit_',\n",
       " 'logsumexp',\n",
       " 'long',\n",
       " 'lstsq',\n",
       " 'lt',\n",
       " 'lt_',\n",
       " 'lu',\n",
       " 'lu_solve',\n",
       " 'map2_',\n",
       " 'map_',\n",
       " 'masked_fill',\n",
       " 'masked_fill_',\n",
       " 'masked_scatter',\n",
       " 'masked_scatter_',\n",
       " 'masked_select',\n",
       " 'matmul',\n",
       " 'matrix_exp',\n",
       " 'matrix_power',\n",
       " 'max',\n",
       " 'maximum',\n",
       " 'mean',\n",
       " 'median',\n",
       " 'min',\n",
       " 'minimum',\n",
       " 'mm',\n",
       " 'mode',\n",
       " 'moveaxis',\n",
       " 'movedim',\n",
       " 'msort',\n",
       " 'mul',\n",
       " 'mul_',\n",
       " 'multinomial',\n",
       " 'multiply',\n",
       " 'multiply_',\n",
       " 'mv',\n",
       " 'mvlgamma',\n",
       " 'mvlgamma_',\n",
       " 'name',\n",
       " 'names',\n",
       " 'nan_to_num',\n",
       " 'nan_to_num_',\n",
       " 'nanmean',\n",
       " 'nanmedian',\n",
       " 'nanquantile',\n",
       " 'nansum',\n",
       " 'narrow',\n",
       " 'narrow_copy',\n",
       " 'ndim',\n",
       " 'ndimension',\n",
       " 'ne',\n",
       " 'ne_',\n",
       " 'neg',\n",
       " 'neg_',\n",
       " 'negative',\n",
       " 'negative_',\n",
       " 'nelement',\n",
       " 'new',\n",
       " 'new_empty',\n",
       " 'new_empty_strided',\n",
       " 'new_full',\n",
       " 'new_ones',\n",
       " 'new_tensor',\n",
       " 'new_zeros',\n",
       " 'nextafter',\n",
       " 'nextafter_',\n",
       " 'nonzero',\n",
       " 'norm',\n",
       " 'normal_',\n",
       " 'not_equal',\n",
       " 'not_equal_',\n",
       " 'numel',\n",
       " 'numpy',\n",
       " 'orgqr',\n",
       " 'ormqr',\n",
       " 'outer',\n",
       " 'output_nr',\n",
       " 'permute',\n",
       " 'pin_memory',\n",
       " 'pinverse',\n",
       " 'polygamma',\n",
       " 'polygamma_',\n",
       " 'positive',\n",
       " 'pow',\n",
       " 'pow_',\n",
       " 'prelu',\n",
       " 'prod',\n",
       " 'put',\n",
       " 'put_',\n",
       " 'q_per_channel_axis',\n",
       " 'q_per_channel_scales',\n",
       " 'q_per_channel_zero_points',\n",
       " 'q_scale',\n",
       " 'q_zero_point',\n",
       " 'qr',\n",
       " 'qscheme',\n",
       " 'quantile',\n",
       " 'rad2deg',\n",
       " 'rad2deg_',\n",
       " 'random_',\n",
       " 'ravel',\n",
       " 'real',\n",
       " 'reciprocal',\n",
       " 'reciprocal_',\n",
       " 'record_stream',\n",
       " 'refine_names',\n",
       " 'register_hook',\n",
       " 'reinforce',\n",
       " 'relu',\n",
       " 'relu_',\n",
       " 'remainder',\n",
       " 'remainder_',\n",
       " 'rename',\n",
       " 'rename_',\n",
       " 'renorm',\n",
       " 'renorm_',\n",
       " 'repeat',\n",
       " 'repeat_interleave',\n",
       " 'requires_grad',\n",
       " 'requires_grad_',\n",
       " 'reshape',\n",
       " 'reshape_as',\n",
       " 'resize',\n",
       " 'resize_',\n",
       " 'resize_as',\n",
       " 'resize_as_',\n",
       " 'resolve_conj',\n",
       " 'resolve_neg',\n",
       " 'retain_grad',\n",
       " 'retains_grad',\n",
       " 'roll',\n",
       " 'rot90',\n",
       " 'round',\n",
       " 'round_',\n",
       " 'rsqrt',\n",
       " 'rsqrt_',\n",
       " 'scatter',\n",
       " 'scatter_',\n",
       " 'scatter_add',\n",
       " 'scatter_add_',\n",
       " 'select',\n",
       " 'set_',\n",
       " 'sgn',\n",
       " 'sgn_',\n",
       " 'shape',\n",
       " 'share_memory_',\n",
       " 'short',\n",
       " 'sigmoid',\n",
       " 'sigmoid_',\n",
       " 'sign',\n",
       " 'sign_',\n",
       " 'signbit',\n",
       " 'sin',\n",
       " 'sin_',\n",
       " 'sinc',\n",
       " 'sinc_',\n",
       " 'sinh',\n",
       " 'sinh_',\n",
       " 'size',\n",
       " 'slogdet',\n",
       " 'smm',\n",
       " 'softmax',\n",
       " 'solve',\n",
       " 'sort',\n",
       " 'sparse_dim',\n",
       " 'sparse_mask',\n",
       " 'sparse_resize_',\n",
       " 'sparse_resize_and_clear_',\n",
       " 'split',\n",
       " 'split_with_sizes',\n",
       " 'sqrt',\n",
       " 'sqrt_',\n",
       " 'square',\n",
       " 'square_',\n",
       " 'squeeze',\n",
       " 'squeeze_',\n",
       " 'sspaddmm',\n",
       " 'std',\n",
       " 'stft',\n",
       " 'storage',\n",
       " 'storage_offset',\n",
       " 'storage_type',\n",
       " 'stride',\n",
       " 'sub',\n",
       " 'sub_',\n",
       " 'subtract',\n",
       " 'subtract_',\n",
       " 'sum',\n",
       " 'sum_to_size',\n",
       " 'svd',\n",
       " 'swapaxes',\n",
       " 'swapaxes_',\n",
       " 'swapdims',\n",
       " 'swapdims_',\n",
       " 'symeig',\n",
       " 't',\n",
       " 't_',\n",
       " 'take',\n",
       " 'take_along_dim',\n",
       " 'tan',\n",
       " 'tan_',\n",
       " 'tanh',\n",
       " 'tanh_',\n",
       " 'tensor_split',\n",
       " 'tile',\n",
       " 'to',\n",
       " 'to_dense',\n",
       " 'to_mkldnn',\n",
       " 'to_sparse',\n",
       " 'to_sparse_csr',\n",
       " 'tolist',\n",
       " 'topk',\n",
       " 'trace',\n",
       " 'transpose',\n",
       " 'transpose_',\n",
       " 'triangular_solve',\n",
       " 'tril',\n",
       " 'tril_',\n",
       " 'triu',\n",
       " 'triu_',\n",
       " 'true_divide',\n",
       " 'true_divide_',\n",
       " 'trunc',\n",
       " 'trunc_',\n",
       " 'type',\n",
       " 'type_as',\n",
       " 'unbind',\n",
       " 'unflatten',\n",
       " 'unfold',\n",
       " 'uniform_',\n",
       " 'unique',\n",
       " 'unique_consecutive',\n",
       " 'unsafe_chunk',\n",
       " 'unsafe_split',\n",
       " 'unsafe_split_with_sizes',\n",
       " 'unsqueeze',\n",
       " 'unsqueeze_',\n",
       " 'values',\n",
       " 'var',\n",
       " 'vdot',\n",
       " 'view',\n",
       " 'view_as',\n",
       " 'vsplit',\n",
       " 'where',\n",
       " 'xlogy',\n",
       " 'xlogy_',\n",
       " 'xpu',\n",
       " 'zero_']"
      ]
     },
     "execution_count": 23,
     "metadata": {},
     "output_type": "execute_result"
    }
   ],
   "source": [
    "a = torch.zeros(1,2)\n",
    "dir(a)"
   ]
  },
  {
   "cell_type": "code",
   "execution_count": null,
   "id": "acdc476a",
   "metadata": {},
   "outputs": [],
   "source": []
  }
 ],
 "metadata": {
  "kernelspec": {
   "display_name": "yrkim",
   "language": "python",
   "name": "yrkim"
  },
  "language_info": {
   "codemirror_mode": {
    "name": "ipython",
    "version": 3
   },
   "file_extension": ".py",
   "mimetype": "text/x-python",
   "name": "python",
   "nbconvert_exporter": "python",
   "pygments_lexer": "ipython3",
   "version": "3.6.13"
  }
 },
 "nbformat": 4,
 "nbformat_minor": 5
}
