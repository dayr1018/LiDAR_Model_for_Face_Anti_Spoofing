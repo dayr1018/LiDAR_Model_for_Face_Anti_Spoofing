{
 "cells": [
  {
   "cell_type": "code",
   "execution_count": 4,
   "id": "c929280f",
   "metadata": {},
   "outputs": [],
   "source": [
    "from plyfile import PlyData\n",
    "import pandas as pd \n",
    "import numpy as np\n",
    "from torchvision import transforms \n",
    "from sklearn.preprocessing import MinMaxScaler, StandardScaler\n",
    "import torch"
   ]
  },
  {
   "cell_type": "code",
   "execution_count": 15,
   "id": "2c974a89",
   "metadata": {},
   "outputs": [
    {
     "data": {
      "text/html": [
       "<div>\n",
       "<style scoped>\n",
       "    .dataframe tbody tr th:only-of-type {\n",
       "        vertical-align: middle;\n",
       "    }\n",
       "\n",
       "    .dataframe tbody tr th {\n",
       "        vertical-align: top;\n",
       "    }\n",
       "\n",
       "    .dataframe thead th {\n",
       "        text-align: right;\n",
       "    }\n",
       "</style>\n",
       "<table border=\"1\" class=\"dataframe\">\n",
       "  <thead>\n",
       "    <tr style=\"text-align: right;\">\n",
       "      <th></th>\n",
       "      <th>x</th>\n",
       "      <th>y</th>\n",
       "      <th>z</th>\n",
       "      <th>red</th>\n",
       "      <th>green</th>\n",
       "      <th>blue</th>\n",
       "      <th>cx</th>\n",
       "      <th>cy</th>\n",
       "      <th>depth</th>\n",
       "      <th>alpha</th>\n",
       "    </tr>\n",
       "  </thead>\n",
       "  <tbody>\n",
       "    <tr>\n",
       "      <th>0</th>\n",
       "      <td>3.712441</td>\n",
       "      <td>-0.379664</td>\n",
       "      <td>-1.017501</td>\n",
       "      <td>0</td>\n",
       "      <td>0</td>\n",
       "      <td>0</td>\n",
       "      <td>0.0</td>\n",
       "      <td>0.0</td>\n",
       "      <td>3.388672</td>\n",
       "      <td>255</td>\n",
       "    </tr>\n",
       "    <tr>\n",
       "      <th>1</th>\n",
       "      <td>3.721317</td>\n",
       "      <td>-0.378725</td>\n",
       "      <td>-1.019537</td>\n",
       "      <td>0</td>\n",
       "      <td>0</td>\n",
       "      <td>0</td>\n",
       "      <td>0.0</td>\n",
       "      <td>1.0</td>\n",
       "      <td>3.396484</td>\n",
       "      <td>255</td>\n",
       "    </tr>\n",
       "    <tr>\n",
       "      <th>2</th>\n",
       "      <td>3.752594</td>\n",
       "      <td>-0.370215</td>\n",
       "      <td>-1.026797</td>\n",
       "      <td>0</td>\n",
       "      <td>0</td>\n",
       "      <td>0</td>\n",
       "      <td>0.0</td>\n",
       "      <td>2.0</td>\n",
       "      <td>3.423828</td>\n",
       "      <td>255</td>\n",
       "    </tr>\n",
       "    <tr>\n",
       "      <th>3</th>\n",
       "      <td>3.842113</td>\n",
       "      <td>-0.342061</td>\n",
       "      <td>-1.047638</td>\n",
       "      <td>0</td>\n",
       "      <td>0</td>\n",
       "      <td>0</td>\n",
       "      <td>0.0</td>\n",
       "      <td>3.0</td>\n",
       "      <td>3.501953</td>\n",
       "      <td>255</td>\n",
       "    </tr>\n",
       "    <tr>\n",
       "      <th>4</th>\n",
       "      <td>3.877866</td>\n",
       "      <td>-0.332139</td>\n",
       "      <td>-1.055940</td>\n",
       "      <td>0</td>\n",
       "      <td>0</td>\n",
       "      <td>0</td>\n",
       "      <td>0.0</td>\n",
       "      <td>4.0</td>\n",
       "      <td>3.533203</td>\n",
       "      <td>255</td>\n",
       "    </tr>\n",
       "    <tr>\n",
       "      <th>...</th>\n",
       "      <td>...</td>\n",
       "      <td>...</td>\n",
       "      <td>...</td>\n",
       "      <td>...</td>\n",
       "      <td>...</td>\n",
       "      <td>...</td>\n",
       "      <td>...</td>\n",
       "      <td>...</td>\n",
       "      <td>...</td>\n",
       "      <td>...</td>\n",
       "    </tr>\n",
       "    <tr>\n",
       "      <th>49147</th>\n",
       "      <td>1.005834</td>\n",
       "      <td>-1.397907</td>\n",
       "      <td>-0.233853</td>\n",
       "      <td>0</td>\n",
       "      <td>0</td>\n",
       "      <td>0</td>\n",
       "      <td>255.0</td>\n",
       "      <td>187.0</td>\n",
       "      <td>1.078125</td>\n",
       "      <td>255</td>\n",
       "    </tr>\n",
       "    <tr>\n",
       "      <th>49148</th>\n",
       "      <td>1.014360</td>\n",
       "      <td>-1.396397</td>\n",
       "      <td>-0.234726</td>\n",
       "      <td>0</td>\n",
       "      <td>0</td>\n",
       "      <td>0</td>\n",
       "      <td>255.0</td>\n",
       "      <td>188.0</td>\n",
       "      <td>1.085938</td>\n",
       "      <td>255</td>\n",
       "    </tr>\n",
       "    <tr>\n",
       "      <th>49149</th>\n",
       "      <td>1.005780</td>\n",
       "      <td>-1.399243</td>\n",
       "      <td>-0.233819</td>\n",
       "      <td>0</td>\n",
       "      <td>0</td>\n",
       "      <td>0</td>\n",
       "      <td>255.0</td>\n",
       "      <td>189.0</td>\n",
       "      <td>1.078125</td>\n",
       "      <td>255</td>\n",
       "    </tr>\n",
       "    <tr>\n",
       "      <th>49150</th>\n",
       "      <td>0.999338</td>\n",
       "      <td>-1.401536</td>\n",
       "      <td>-0.233135</td>\n",
       "      <td>0</td>\n",
       "      <td>0</td>\n",
       "      <td>0</td>\n",
       "      <td>255.0</td>\n",
       "      <td>190.0</td>\n",
       "      <td>1.072266</td>\n",
       "      <td>255</td>\n",
       "    </tr>\n",
       "    <tr>\n",
       "      <th>49151</th>\n",
       "      <td>1.010001</td>\n",
       "      <td>-1.399496</td>\n",
       "      <td>-0.234230</td>\n",
       "      <td>0</td>\n",
       "      <td>0</td>\n",
       "      <td>0</td>\n",
       "      <td>255.0</td>\n",
       "      <td>191.0</td>\n",
       "      <td>1.082031</td>\n",
       "      <td>255</td>\n",
       "    </tr>\n",
       "  </tbody>\n",
       "</table>\n",
       "<p>49152 rows × 10 columns</p>\n",
       "</div>"
      ],
      "text/plain": [
       "              x         y         z  red  green  blue     cx     cy     depth  \\\n",
       "0      3.712441 -0.379664 -1.017501    0      0     0    0.0    0.0  3.388672   \n",
       "1      3.721317 -0.378725 -1.019537    0      0     0    0.0    1.0  3.396484   \n",
       "2      3.752594 -0.370215 -1.026797    0      0     0    0.0    2.0  3.423828   \n",
       "3      3.842113 -0.342061 -1.047638    0      0     0    0.0    3.0  3.501953   \n",
       "4      3.877866 -0.332139 -1.055940    0      0     0    0.0    4.0  3.533203   \n",
       "...         ...       ...       ...  ...    ...   ...    ...    ...       ...   \n",
       "49147  1.005834 -1.397907 -0.233853    0      0     0  255.0  187.0  1.078125   \n",
       "49148  1.014360 -1.396397 -0.234726    0      0     0  255.0  188.0  1.085938   \n",
       "49149  1.005780 -1.399243 -0.233819    0      0     0  255.0  189.0  1.078125   \n",
       "49150  0.999338 -1.401536 -0.233135    0      0     0  255.0  190.0  1.072266   \n",
       "49151  1.010001 -1.399496 -0.234230    0      0     0  255.0  191.0  1.082031   \n",
       "\n",
       "       alpha  \n",
       "0        255  \n",
       "1        255  \n",
       "2        255  \n",
       "3        255  \n",
       "4        255  \n",
       "...      ...  \n",
       "49147    255  \n",
       "49148    255  \n",
       "49149    255  \n",
       "49150    255  \n",
       "49151    255  \n",
       "\n",
       "[49152 rows x 10 columns]"
      ]
     },
     "execution_count": 15,
     "metadata": {},
     "output_type": "execute_result"
    }
   ],
   "source": [
    "size_transformer = transforms.Compose([\n",
    "    transforms.Resize((128,128))\n",
    "])   \n",
    "\n",
    "pointcloud_array = np.zeros((3, 192, 256)) \n",
    "\n",
    "plydata = PlyData.read('pointcloud.ply')\n",
    "ply_pd = pd.DataFrame({key_: plydata['vertex'][key_] for key_ in ['x', 'y', 'z', 'red', 'green', 'blue', 'cx', 'cy', 'depth', 'alpha']})\n",
    "ply_pd"
   ]
  },
  {
   "cell_type": "code",
   "execution_count": 16,
   "id": "2812b911",
   "metadata": {},
   "outputs": [],
   "source": [
    "list_width = plydata['vertex']['cx']\n",
    "list_height = plydata['vertex']['cy']\n",
    "list_x = plydata['vertex']['x']\n",
    "list_y = plydata['vertex']['y']\n",
    "list_z = plydata['vertex']['z']"
   ]
  },
  {
   "cell_type": "code",
   "execution_count": 23,
   "id": "33456925",
   "metadata": {},
   "outputs": [],
   "source": [
    "for idx in range(49151):\n",
    "    pointcloud_array[0][int(list_height[idx])][int(list_width[idx])] = list_x[idx]  # [c, h, w]  그리고 h = cy, w = cx\n",
    "    pointcloud_array[1][int(list_height[idx])][int(list_width[idx])] = list_y[idx]\n",
    "    pointcloud_array[2][int(list_height[idx])][int(list_width[idx])] = list_z[idx]\n"
   ]
  },
  {
   "cell_type": "code",
   "execution_count": 24,
   "id": "bdd5c774",
   "metadata": {},
   "outputs": [],
   "source": [
    "pointcloud_tensor = torch.from_numpy(pointcloud_array)\n",
    "pointcloud_tensor = size_transformer(pointcloud_tensor) "
   ]
  },
  {
   "cell_type": "code",
   "execution_count": 32,
   "id": "e54f0780",
   "metadata": {},
   "outputs": [
    {
     "data": {
      "text/plain": [
       "(3, 192, 256)"
      ]
     },
     "execution_count": 32,
     "metadata": {},
     "output_type": "execute_result"
    }
   ],
   "source": [
    "pointcloud_array.shape"
   ]
  },
  {
   "cell_type": "code",
   "execution_count": 33,
   "id": "3be828e2",
   "metadata": {},
   "outputs": [
    {
     "data": {
      "text/plain": [
       "(192, 256, 3)"
      ]
     },
     "execution_count": 33,
     "metadata": {},
     "output_type": "execute_result"
    }
   ],
   "source": [
    "pointcloud_array2 = pointcloud_array.transpose(1,2,0)\n",
    "pointcloud_array2.shape"
   ]
  },
  {
   "cell_type": "code",
   "execution_count": 35,
   "id": "b0e07267",
   "metadata": {},
   "outputs": [
    {
     "data": {
      "text/plain": [
       "torch.Size([3, 128, 128])"
      ]
     },
     "execution_count": 35,
     "metadata": {},
     "output_type": "execute_result"
    }
   ],
   "source": [
    "pointcloud_tensor.shape"
   ]
  },
  {
   "cell_type": "code",
   "execution_count": 36,
   "id": "a046ff26",
   "metadata": {},
   "outputs": [
    {
     "data": {
      "text/plain": [
       "torch.Size([128, 128, 3])"
      ]
     },
     "execution_count": 36,
     "metadata": {},
     "output_type": "execute_result"
    }
   ],
   "source": [
    "pointcloud_tensor2 = pointcloud_tensor.permute(1,2,0)\n",
    "pointcloud_tensor2.shape"
   ]
  },
  {
   "cell_type": "code",
   "execution_count": null,
   "id": "f4fae71f",
   "metadata": {},
   "outputs": [],
   "source": []
  },
  {
   "cell_type": "code",
   "execution_count": 43,
   "id": "3b92cb47",
   "metadata": {},
   "outputs": [],
   "source": [
    "np.save('./pointcloud_array',pointcloud_array2)"
   ]
  },
  {
   "cell_type": "code",
   "execution_count": 44,
   "id": "f9d0ba27",
   "metadata": {},
   "outputs": [],
   "source": [
    "np.save('./pointcloud_tensor2',np.array(pointcloud_tensor2))"
   ]
  },
  {
   "cell_type": "code",
   "execution_count": 42,
   "id": "7de8f853",
   "metadata": {},
   "outputs": [
    {
     "data": {
      "text/plain": [
       "'/mnt/nas3/yrkim/liveness_lidar_project/GC_project/related_program'"
      ]
     },
     "execution_count": 42,
     "metadata": {},
     "output_type": "execute_result"
    }
   ],
   "source": [
    "import os\n",
    "os.getcwd()"
   ]
  },
  {
   "cell_type": "code",
   "execution_count": 4,
   "id": "6e87e863",
   "metadata": {},
   "outputs": [],
   "source": [
    "s = \"rp\"\n",
    "\n",
    "if \"m\" in s:\n",
    "    print(\"ok\")"
   ]
  },
  {
   "cell_type": "code",
   "execution_count": null,
   "id": "9ecc1920",
   "metadata": {},
   "outputs": [],
   "source": []
  }
 ],
 "metadata": {
  "kernelspec": {
   "display_name": "yrkim",
   "language": "python",
   "name": "yrkim"
  },
  "language_info": {
   "codemirror_mode": {
    "name": "ipython",
    "version": 3
   },
   "file_extension": ".py",
   "mimetype": "text/x-python",
   "name": "python",
   "nbconvert_exporter": "python",
   "pygments_lexer": "ipython3",
   "version": "3.6.13"
  }
 },
 "nbformat": 4,
 "nbformat_minor": 5
}
