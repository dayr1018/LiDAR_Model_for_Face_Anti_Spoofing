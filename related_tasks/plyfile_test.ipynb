{
 "cells": [
  {
   "cell_type": "code",
   "execution_count": 1,
   "id": "d733e5e2",
   "metadata": {},
   "outputs": [],
   "source": [
    "from plyfile import PlyData"
   ]
  },
  {
   "cell_type": "code",
   "execution_count": 2,
   "id": "04816ff5",
   "metadata": {},
   "outputs": [],
   "source": [
    "plydata = PlyData.read('pointcloud.ply')"
   ]
  },
  {
   "cell_type": "code",
   "execution_count": 3,
   "id": "49b9a048",
   "metadata": {},
   "outputs": [
    {
     "data": {
      "text/plain": [
       "PlyData((PlyElement('vertex', (PlyProperty('x', 'float'), PlyProperty('y', 'float'), PlyProperty('z', 'float'), PlyProperty('red', 'uchar'), PlyProperty('green', 'uchar'), PlyProperty('blue', 'uchar'), PlyProperty('cx', 'float'), PlyProperty('cy', 'float'), PlyProperty('depth', 'float'), PlyProperty('alpha', 'uchar')), count=49152, comments=[]), PlyElement('face', (PlyListProperty('vertex_indices', 'uchar', 'int'),), count=0, comments=[])), text=True, byte_order='=', comments=[], obj_info=[])"
      ]
     },
     "execution_count": 3,
     "metadata": {},
     "output_type": "execute_result"
    }
   ],
   "source": [
    "plydata"
   ]
  },
  {
   "cell_type": "code",
   "execution_count": 4,
   "id": "8445c6a6",
   "metadata": {
    "scrolled": true
   },
   "outputs": [
    {
     "data": {
      "text/plain": [
       "['__class__',\n",
       " '__contains__',\n",
       " '__delattr__',\n",
       " '__dict__',\n",
       " '__dir__',\n",
       " '__doc__',\n",
       " '__eq__',\n",
       " '__format__',\n",
       " '__ge__',\n",
       " '__getattribute__',\n",
       " '__getitem__',\n",
       " '__gt__',\n",
       " '__hash__',\n",
       " '__init__',\n",
       " '__init_subclass__',\n",
       " '__iter__',\n",
       " '__le__',\n",
       " '__len__',\n",
       " '__lt__',\n",
       " '__module__',\n",
       " '__ne__',\n",
       " '__new__',\n",
       " '__reduce__',\n",
       " '__reduce_ex__',\n",
       " '__repr__',\n",
       " '__setattr__',\n",
       " '__sizeof__',\n",
       " '__str__',\n",
       " '__subclasshook__',\n",
       " '__weakref__',\n",
       " '_byte_order',\n",
       " '_comments',\n",
       " '_element_lookup',\n",
       " '_elements',\n",
       " '_get_byte_order',\n",
       " '_get_comments',\n",
       " '_get_elements',\n",
       " '_get_obj_info',\n",
       " '_index',\n",
       " '_obj_info',\n",
       " '_parse_header',\n",
       " '_set_byte_order',\n",
       " '_set_comments',\n",
       " '_set_elements',\n",
       " '_set_obj_info',\n",
       " 'byte_order',\n",
       " 'comments',\n",
       " 'elements',\n",
       " 'header',\n",
       " 'obj_info',\n",
       " 'read',\n",
       " 'text',\n",
       " 'write']"
      ]
     },
     "execution_count": 4,
     "metadata": {},
     "output_type": "execute_result"
    }
   ],
   "source": [
    "dir(plydata)"
   ]
  },
  {
   "cell_type": "code",
   "execution_count": 6,
   "id": "f75a235f",
   "metadata": {},
   "outputs": [
    {
     "data": {
      "text/plain": [
       "PlyElement('vertex', (PlyProperty('x', 'float'), PlyProperty('y', 'float'), PlyProperty('z', 'float'), PlyProperty('red', 'uchar'), PlyProperty('green', 'uchar'), PlyProperty('blue', 'uchar'), PlyProperty('cx', 'float'), PlyProperty('cy', 'float'), PlyProperty('depth', 'float'), PlyProperty('alpha', 'uchar')), count=49152, comments=[])"
      ]
     },
     "execution_count": 6,
     "metadata": {},
     "output_type": "execute_result"
    }
   ],
   "source": [
    "plydata['vertex']"
   ]
  },
  {
   "cell_type": "code",
   "execution_count": 9,
   "id": "03414f07",
   "metadata": {},
   "outputs": [],
   "source": [
    "import pandas as pd "
   ]
  },
  {
   "cell_type": "code",
   "execution_count": 7,
   "id": "d1f227d9",
   "metadata": {},
   "outputs": [
    {
     "data": {
      "text/plain": [
       "array([3.7124412 , 3.7213168 , 3.7525938 , ..., 1.0057799 , 0.99933845,\n",
       "       1.0100014 ], dtype=float32)"
      ]
     },
     "execution_count": 7,
     "metadata": {},
     "output_type": "execute_result"
    }
   ],
   "source": [
    "\n",
    "\n",
    "\n",
    "plydata['vertex']['x']"
   ]
  },
  {
   "cell_type": "code",
   "execution_count": 21,
   "id": "7d3949b6",
   "metadata": {},
   "outputs": [],
   "source": [
    "ply_test = pd.DataFrame({key_: plydata['vertex'][key_] for key_ in ['x', 'y', 'z', 'red', 'green', 'blue', 'cx', 'cy', 'depth', 'alpha']})"
   ]
  },
  {
   "cell_type": "code",
   "execution_count": 22,
   "id": "197e0d36",
   "metadata": {},
   "outputs": [
    {
     "data": {
      "text/html": [
       "<div>\n",
       "<style scoped>\n",
       "    .dataframe tbody tr th:only-of-type {\n",
       "        vertical-align: middle;\n",
       "    }\n",
       "\n",
       "    .dataframe tbody tr th {\n",
       "        vertical-align: top;\n",
       "    }\n",
       "\n",
       "    .dataframe thead th {\n",
       "        text-align: right;\n",
       "    }\n",
       "</style>\n",
       "<table border=\"1\" class=\"dataframe\">\n",
       "  <thead>\n",
       "    <tr style=\"text-align: right;\">\n",
       "      <th></th>\n",
       "      <th>x</th>\n",
       "      <th>y</th>\n",
       "      <th>z</th>\n",
       "      <th>red</th>\n",
       "      <th>green</th>\n",
       "      <th>blue</th>\n",
       "      <th>cx</th>\n",
       "      <th>cy</th>\n",
       "      <th>depth</th>\n",
       "      <th>alpha</th>\n",
       "    </tr>\n",
       "  </thead>\n",
       "  <tbody>\n",
       "    <tr>\n",
       "      <th>0</th>\n",
       "      <td>3.712441</td>\n",
       "      <td>-0.379664</td>\n",
       "      <td>-1.017501</td>\n",
       "      <td>0</td>\n",
       "      <td>0</td>\n",
       "      <td>0</td>\n",
       "      <td>0.0</td>\n",
       "      <td>0.0</td>\n",
       "      <td>3.388672</td>\n",
       "      <td>255</td>\n",
       "    </tr>\n",
       "    <tr>\n",
       "      <th>1</th>\n",
       "      <td>3.721317</td>\n",
       "      <td>-0.378725</td>\n",
       "      <td>-1.019537</td>\n",
       "      <td>0</td>\n",
       "      <td>0</td>\n",
       "      <td>0</td>\n",
       "      <td>0.0</td>\n",
       "      <td>1.0</td>\n",
       "      <td>3.396484</td>\n",
       "      <td>255</td>\n",
       "    </tr>\n",
       "    <tr>\n",
       "      <th>2</th>\n",
       "      <td>3.752594</td>\n",
       "      <td>-0.370215</td>\n",
       "      <td>-1.026797</td>\n",
       "      <td>0</td>\n",
       "      <td>0</td>\n",
       "      <td>0</td>\n",
       "      <td>0.0</td>\n",
       "      <td>2.0</td>\n",
       "      <td>3.423828</td>\n",
       "      <td>255</td>\n",
       "    </tr>\n",
       "    <tr>\n",
       "      <th>3</th>\n",
       "      <td>3.842113</td>\n",
       "      <td>-0.342061</td>\n",
       "      <td>-1.047638</td>\n",
       "      <td>0</td>\n",
       "      <td>0</td>\n",
       "      <td>0</td>\n",
       "      <td>0.0</td>\n",
       "      <td>3.0</td>\n",
       "      <td>3.501953</td>\n",
       "      <td>255</td>\n",
       "    </tr>\n",
       "    <tr>\n",
       "      <th>4</th>\n",
       "      <td>3.877866</td>\n",
       "      <td>-0.332139</td>\n",
       "      <td>-1.055940</td>\n",
       "      <td>0</td>\n",
       "      <td>0</td>\n",
       "      <td>0</td>\n",
       "      <td>0.0</td>\n",
       "      <td>4.0</td>\n",
       "      <td>3.533203</td>\n",
       "      <td>255</td>\n",
       "    </tr>\n",
       "    <tr>\n",
       "      <th>...</th>\n",
       "      <td>...</td>\n",
       "      <td>...</td>\n",
       "      <td>...</td>\n",
       "      <td>...</td>\n",
       "      <td>...</td>\n",
       "      <td>...</td>\n",
       "      <td>...</td>\n",
       "      <td>...</td>\n",
       "      <td>...</td>\n",
       "      <td>...</td>\n",
       "    </tr>\n",
       "    <tr>\n",
       "      <th>49147</th>\n",
       "      <td>1.005834</td>\n",
       "      <td>-1.397907</td>\n",
       "      <td>-0.233853</td>\n",
       "      <td>0</td>\n",
       "      <td>0</td>\n",
       "      <td>0</td>\n",
       "      <td>255.0</td>\n",
       "      <td>187.0</td>\n",
       "      <td>1.078125</td>\n",
       "      <td>255</td>\n",
       "    </tr>\n",
       "    <tr>\n",
       "      <th>49148</th>\n",
       "      <td>1.014360</td>\n",
       "      <td>-1.396397</td>\n",
       "      <td>-0.234726</td>\n",
       "      <td>0</td>\n",
       "      <td>0</td>\n",
       "      <td>0</td>\n",
       "      <td>255.0</td>\n",
       "      <td>188.0</td>\n",
       "      <td>1.085938</td>\n",
       "      <td>255</td>\n",
       "    </tr>\n",
       "    <tr>\n",
       "      <th>49149</th>\n",
       "      <td>1.005780</td>\n",
       "      <td>-1.399243</td>\n",
       "      <td>-0.233819</td>\n",
       "      <td>0</td>\n",
       "      <td>0</td>\n",
       "      <td>0</td>\n",
       "      <td>255.0</td>\n",
       "      <td>189.0</td>\n",
       "      <td>1.078125</td>\n",
       "      <td>255</td>\n",
       "    </tr>\n",
       "    <tr>\n",
       "      <th>49150</th>\n",
       "      <td>0.999338</td>\n",
       "      <td>-1.401536</td>\n",
       "      <td>-0.233135</td>\n",
       "      <td>0</td>\n",
       "      <td>0</td>\n",
       "      <td>0</td>\n",
       "      <td>255.0</td>\n",
       "      <td>190.0</td>\n",
       "      <td>1.072266</td>\n",
       "      <td>255</td>\n",
       "    </tr>\n",
       "    <tr>\n",
       "      <th>49151</th>\n",
       "      <td>1.010001</td>\n",
       "      <td>-1.399496</td>\n",
       "      <td>-0.234230</td>\n",
       "      <td>0</td>\n",
       "      <td>0</td>\n",
       "      <td>0</td>\n",
       "      <td>255.0</td>\n",
       "      <td>191.0</td>\n",
       "      <td>1.082031</td>\n",
       "      <td>255</td>\n",
       "    </tr>\n",
       "  </tbody>\n",
       "</table>\n",
       "<p>49152 rows × 10 columns</p>\n",
       "</div>"
      ],
      "text/plain": [
       "              x         y         z  red  green  blue     cx     cy     depth  \\\n",
       "0      3.712441 -0.379664 -1.017501    0      0     0    0.0    0.0  3.388672   \n",
       "1      3.721317 -0.378725 -1.019537    0      0     0    0.0    1.0  3.396484   \n",
       "2      3.752594 -0.370215 -1.026797    0      0     0    0.0    2.0  3.423828   \n",
       "3      3.842113 -0.342061 -1.047638    0      0     0    0.0    3.0  3.501953   \n",
       "4      3.877866 -0.332139 -1.055940    0      0     0    0.0    4.0  3.533203   \n",
       "...         ...       ...       ...  ...    ...   ...    ...    ...       ...   \n",
       "49147  1.005834 -1.397907 -0.233853    0      0     0  255.0  187.0  1.078125   \n",
       "49148  1.014360 -1.396397 -0.234726    0      0     0  255.0  188.0  1.085938   \n",
       "49149  1.005780 -1.399243 -0.233819    0      0     0  255.0  189.0  1.078125   \n",
       "49150  0.999338 -1.401536 -0.233135    0      0     0  255.0  190.0  1.072266   \n",
       "49151  1.010001 -1.399496 -0.234230    0      0     0  255.0  191.0  1.082031   \n",
       "\n",
       "       alpha  \n",
       "0        255  \n",
       "1        255  \n",
       "2        255  \n",
       "3        255  \n",
       "4        255  \n",
       "...      ...  \n",
       "49147    255  \n",
       "49148    255  \n",
       "49149    255  \n",
       "49150    255  \n",
       "49151    255  \n",
       "\n",
       "[49152 rows x 10 columns]"
      ]
     },
     "execution_count": 22,
     "metadata": {},
     "output_type": "execute_result"
    }
   ],
   "source": [
    "ply_test"
   ]
  },
  {
   "cell_type": "code",
   "execution_count": 25,
   "id": "c5e4c57d",
   "metadata": {},
   "outputs": [],
   "source": [
    "import numpy as np \n",
    "import seaborn as sns"
   ]
  },
  {
   "cell_type": "code",
   "execution_count": 49,
   "id": "801a1240",
   "metadata": {},
   "outputs": [],
   "source": [
    "depth_array = np.zeros((int(ply_test['cx'].max())+100, int(ply_test['cy'].max())+100))"
   ]
  },
  {
   "cell_type": "code",
   "execution_count": 50,
   "id": "f24f230e",
   "metadata": {},
   "outputs": [
    {
     "data": {
      "text/plain": [
       "(355, 291)"
      ]
     },
     "execution_count": 50,
     "metadata": {},
     "output_type": "execute_result"
    }
   ],
   "source": [
    "depth_array.shape"
   ]
  },
  {
   "cell_type": "code",
   "execution_count": 51,
   "id": "e026897e",
   "metadata": {},
   "outputs": [],
   "source": [
    "for tuple_ in ply_test.itertuples(): \n",
    "    depth_array[int(tuple_.cy)][int(tuple_.cx)] = tuple_.depth\n",
    "    "
   ]
  },
  {
   "cell_type": "code",
   "execution_count": 52,
   "id": "6e7b6678",
   "metadata": {},
   "outputs": [
    {
     "data": {
      "text/plain": [
       "<AxesSubplot:>"
      ]
     },
     "execution_count": 52,
     "metadata": {},
     "output_type": "execute_result"
    },
    {
     "data": {
      "image/png": "[encoded data removed]",
      "text/plain": [
       "<Figure size 432x288 with 2 Axes>"
      ]
     },
     "metadata": {
      "needs_background": "light"
     },
     "output_type": "display_data"
    }
   ],
   "source": [
    "sns.heatmap(depth_array, )"
   ]
  },
  {
   "cell_type": "code",
   "execution_count": null,
   "id": "988a3805",
   "metadata": {},
   "outputs": [],
   "source": []
  }
 ],
 "metadata": {
  "kernelspec": {
   "display_name": "yrkim",
   "language": "python",
   "name": "yrkim"
  },
  "language_info": {
   "codemirror_mode": {
    "name": "ipython",
    "version": 3
   },
   "file_extension": ".py",
   "mimetype": "text/x-python",
   "name": "python",
   "nbconvert_exporter": "python",
   "pygments_lexer": "ipython3",
   "version": "3.6.13"
  }
 },
 "nbformat": 4,
 "nbformat_minor": 5
}
