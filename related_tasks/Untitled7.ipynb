{
 "cells": [
  {
   "cell_type": "code",
   "execution_count": 5,
   "id": "fe9b3413",
   "metadata": {},
   "outputs": [],
   "source": [
    "import numpy as np"
   ]
  },
  {
   "cell_type": "code",
   "execution_count": 19,
   "id": "c33b8a34",
   "metadata": {},
   "outputs": [
    {
     "data": {
      "text/plain": [
       "(3, 3, 2)"
      ]
     },
     "execution_count": 19,
     "metadata": {},
     "output_type": "execute_result"
    }
   ],
   "source": [
    "t = np.array([\n",
    "    [[14, 9],\n",
    "        [26, 11],\n",
    "        [26, 5]],\n",
    "              \n",
    "    [[8, 9],\n",
    "        [11, 7],\n",
    "        [20, 3]],\n",
    "     \n",
    "    [[8, 9],\n",
    "        [11, 6],\n",
    "        [9, 14]]])\n",
    "t.shape\n",
    "    "
   ]
  },
  {
   "cell_type": "code",
   "execution_count": 9,
   "id": "4dddf352",
   "metadata": {},
   "outputs": [
    {
     "data": {
      "text/plain": [
       "(3, 3, 3)"
      ]
     },
     "execution_count": 9,
     "metadata": {},
     "output_type": "execute_result"
    }
   ],
   "source": [
    "t = np.array([\n",
    "    [[14, 9, 2],\n",
    "        [26, 11, 23],\n",
    "        [26, 5, 12]],\n",
    "              \n",
    "    [[8, 9, 24],\n",
    "        [11, 7, 17],\n",
    "        [20, 3, 21]],\n",
    "             \n",
    "    [[8, 9, 7],\n",
    "        [11, 6, 26],\n",
    "        [9, 14, 8]]])\n",
    "t.shape\n",
    "    "
   ]
  },
  {
   "cell_type": "code",
   "execution_count": 20,
   "id": "0a78e933",
   "metadata": {},
   "outputs": [
    {
     "data": {
      "text/plain": [
       "(array([], dtype=int64), array([], dtype=int64), array([], dtype=int64))"
      ]
     },
     "execution_count": 20,
     "metadata": {},
     "output_type": "execute_result"
    }
   ],
   "source": [
    "np.where(t==2)"
   ]
  },
  {
   "cell_type": "code",
   "execution_count": 21,
   "id": "2d7c06c0",
   "metadata": {},
   "outputs": [
    {
     "data": {
      "text/plain": [
       "(array([2]), array([1]), array([1]))"
      ]
     },
     "execution_count": 21,
     "metadata": {},
     "output_type": "execute_result"
    }
   ],
   "source": [
    "np.where(t==6)"
   ]
  },
  {
   "cell_type": "code",
   "execution_count": 14,
   "id": "557a30a7",
   "metadata": {},
   "outputs": [
    {
     "data": {
      "text/plain": [
       "(array([0, 1, 2, 2]), array([0, 0, 0, 2]), array([1, 1, 1, 0]))"
      ]
     },
     "execution_count": 14,
     "metadata": {},
     "output_type": "execute_result"
    }
   ],
   "source": [
    "np.where(t==9)"
   ]
  },
  {
   "cell_type": "code",
   "execution_count": 22,
   "id": "adecd00f",
   "metadata": {},
   "outputs": [
    {
     "data": {
      "text/plain": [
       "(array([0, 1, 2]), array([1, 1, 1]), array([1, 0, 0]))"
      ]
     },
     "execution_count": 22,
     "metadata": {},
     "output_type": "execute_result"
    }
   ],
   "source": [
    "np.where(t==11)"
   ]
  },
  {
   "cell_type": "code",
   "execution_count": null,
   "id": "b7605729",
   "metadata": {},
   "outputs": [],
   "source": []
  }
 ],
 "metadata": {
  "kernelspec": {
   "display_name": "yrkim",
   "language": "python",
   "name": "yrkim"
  },
  "language_info": {
   "codemirror_mode": {
    "name": "ipython",
    "version": 3
   },
   "file_extension": ".py",
   "mimetype": "text/x-python",
   "name": "python",
   "nbconvert_exporter": "python",
   "pygments_lexer": "ipython3",
   "version": "3.6.13"
  }
 },
 "nbformat": 4,
 "nbformat_minor": 5
}
