{
 "cells": [
  {
   "cell_type": "code",
   "execution_count": 69,
   "id": "f531de04",
   "metadata": {},
   "outputs": [],
   "source": [
    "import cv2\n",
    "import numpy as np\n",
    "import os.path as osp\n",
    "import os\n",
    "import copy\n",
    "import random\n",
    "from datetime import datetime\n",
    "from tqdm import tqdm\n",
    "import matplotlib.pyplot as plt\n",
    "\n",
    "\n",
    "import torch\n",
    "import torch.nn as nn\n",
    "from torch.utils.data import Dataset,DataLoader\n",
    "from torchvision import transforms as T\n",
    "import seaborn as sns\n"
   ]
  },
  {
   "cell_type": "code",
   "execution_count": 70,
   "id": "256c8e6a",
   "metadata": {},
   "outputs": [
    {
     "name": "stdout",
     "output_type": "stream",
     "text": [
      "768\n",
      "216\n"
     ]
    }
   ],
   "source": [
    "## Input : RGB(3-channel) + Point_Cloud(3-channel)\n",
    "\n",
    "model_path = 'model_dir'\n",
    "data_path = '/mnt/nas3/yrkim/liveness_lidar_project/GC_project/LDFAS'\n",
    "\n",
    "# person_number = [int(i) for i in os.listdir(data_path) if i.isdigit()]\n",
    "person_number = [i for i in range(1,13)]\n",
    "test_number = [i for i in range(13,16)]\n",
    "\n",
    "traindata_portion = 0.8\n",
    "\n",
    "train_img_paths, test_img_paths = [],[]\n",
    "for i in person_number :\n",
    "    img_path = osp.join(data_path,str(i),'bonafide')\n",
    "    files = os.listdir(img_path)\n",
    "    files = [j for j in files if (j.split('.')[-1]=='jpg') and (j.split('_')[0]=='rgb')]\n",
    "    random.shuffle(files)\n",
    "    \n",
    "    mask_files= [osp.join(data_path,str(i),'attack_mask',j) for j in files]\n",
    "    replay_files= [osp.join(data_path,str(i),'attack_replay',j) for j in files]\n",
    "    paper_files= [osp.join(data_path,str(i),'attack_paper',j) for j in files]\n",
    "    files = [osp.join(data_path,str(i),'bonafide',j) for j in files]\n",
    "    \n",
    "    cloud_files = [osp.join('real_cloud_data',j.split('/')[-3], \n",
    "                            (('pc_'+j.split('/')[-1].split('_')[-1]).split('.')[0]+'.npy')) for j in files]\n",
    "    mask_cloud_files = [osp.join('mask_cloud_data',j.split('/')[-3], \n",
    "                            (('pc_'+j.split('/')[-1].split('_')[-1]).split('.')[0]+'.npy')) for j in mask_files]\n",
    "    replay_cloud_files = [osp.join('replay_cloud_data',j.split('/')[-3], \n",
    "                            (('pc_'+j.split('/')[-1].split('_')[-1]).split('.')[0]+'.npy')) for j in replay_files]\n",
    "    paper_cloud_files = [osp.join('paper_cloud_data',j.split('/')[-3], \n",
    "                            (('pc_'+j.split('/')[-1].split('_')[-1]).split('.')[0]+'.npy')) for j in paper_files]\n",
    "        \n",
    "    train_img_paths += list(zip(files,cloud_files))[:int(len(files)*traindata_portion)]\n",
    "    train_img_paths += list(zip(mask_files,mask_cloud_files))[:int(len(files)*traindata_portion)]\n",
    "    train_img_paths += list(zip(replay_files,replay_cloud_files))[:int(len(files)*traindata_portion)]\n",
    "    train_img_paths += list(zip(paper_files,paper_cloud_files))[:int(len(files)*traindata_portion)]\n",
    "    \n",
    "    test_img_paths += list(zip(files,cloud_files))[int(len(files)*traindata_portion):]\n",
    "#     test_img_paths += list(zip(mask_files,mask_cloud_files))[int(len(files)*traindata_portion):]\n",
    "#     test_img_paths += list(zip(replay_files,replay_cloud_files))[int(len(files)*traindata_portion):]\n",
    "    test_img_paths += list(zip(paper_files,paper_cloud_files))[int(len(files)*traindata_portion):]\n",
    "\n",
    "    \n",
    "for i in test_number :\n",
    "    img_path = osp.join(data_path,str(i),'bonafide')\n",
    "    files = os.listdir(img_path)\n",
    "    files = [j for j in files if (j.split('.')[-1]=='jpg') and (j.split('_')[0]=='rgb')]\n",
    "    random.shuffle(files)\n",
    "    \n",
    "#     mask_files= [osp.join(data_path,str(i),'attack_mask',j) for j in files]\n",
    "#     replay_files= [osp.join(data_path,str(i),'attack_replay',j) for j in files]\n",
    "    paper_files= [osp.join(data_path,str(i),'attack_paper',j) for j in files]\n",
    "    files = [osp.join(data_path,str(i),'bonafide',j) for j in files]\n",
    "    \n",
    "    cloud_files = [osp.join('real_cloud_data',j.split('/')[-3], \n",
    "                            (('pc_'+j.split('/')[-1].split('_')[-1]).split('.')[0]+'.npy')) for j in files]\n",
    "#     mask_cloud_files = [osp.join('mask_cloud_data',j.split('/')[-3], \n",
    "#                             (('pc_'+j.split('/')[-1].split('_')[-1]).split('.')[0]+'.npy')) for j in mask_files]\n",
    "#     replay_cloud_files = [osp.join('replay_cloud_data',j.split('/')[-3], \n",
    "#                             (('pc_'+j.split('/')[-1].split('_')[-1]).split('.')[0]+'.npy')) for j in replay_files]\n",
    "    paper_cloud_files = [osp.join('paper_cloud_data',j.split('/')[-3], \n",
    "                            (('pc_'+j.split('/')[-1].split('_')[-1]).split('.')[0]+'.npy')) for j in paper_files]\n",
    "        \n",
    "    test_img_paths += list(zip(files,cloud_files))[:]\n",
    "#     test_img_paths += list(zip(mask_files,mask_cloud_files))[:]\n",
    "#     test_img_paths += list(zip(replay_files,replay_cloud_files))[:]\n",
    "    test_img_paths += list(zip(paper_files,paper_cloud_files))[:]\n",
    "\n",
    "\n",
    "random.shuffle(train_img_paths)\n",
    "random.shuffle(test_img_paths)\n",
    "\n",
    "print(len(train_img_paths))\n",
    "print(len(test_img_paths))"
   ]
  },
  {
   "cell_type": "code",
   "execution_count": 71,
   "id": "89b9dd01",
   "metadata": {},
   "outputs": [],
   "source": [
    "class FaceData(Dataset):\n",
    "    def __init__(self,data_paths) :\n",
    "        self.data_paths = data_paths\n",
    "        \n",
    "        normalize = T.Normalize(mean=[0.485, 0.456, 0.406],std = [0.229, 0.224, 0.225])\n",
    "        self.transforms = T.Compose([\n",
    "            T.ToTensor(),\n",
    "            normalize\n",
    "        ])\n",
    "        \n",
    "    def __getitem__(self, index):\n",
    "        rgb_path = self.data_paths[index][0]\n",
    "        cloud_path = self.data_paths[index][1]\n",
    "        data = cv2.imread(rgb_path)\n",
    "        data = cv2.cvtColor(data, cv2.COLOR_BGR2RGB)\n",
    "        # point-cloud data shape : (256, 192, 3)\n",
    "        data = cv2.resize(data, (180,180), interpolation=cv2.INTER_CUBIC)\n",
    "        \n",
    "        print(f\"rgb data shape {data.shape}\")\n",
    "        # crop\n",
    "        crop_width = 90\n",
    "        crop_height = 140\n",
    "        mid_x, mid_y = 90, 90\n",
    "        offset_x, offset_y = crop_width//2, crop_height//2\n",
    "        data = data[mid_y-offset_y:mid_y+offset_y, mid_x-offset_x:mid_x+offset_x]\n",
    "        print(f\"cropped rgb data shape {data.shape}\")\n",
    "        \n",
    "        \n",
    "        if self.transforms is not None :\n",
    "            data = self.transforms(data)\n",
    "            \n",
    "        cloud_data = np.load(cloud_path)\n",
    "        cloud_data = cv2.resize(cloud_data, (180,180), interpolation=cv2.INTER_CUBIC)\n",
    "        cloud_data += 5\n",
    "        print(f\"cloud data shape {cloud_data.shape}\")\n",
    "        ###### [!!!]  If A data is not scaled, it causes low performance.\n",
    "        shift_value = 0\n",
    "        xcoor = np.array(cloud_data[:, :, 0] + shift_value)\n",
    "        ycoor = np.array(cloud_data[:, :, 1] + shift_value)\n",
    "        zcoor = np.array(cloud_data[:, :, 2] + shift_value)\n",
    "        \n",
    "        xcoor = (xcoor-xcoor.mean())/xcoor.std()\n",
    "        ycoor = (ycoor-ycoor.mean())/ycoor.std()\n",
    "        zcoor = (zcoor-zcoor.mean())/zcoor.std()\n",
    "        \n",
    "        scaled_cloud = np.concatenate([xcoor[np.newaxis,:],ycoor[np.newaxis,:],zcoor[np.newaxis,:]])\n",
    "        \n",
    "        ######\n",
    "        \n",
    "        \n",
    "        # label - { 0 : real , 1 : mask }\n",
    "        if 'bonafide' in rgb_path :\n",
    "            label = 0\n",
    "        elif 'attack_mask' in rgb_path :\n",
    "            label = 1\n",
    "        elif 'attack_replay' in rgb_path :\n",
    "            label = 1\n",
    "        elif 'attack_paper' in rgb_path :\n",
    "            label = 1\n",
    "        return data,cloud_data,scaled_cloud, label\n",
    "    \n",
    "    def __len__(self):\n",
    "        return len(self.data_paths)"
   ]
  },
  {
   "cell_type": "code",
   "execution_count": 72,
   "id": "c197f046",
   "metadata": {
    "scrolled": false
   },
   "outputs": [
    {
     "name": "stdout",
     "output_type": "stream",
     "text": [
      "768 216\n"
     ]
    },
    {
     "name": "stderr",
     "output_type": "stream",
     "text": [
      "\r",
      "  0%|          | 0/192 [00:00<?, ?it/s]"
     ]
    },
    {
     "name": "stdout",
     "output_type": "stream",
     "text": [
      "rgb data shape (180, 180, 3)\n",
      "cropped rgb data shape (140, 90, 3)rgb data shape (180, 180, 3)\n",
      "rgb data shape (180, 180, 3)\n",
      "cloud data shape (180, 180, 4)\n",
      "rgb data shape (180, 180, 3)cropped rgb data shape (140, 90, 3)cropped rgb data shape (140, 90, 3)\n",
      "cloud data shape (180, 180, 4)\n",
      "\n",
      "\n",
      "\n",
      "cropped rgb data shape (140, 90, 3)\n",
      "cloud data shape (180, 180, 4)\n",
      "cloud data shape (180, 180, 4)\n",
      "rgb data shape (180, 180, 3)\n",
      "rgb data shape (180, 180, 3)rgb data shape (180, 180, 3)\n",
      "cropped rgb data shape (140, 90, 3)cropped rgb data shape (140, 90, 3)\n",
      "\n",
      "\n",
      "rgb data shape (180, 180, 3)\n",
      "cloud data shape (180, 180, 4)cloud data shape (180, 180, 4)cropped rgb data shape (140, 90, 3)\n",
      "cropped rgb data shape (140, 90, 3)\n",
      "\n",
      "cloud data shape (180, 180, 4)\n",
      "rgb data shape (180, 180, 3)cloud data shape (180, 180, 4)\n",
      "\n",
      "rgb data shape (180, 180, 3)\n",
      "\n",
      "cropped rgb data shape (140, 90, 3)cropped rgb data shape (140, 90, 3)rgb data shape (180, 180, 3)\n",
      "rgb data shape (180, 180, 3)\n",
      "\n",
      "\n",
      "cropped rgb data shape (140, 90, 3)cropped rgb data shape (140, 90, 3)cloud data shape (180, 180, 4)cloud data shape (180, 180, 4)\n",
      "\n",
      "\n",
      "\n",
      "cloud data shape (180, 180, 4)\n",
      "cloud data shape (180, 180, 4)\n",
      "rgb data shape (180, 180, 3)rgb data shape (180, 180, 3)\n",
      "\n",
      "cropped rgb data shape (140, 90, 3)cropped rgb data shape (140, 90, 3)rgb data shape (180, 180, 3)rgb data shape (180, 180, 3)\n",
      "\n",
      "\n",
      "cropped rgb data shape (140, 90, 3)cloud data shape (180, 180, 4)\n",
      "cloud data shape (180, 180, 4)\n",
      "\n",
      "\n",
      "cloud data shape (180, 180, 4)cropped rgb data shape (140, 90, 3)\n",
      "\n",
      "cloud data shape (180, 180, 4)rgb data shape (180, 180, 3)\n",
      "\n",
      "rgb data shape (180, 180, 3)rgb data shape (180, 180, 3)\n",
      "cropped rgb data shape (140, 90, 3)cropped rgb data shape (140, 90, 3)"
     ]
    },
    {
     "name": "stderr",
     "output_type": "stream",
     "text": [
      "\r",
      "  1%|          | 1/192 [00:01<06:14,  1.96s/it]"
     ]
    },
    {
     "name": "stdout",
     "output_type": "stream",
     "text": [
      "\n",
      "cloud data shape (180, 180, 4)rgb data shape (180, 180, 3)\n",
      "\n",
      "cropped rgb data shape (140, 90, 3)\n",
      "cloud data shape (180, 180, 4)\n",
      "cropped rgb data shape (140, 90, 3)\n",
      "\n",
      "\n",
      "cloud data shape (180, 180, 4)cloud data shape (180, 180, 4)\n",
      "\n",
      "rgb data shape (180, 180, 3)\n",
      "rgb data shape (180, 180, 3)rgb data shape (180, 180, 3)rgb data shape (180, 180, 3)\n",
      "cropped rgb data shape (140, 90, 3)\n",
      "\n",
      "cropped rgb data shape (140, 90, 3)\n",
      "cropped rgb data shape (140, 90, 3)cloud data shape (180, 180, 4)cropped rgb data shape (140, 90, 3)\n",
      "\n",
      "cloud data shape (180, 180, 4)\n",
      "cloud data shape (180, 180, 4)\n",
      "\n",
      "cloud data shape (180, 180, 4)\n",
      "rgb data shape (180, 180, 3)\n",
      "rgb data shape (180, 180, 3)\n",
      "\n",
      "cropped rgb data shape (140, 90, 3)cropped rgb data shape (140, 90, 3)\n",
      "\n",
      "rgb data shape (180, 180, 3)cloud data shape (180, 180, 4)rgb data shape (180, 180, 3)\n",
      "\n",
      "cloud data shape (180, 180, 4)\n",
      "cropped rgb data shape (140, 90, 3)\n",
      "cropped rgb data shape (140, 90, 3)\n",
      "\n",
      "cloud data shape (180, 180, 4)cloud data shape (180, 180, 4)\n",
      "rgb data shape (180, 180, 3)\n",
      "cropped rgb data shape (140, 90, 3)\n",
      "\n",
      "rgb data shape (180, 180, 3)cloud data shape (180, 180, 4)rgb data shape (180, 180, 3)\n",
      "cropped rgb data shape (140, 90, 3)\n",
      "\n",
      "\n",
      "cropped rgb data shape (140, 90, 3)rgb data shape (180, 180, 3)cloud data shape (180, 180, 4)\n",
      "cloud data shape (180, 180, 4)\n"
     ]
    },
    {
     "name": "stderr",
     "output_type": "stream",
     "text": [
      "\r",
      "  3%|▎         | 5/192 [00:02<01:21,  2.30it/s]"
     ]
    },
    {
     "name": "stdout",
     "output_type": "stream",
     "text": [
      "\n",
      "rgb data shape (180, 180, 3)\n",
      "cropped rgb data shape (140, 90, 3)\n",
      "\n",
      "cloud data shape (180, 180, 4)rgb data shape (180, 180, 3)cropped rgb data shape (140, 90, 3)\n",
      "\n",
      "cloud data shape (180, 180, 4)\n",
      "cropped rgb data shape (140, 90, 3)rgb data shape (180, 180, 3)\n",
      "\n",
      "cropped rgb data shape (140, 90, 3)\n",
      "\n",
      "cloud data shape (180, 180, 4)\n",
      "cloud data shape (180, 180, 4)\n",
      "rgb data shape (180, 180, 3)rgb data shape (180, 180, 3)\n",
      "cropped rgb data shape (140, 90, 3)\n",
      "rgb data shape (180, 180, 3)\n",
      "cropped rgb data shape (140, 90, 3)cloud data shape (180, 180, 4)\n",
      "\n",
      "cloud data shape (180, 180, 4)\n",
      "rgb data shape (180, 180, 3)\n",
      "\n",
      "cropped rgb data shape (140, 90, 3)\n",
      "cloud data shape (180, 180, 4)\n",
      "cropped rgb data shape (140, 90, 3)rgb data shape (180, 180, 3)rgb data shape (180, 180, 3)\n",
      "\n",
      "cloud data shape (180, 180, 4)rgb data shape (180, 180, 3)cropped rgb data shape (140, 90, 3)\n",
      "\n",
      "\n",
      "\n",
      "cropped rgb data shape (140, 90, 3)cropped rgb data shape (140, 90, 3)\n",
      "\n",
      "cloud data shape (180, 180, 4)cloud data shape (180, 180, 4)cloud data shape (180, 180, 4)rgb data shape (180, 180, 3)\n",
      "\n",
      "\n",
      "\n",
      "cropped rgb data shape (140, 90, 3)\n",
      "cloud data shape (180, 180, 4)\n",
      "rgb data shape (180, 180, 3)rgb data shape (180, 180, 3)rgb data shape (180, 180, 3)\n",
      "cropped rgb data shape (140, 90, 3)\n",
      "\n",
      "\n",
      "cropped rgb data shape (140, 90, 3)cloud data shape (180, 180, 4)\n",
      "rgb data shape (180, 180, 3)\n",
      "cropped rgb data shape (140, 90, 3)\n",
      "\n",
      "cropped rgb data shape (140, 90, 3)\n",
      "cloud data shape (180, 180, 4)cloud data shape (180, 180, 4)\n",
      "cloud data shape (180, 180, 4)\n",
      "\n"
     ]
    },
    {
     "name": "stderr",
     "output_type": "stream",
     "text": [
      "\r",
      "  5%|▍         | 9/192 [00:03<00:45,  4.02it/s]"
     ]
    },
    {
     "name": "stdout",
     "output_type": "stream",
     "text": [
      "rgb data shape (180, 180, 3)rgb data shape (180, 180, 3)rgb data shape (180, 180, 3)\n",
      "cropped rgb data shape (140, 90, 3)\n",
      "\n",
      "cropped rgb data shape (140, 90, 3)\n",
      "cropped rgb data shape (140, 90, 3)cloud data shape (180, 180, 4)\n",
      "\n",
      "cloud data shape (180, 180, 4)rgb data shape (180, 180, 3)\n",
      "cropped rgb data shape (140, 90, 3)\n",
      "\n",
      "cloud data shape (180, 180, 4)\n",
      "cloud data shape (180, 180, 4)\n",
      "\n",
      "rgb data shape (180, 180, 3)\n",
      "cropped rgb data shape (140, 90, 3)rgb data shape (180, 180, 3)rgb data shape (180, 180, 3)\n",
      "\n",
      "cloud data shape (180, 180, 4)rgb data shape (180, 180, 3)\n",
      "\n",
      "cropped rgb data shape (140, 90, 3)\n",
      "cropped rgb data shape (140, 90, 3)\n",
      "cropped rgb data shape (140, 90, 3)\n",
      "cloud data shape (180, 180, 4)\n",
      "\n",
      "cloud data shape (180, 180, 4)\n",
      "cloud data shape (180, 180, 4)\n",
      "rgb data shape (180, 180, 3)\n",
      "cropped rgb data shape (140, 90, 3)rgb data shape (180, 180, 3)\n",
      "\n",
      "rgb data shape (180, 180, 3)rgb data shape (180, 180, 3)\n",
      "cropped rgb data shape (140, 90, 3)cloud data shape (180, 180, 4)\n",
      "\n",
      "\n",
      "cloud data shape (180, 180, 4)cropped rgb data shape (140, 90, 3)cropped rgb data shape (140, 90, 3)\n",
      "\n",
      "\n",
      "rgb data shape (180, 180, 3)cloud data shape (180, 180, 4)\n",
      "cloud data shape (180, 180, 4)\n",
      "\n",
      "rgb data shape (180, 180, 3)cropped rgb data shape (140, 90, 3)\n",
      "rgb data shape (180, 180, 3)\n",
      "\n",
      "cloud data shape (180, 180, 4)\n",
      "cropped rgb data shape (140, 90, 3)\n",
      "cropped rgb data shape (140, 90, 3)"
     ]
    },
    {
     "name": "stderr",
     "output_type": "stream",
     "text": [
      "\r",
      "  7%|▋         | 13/192 [00:03<00:30,  5.87it/s]"
     ]
    },
    {
     "name": "stdout",
     "output_type": "stream",
     "text": [
      "cloud data shape (180, 180, 4)rgb data shape (180, 180, 3)\n",
      "\n",
      "\n",
      "cloud data shape (180, 180, 4)cropped rgb data shape (140, 90, 3)rgb data shape (180, 180, 3)\n",
      "\n",
      "\n",
      "cloud data shape (180, 180, 4)\n",
      "cropped rgb data shape (140, 90, 3)rgb data shape (180, 180, 3)\n",
      "\n",
      "cropped rgb data shape (140, 90, 3)rgb data shape (180, 180, 3)cloud data shape (180, 180, 4)\n",
      "\n",
      "cloud data shape (180, 180, 4)cropped rgb data shape (140, 90, 3)\n",
      "\n",
      "rgb data shape (180, 180, 3)\n",
      "cropped rgb data shape (140, 90, 3)\n",
      "cloud data shape (180, 180, 4)\n",
      "\n",
      "cloud data shape (180, 180, 4)\n",
      "rgb data shape (180, 180, 3)"
     ]
    },
    {
     "name": "stderr",
     "output_type": "stream",
     "text": [
      "\r",
      "  7%|▋         | 14/192 [00:03<00:32,  5.55it/s]"
     ]
    },
    {
     "name": "stdout",
     "output_type": "stream",
     "text": [
      "\n",
      "cropped rgb data shape (140, 90, 3)rgb data shape (180, 180, 3)rgb data shape (180, 180, 3)\n",
      "\n",
      "cloud data shape (180, 180, 4)\n",
      "cropped rgb data shape (140, 90, 3)\n",
      "rgb data shape (180, 180, 3)\n",
      "\n",
      "cropped rgb data shape (140, 90, 3)cropped rgb data shape (140, 90, 3)\n",
      "cloud data shape (180, 180, 4)\n",
      "rgb data shape (180, 180, 3)\n",
      "cloud data shape (180, 180, 4)\n",
      "cropped rgb data shape (140, 90, 3)\n",
      "rgb data shape (180, 180, 3)cloud data shape (180, 180, 4)\n",
      "cloud data shape (180, 180, 4)\n",
      "\n",
      "\n",
      "cropped rgb data shape (140, 90, 3)\n",
      "cloud data shape (180, 180, 4)\n",
      "rgb data shape (180, 180, 3)\n",
      "cropped rgb data shape (140, 90, 3)\n",
      "rgb data shape (180, 180, 3)cloud data shape (180, 180, 4)rgb data shape (180, 180, 3)\n",
      "\n",
      "rgb data shape (180, 180, 3)cropped rgb data shape (140, 90, 3)\n",
      "\n",
      "\n",
      "rgb data shape (180, 180, 3)cropped rgb data shape (140, 90, 3)\n",
      "cloud data shape (180, 180, 4)cropped rgb data shape (140, 90, 3)cloud data shape (180, 180, 4)\n",
      "\n",
      "\n",
      "\n"
     ]
    },
    {
     "name": "stderr",
     "output_type": "stream",
     "text": [
      "\r",
      "  9%|▉         | 17/192 [00:04<00:29,  5.87it/s]"
     ]
    },
    {
     "name": "stdout",
     "output_type": "stream",
     "text": [
      "cropped rgb data shape (140, 90, 3)cloud data shape (180, 180, 4)\n",
      "\n",
      "cloud data shape (180, 180, 4)\n",
      "rgb data shape (180, 180, 3)\n",
      "rgb data shape (180, 180, 3)cropped rgb data shape (140, 90, 3)\n",
      "rgb data shape (180, 180, 3)\n",
      "rgb data shape (180, 180, 3)\n",
      "\n",
      "cropped rgb data shape (140, 90, 3)cropped rgb data shape (140, 90, 3)cloud data shape (180, 180, 4)\n",
      "cropped rgb data shape (140, 90, 3)\n",
      "cloud data shape (180, 180, 4)\n",
      "\n",
      "cloud data shape (180, 180, 4)\n",
      "cloud data shape (180, 180, 4)\n",
      "\n",
      "rgb data shape (180, 180, 3)rgb data shape (180, 180, 3)"
     ]
    },
    {
     "name": "stderr",
     "output_type": "stream",
     "text": [
      "\r",
      "  9%|▉         | 18/192 [00:04<00:34,  4.98it/s]"
     ]
    },
    {
     "name": "stdout",
     "output_type": "stream",
     "text": [
      "rgb data shape (180, 180, 3)\n",
      "\n",
      "cropped rgb data shape (140, 90, 3)\n",
      "rgb data shape (180, 180, 3)cropped rgb data shape (140, 90, 3)\n",
      "\n",
      "cloud data shape (180, 180, 4)\n",
      "cropped rgb data shape (140, 90, 3)cloud data shape (180, 180, 4)\n",
      "\n",
      "cropped rgb data shape (140, 90, 3)\n",
      "\n",
      "cloud data shape (180, 180, 4)cloud data shape (180, 180, 4)rgb data shape (180, 180, 3)\n",
      "\n",
      "\n",
      "rgb data shape (180, 180, 3)cropped rgb data shape (140, 90, 3)\n",
      "\n",
      "rgb data shape (180, 180, 3)cropped rgb data shape (140, 90, 3)\n",
      "cropped rgb data shape (140, 90, 3)\n",
      "rgb data shape (180, 180, 3)cloud data shape (180, 180, 4)\n",
      "cloud data shape (180, 180, 4)\n",
      "\n",
      "cloud data shape (180, 180, 4)\n",
      "\n",
      "cropped rgb data shape (140, 90, 3)rgb data shape (180, 180, 3)\n",
      "\n",
      "cloud data shape (180, 180, 4)rgb data shape (180, 180, 3)\n",
      "cropped rgb data shape (140, 90, 3)\n",
      "cloud data shape (180, 180, 4)\n",
      "\n"
     ]
    },
    {
     "name": "stderr",
     "output_type": "stream",
     "text": [
      "\r",
      " 11%|█         | 21/192 [00:04<00:34,  5.03it/s]"
     ]
    },
    {
     "name": "stdout",
     "output_type": "stream",
     "text": [
      "cropped rgb data shape (140, 90, 3)rgb data shape (180, 180, 3)\n",
      "\n",
      "rgb data shape (180, 180, 3)rgb data shape (180, 180, 3)\n",
      "cropped rgb data shape (140, 90, 3)\n",
      "\n",
      "cloud data shape (180, 180, 4)cloud data shape (180, 180, 4)cropped rgb data shape (140, 90, 3)\n",
      "\n",
      "cropped rgb data shape (140, 90, 3)\n",
      "\n",
      "cloud data shape (180, 180, 4)\n",
      "cloud data shape (180, 180, 4)rgb data shape (180, 180, 3)rgb data shape (180, 180, 3)\n",
      "\n",
      "\n",
      "rgb data shape (180, 180, 3)\n",
      "cropped rgb data shape (140, 90, 3)cropped rgb data shape (140, 90, 3)cropped rgb data shape (140, 90, 3)\n",
      "rgb data shape (180, 180, 3)\n",
      "\n",
      "cloud data shape (180, 180, 4)\n",
      "\n",
      "cloud data shape (180, 180, 4)cloud data shape (180, 180, 4)cropped rgb data shape (140, 90, 3)\n"
     ]
    },
    {
     "name": "stderr",
     "output_type": "stream",
     "text": [
      "\r",
      " 11%|█▏        | 22/192 [00:05<00:39,  4.32it/s]"
     ]
    },
    {
     "name": "stdout",
     "output_type": "stream",
     "text": [
      "\n",
      "cloud data shape (180, 180, 4)\n",
      "rgb data shape (180, 180, 3)\n",
      "rgb data shape (180, 180, 3)cropped rgb data shape (140, 90, 3)\n",
      "\n",
      "cropped rgb data shape (140, 90, 3)rgb data shape (180, 180, 3)\n",
      "\n",
      "\n",
      "cloud data shape (180, 180, 4)rgb data shape (180, 180, 3)cloud data shape (180, 180, 4)\n",
      "\n",
      "cropped rgb data shape (140, 90, 3)\n",
      "\n",
      "rgb data shape (180, 180, 3)cropped rgb data shape (140, 90, 3)cloud data shape (180, 180, 4)rgb data shape (180, 180, 3)\n",
      "\n",
      "\n",
      "\n",
      "cropped rgb data shape (140, 90, 3)cloud data shape (180, 180, 4)cropped rgb data shape (140, 90, 3)\n",
      "\n",
      "\n",
      "cloud data shape (180, 180, 4)\n",
      "cloud data shape (180, 180, 4)\n",
      "rgb data shape (180, 180, 3)\n",
      "cropped rgb data shape (140, 90, 3)\n",
      "rgb data shape (180, 180, 3)cloud data shape (180, 180, 4)\n",
      "\n",
      "cropped rgb data shape (140, 90, 3)rgb data shape (180, 180, 3)\n"
     ]
    },
    {
     "name": "stderr",
     "output_type": "stream",
     "text": [
      "\r",
      " 13%|█▎        | 25/192 [00:05<00:34,  4.84it/s]"
     ]
    },
    {
     "name": "stdout",
     "output_type": "stream",
     "text": [
      "cloud data shape (180, 180, 4)\n",
      "\n",
      "rgb data shape (180, 180, 3)\n",
      "cropped rgb data shape (140, 90, 3)\n",
      "cropped rgb data shape (140, 90, 3)cloud data shape (180, 180, 4)\n",
      "cloud data shape (180, 180, 4)\n",
      "rgb data shape (180, 180, 3)\n",
      "rgb data shape (180, 180, 3)\n",
      "\n",
      "cropped rgb data shape (140, 90, 3)cropped rgb data shape (140, 90, 3)\n",
      "\n",
      "rgb data shape (180, 180, 3)cloud data shape (180, 180, 4)\n",
      "\n",
      "rgb data shape (180, 180, 3)cloud data shape (180, 180, 4)\n",
      "\n",
      "cropped rgb data shape (140, 90, 3)\n",
      "cropped rgb data shape (140, 90, 3)cloud data shape (180, 180, 4)rgb data shape (180, 180, 3)\n",
      "rgb data shape (180, 180, 3)\n",
      "\n",
      "cloud data shape (180, 180, 4)\n",
      "cropped rgb data shape (140, 90, 3)cropped rgb data shape (140, 90, 3)rgb data shape (180, 180, 3)\n",
      "cloud data shape (180, 180, 4)\n",
      "\n",
      "\n"
     ]
    },
    {
     "name": "stderr",
     "output_type": "stream",
     "text": [
      "\r",
      " 14%|█▎        | 26/192 [00:06<00:40,  4.06it/s]"
     ]
    },
    {
     "name": "stdout",
     "output_type": "stream",
     "text": [
      "\n",
      "cloud data shape (180, 180, 4)\n",
      "cropped rgb data shape (140, 90, 3)\n",
      "rgb data shape (180, 180, 3)rgb data shape (180, 180, 3)\n",
      "cloud data shape (180, 180, 4)cropped rgb data shape (140, 90, 3)\n",
      "cloud data shape (180, 180, 4)\n",
      "rgb data shape (180, 180, 3)\n",
      "\n",
      "\n",
      "cropped rgb data shape (140, 90, 3)"
     ]
    },
    {
     "name": "stderr",
     "output_type": "stream",
     "text": [
      "\r",
      " 14%|█▍        | 27/192 [00:06<00:37,  4.35it/s]"
     ]
    },
    {
     "name": "stdout",
     "output_type": "stream",
     "text": [
      "\n",
      "cropped rgb data shape (140, 90, 3)\n",
      "cloud data shape (180, 180, 4)cloud data shape (180, 180, 4)\n",
      "\n",
      "rgb data shape (180, 180, 3)\n",
      "rgb data shape (180, 180, 3)rgb data shape (180, 180, 3)rgb data shape (180, 180, 3)\n",
      "cropped rgb data shape (140, 90, 3)cropped rgb data shape (140, 90, 3)\n",
      "\n",
      "cropped rgb data shape (140, 90, 3)cloud data shape (180, 180, 4)\n",
      "cloud data shape (180, 180, 4)\n",
      "\n",
      "\n",
      "\n",
      "cropped rgb data shape (140, 90, 3)rgb data shape (180, 180, 3)\n",
      "cloud data shape (180, 180, 4)\n",
      "cropped rgb data shape (140, 90, 3)cloud data shape (180, 180, 4)\n",
      "rgb data shape (180, 180, 3)\n",
      "\n",
      "\n"
     ]
    },
    {
     "name": "stderr",
     "output_type": "stream",
     "text": [
      "\r",
      " 15%|█▌        | 29/192 [00:06<00:33,  4.89it/s]"
     ]
    },
    {
     "name": "stdout",
     "output_type": "stream",
     "text": [
      "cloud data shape (180, 180, 4)cropped rgb data shape (140, 90, 3)\n",
      "\n",
      "rgb data shape (180, 180, 3)cloud data shape (180, 180, 4)rgb data shape (180, 180, 3)\n",
      "cropped rgb data shape (140, 90, 3)\n",
      "\n",
      "\n",
      "cropped rgb data shape (140, 90, 3)rgb data shape (180, 180, 3)cloud data shape (180, 180, 4)\n",
      "\n",
      "\n",
      "cloud data shape (180, 180, 4)rgb data shape (180, 180, 3)cropped rgb data shape (140, 90, 3)\n",
      "\n",
      "\n",
      "rgb data shape (180, 180, 3)cloud data shape (180, 180, 4)\n",
      "cropped rgb data shape (140, 90, 3)\n",
      "\n",
      "rgb data shape (180, 180, 3)cropped rgb data shape (140, 90, 3)cloud data shape (180, 180, 4)rgb data shape (180, 180, 3)\n",
      "\n",
      "\n"
     ]
    },
    {
     "name": "stderr",
     "output_type": "stream",
     "text": [
      "\r",
      " 16%|█▌        | 30/192 [00:07<00:37,  4.26it/s]"
     ]
    },
    {
     "name": "stdout",
     "output_type": "stream",
     "text": [
      "cropped rgb data shape (140, 90, 3)\n",
      "cloud data shape (180, 180, 4)cropped rgb data shape (140, 90, 3)\n",
      "\n",
      "cloud data shape (180, 180, 4)rgb data shape (180, 180, 3)\n",
      "\n",
      "\n",
      "cloud data shape (180, 180, 4)cropped rgb data shape (140, 90, 3)\n",
      "\n",
      "cloud data shape (180, 180, 4)rgb data shape (180, 180, 3)"
     ]
    },
    {
     "name": "stderr",
     "output_type": "stream",
     "text": [
      "\r",
      " 16%|█▌        | 31/192 [00:07<00:34,  4.60it/s]"
     ]
    },
    {
     "name": "stdout",
     "output_type": "stream",
     "text": [
      "rgb data shape (180, 180, 3)\n",
      "\n",
      "\n",
      "cropped rgb data shape (140, 90, 3)cropped rgb data shape (140, 90, 3)\n",
      "rgb data shape (180, 180, 3)\n",
      "rgb data shape (180, 180, 3)cropped rgb data shape (140, 90, 3)\n",
      "cloud data shape (180, 180, 4)\n",
      "\n",
      "cloud data shape (180, 180, 4)\n",
      "cropped rgb data shape (140, 90, 3)cloud data shape (180, 180, 4)\n",
      "\n",
      "\n",
      "rgb data shape (180, 180, 3)cloud data shape (180, 180, 4)\n",
      "\n",
      "rgb data shape (180, 180, 3)cropped rgb data shape (140, 90, 3)\n",
      "cloud data shape (180, 180, 4)\n",
      "rgb data shape (180, 180, 3)\n",
      "\n",
      "cropped rgb data shape (140, 90, 3)cropped rgb data shape (140, 90, 3)\n",
      "cloud data shape (180, 180, 4)\n",
      "rgb data shape (180, 180, 3)cloud data shape (180, 180, 4)rgb data shape (180, 180, 3)\n",
      "\n",
      "cropped rgb data shape (140, 90, 3)\n",
      "\n"
     ]
    },
    {
     "name": "stderr",
     "output_type": "stream",
     "text": [
      "\r",
      " 17%|█▋        | 33/192 [00:07<00:32,  4.87it/s]"
     ]
    },
    {
     "name": "stdout",
     "output_type": "stream",
     "text": [
      "\n",
      "cropped rgb data shape (140, 90, 3)cloud data shape (180, 180, 4)\n",
      "rgb data shape (180, 180, 3)\n",
      "cloud data shape (180, 180, 4)rgb data shape (180, 180, 3)\n",
      "\n",
      "\n",
      "cropped rgb data shape (140, 90, 3)cropped rgb data shape (140, 90, 3)\n",
      "\n",
      "cloud data shape (180, 180, 4)rgb data shape (180, 180, 3)rgb data shape (180, 180, 3)\n"
     ]
    },
    {
     "name": "stderr",
     "output_type": "stream",
     "text": [
      "\r",
      " 18%|█▊        | 34/192 [00:07<00:33,  4.69it/s]"
     ]
    },
    {
     "name": "stdout",
     "output_type": "stream",
     "text": [
      "cloud data shape (180, 180, 4)\n",
      "\n",
      "\n",
      "cropped rgb data shape (140, 90, 3)cropped rgb data shape (140, 90, 3)\n",
      "rgb data shape (180, 180, 3)\n",
      "rgb data shape (180, 180, 3)\n",
      "cloud data shape (180, 180, 4)cropped rgb data shape (140, 90, 3)cloud data shape (180, 180, 4)\n",
      "\n",
      "cropped rgb data shape (140, 90, 3)\n",
      "\n",
      "\n",
      "cloud data shape (180, 180, 4)cloud data shape (180, 180, 4)rgb data shape (180, 180, 3)\n",
      "\n",
      "\n",
      "cropped rgb data shape (140, 90, 3)rgb data shape (180, 180, 3)rgb data shape (180, 180, 3)\n",
      "cropped rgb data shape (140, 90, 3)\n",
      "cloud data shape (180, 180, 4)\n",
      "\n"
     ]
    },
    {
     "name": "stderr",
     "output_type": "stream",
     "text": [
      "\r",
      " 18%|█▊        | 35/192 [00:08<00:39,  3.99it/s]"
     ]
    },
    {
     "name": "stdout",
     "output_type": "stream",
     "text": [
      "\n",
      "cloud data shape (180, 180, 4)cropped rgb data shape (140, 90, 3)\n",
      "\n",
      "rgb data shape (180, 180, 3)\n",
      "cropped rgb data shape (140, 90, 3)rgb data shape (180, 180, 3)cloud data shape (180, 180, 4)\n",
      "\n",
      "\n",
      "cloud data shape (180, 180, 4)cropped rgb data shape (140, 90, 3)rgb data shape (180, 180, 3)\n",
      "\n",
      "cloud data shape (180, 180, 4)\n",
      "cropped rgb data shape (140, 90, 3)\n",
      "rgb data shape (180, 180, 3)\n",
      "\n",
      "cloud data shape (180, 180, 4)cropped rgb data shape (140, 90, 3)\n"
     ]
    },
    {
     "name": "stderr",
     "output_type": "stream",
     "text": [
      "\r",
      " 19%|█▉        | 37/192 [00:08<00:32,  4.75it/s]"
     ]
    },
    {
     "name": "stdout",
     "output_type": "stream",
     "text": [
      "rgb data shape (180, 180, 3)rgb data shape (180, 180, 3)\n",
      "\n",
      "\n",
      "cropped rgb data shape (140, 90, 3)cloud data shape (180, 180, 4)rgb data shape (180, 180, 3)\n",
      "\n",
      "\n",
      "cloud data shape (180, 180, 4)cropped rgb data shape (140, 90, 3)\n",
      "\n",
      "cloud data shape (180, 180, 4)\n",
      "cropped rgb data shape (140, 90, 3)\n",
      "rgb data shape (180, 180, 3)cloud data shape (180, 180, 4)rgb data shape (180, 180, 3)\n",
      "rgb data shape (180, 180, 3)\n",
      "cropped rgb data shape (140, 90, 3)\n",
      "\n",
      "\n",
      "cropped rgb data shape (140, 90, 3)\n",
      "cropped rgb data shape (140, 90, 3)\n",
      "cloud data shape (180, 180, 4)\n",
      "cloud data shape (180, 180, 4)cloud data shape (180, 180, 4)\n",
      "rgb data shape (180, 180, 3)\n",
      "\n",
      "cropped rgb data shape (140, 90, 3)\n",
      "rgb data shape (180, 180, 3)rgb data shape (180, 180, 3)\n",
      "\n",
      "rgb data shape (180, 180, 3)cloud data shape (180, 180, 4)\n",
      "cropped rgb data shape (140, 90, 3)cropped rgb data shape (140, 90, 3)\n"
     ]
    },
    {
     "name": "stderr",
     "output_type": "stream",
     "text": [
      "\r",
      " 20%|█▉        | 38/192 [00:09<00:41,  3.72it/s]"
     ]
    },
    {
     "name": "stdout",
     "output_type": "stream",
     "text": [
      "\n",
      "cloud data shape (180, 180, 4)\n",
      "cloud data shape (180, 180, 4)cropped rgb data shape (140, 90, 3)\n",
      "\n",
      "\n",
      "rgb data shape (180, 180, 3)cloud data shape (180, 180, 4)\n",
      "cropped rgb data shape (140, 90, 3)\n",
      "rgb data shape (180, 180, 3)\n",
      "cloud data shape (180, 180, 4)\n",
      "\n",
      "cropped rgb data shape (140, 90, 3)rgb data shape (180, 180, 3)\n",
      "\n",
      "rgb data shape (180, 180, 3)cloud data shape (180, 180, 4)\n",
      "\n",
      "cropped rgb data shape (140, 90, 3)cropped rgb data shape (140, 90, 3)rgb data shape (180, 180, 3)\n",
      "\n",
      "\n",
      "cloud data shape (180, 180, 4)\n",
      "cloud data shape (180, 180, 4)"
     ]
    },
    {
     "name": "stderr",
     "output_type": "stream",
     "text": [
      "\r",
      " 21%|██▏       | 41/192 [00:09<00:29,  5.17it/s]"
     ]
    },
    {
     "name": "stdout",
     "output_type": "stream",
     "text": [
      "cropped rgb data shape (140, 90, 3)\n",
      "\n",
      "rgb data shape (180, 180, 3)cloud data shape (180, 180, 4)\n",
      "\n",
      "cropped rgb data shape (140, 90, 3)\n",
      "cloud data shape (180, 180, 4)\n",
      "rgb data shape (180, 180, 3)\n",
      "rgb data shape (180, 180, 3)rgb data shape (180, 180, 3)cropped rgb data shape (140, 90, 3)\n",
      "\n",
      "cropped rgb data shape (140, 90, 3)\n",
      "cropped rgb data shape (140, 90, 3)cloud data shape (180, 180, 4)\n",
      "rgb data shape (180, 180, 3)cloud data shape (180, 180, 4)\n",
      "cloud data shape (180, 180, 4)\n",
      "\n",
      "\n",
      "\n",
      "cropped rgb data shape (140, 90, 3)rgb data shape (180, 180, 3)\n",
      "\n",
      "rgb data shape (180, 180, 3)rgb data shape (180, 180, 3)cloud data shape (180, 180, 4)\n",
      "\n",
      "\n",
      "cropped rgb data shape (140, 90, 3)cropped rgb data shape (140, 90, 3)cropped rgb data shape (140, 90, 3)\n",
      "cloud data shape (180, 180, 4)\n",
      "\n",
      "\n",
      "rgb data shape (180, 180, 3)cloud data shape (180, 180, 4)cloud data shape (180, 180, 4)\n",
      "\n",
      "\n",
      "cropped rgb data shape (140, 90, 3)"
     ]
    },
    {
     "name": "stderr",
     "output_type": "stream",
     "text": [
      "\r",
      " 22%|██▏       | 42/192 [00:10<00:41,  3.60it/s]"
     ]
    },
    {
     "name": "stdout",
     "output_type": "stream",
     "text": [
      "\n",
      "rgb data shape (180, 180, 3)cloud data shape (180, 180, 4)\n",
      "cropped rgb data shape (140, 90, 3)\n",
      "\n",
      "rgb data shape (180, 180, 3)rgb data shape (180, 180, 3)cloud data shape (180, 180, 4)\n",
      "\n",
      "cropped rgb data shape (140, 90, 3)rgb data shape (180, 180, 3)\n",
      "\n",
      "\n",
      "cloud data shape (180, 180, 4)cropped rgb data shape (140, 90, 3)cropped rgb data shape (140, 90, 3)\n",
      "\n",
      "rgb data shape (180, 180, 3)\n",
      "cloud data shape (180, 180, 4)cloud data shape (180, 180, 4)\n"
     ]
    },
    {
     "name": "stderr",
     "output_type": "stream",
     "text": [
      "\r",
      " 22%|██▏       | 43/192 [00:10<00:41,  3.61it/s]"
     ]
    },
    {
     "name": "stdout",
     "output_type": "stream",
     "text": [
      "\n",
      "\n",
      "cropped rgb data shape (140, 90, 3)rgb data shape (180, 180, 3)rgb data shape (180, 180, 3)\n",
      "\n",
      "\n",
      "cropped rgb data shape (140, 90, 3)rgb data shape (180, 180, 3)cloud data shape (180, 180, 4)\n",
      "\n",
      "cloud data shape (180, 180, 4)cropped rgb data shape (140, 90, 3)\n",
      "cropped rgb data shape (140, 90, 3)\n",
      "\n"
     ]
    },
    {
     "name": "stderr",
     "output_type": "stream",
     "text": [
      "\r",
      " 23%|██▎       | 45/192 [00:10<00:30,  4.85it/s]"
     ]
    },
    {
     "name": "stdout",
     "output_type": "stream",
     "text": [
      "\n",
      "cloud data shape (180, 180, 4)cloud data shape (180, 180, 4)\n",
      "\n",
      "rgb data shape (180, 180, 3)\n",
      "rgb data shape (180, 180, 3)rgb data shape (180, 180, 3)\n",
      "\n",
      "cropped rgb data shape (140, 90, 3)\n",
      "cropped rgb data shape (140, 90, 3)\n",
      "cloud data shape (180, 180, 4)cropped rgb data shape (140, 90, 3)\n",
      "cloud data shape (180, 180, 4)rgb data shape (180, 180, 3)\n",
      "\n",
      "\n",
      "cloud data shape (180, 180, 4)cropped rgb data shape (140, 90, 3)\n",
      "\n",
      "rgb data shape (180, 180, 3)rgb data shape (180, 180, 3)cloud data shape (180, 180, 4)\n",
      "rgb data shape (180, 180, 3)\n",
      "\n",
      "cropped rgb data shape (140, 90, 3)cropped rgb data shape (140, 90, 3)\n",
      "cropped rgb data shape (140, 90, 3)\n",
      "\n",
      "\n",
      "cloud data shape (180, 180, 4)\n",
      "cloud data shape (180, 180, 4)rgb data shape (180, 180, 3)cloud data shape (180, 180, 4)\n",
      "\n",
      "\n",
      "rgb data shape (180, 180, 3)\n",
      "cropped rgb data shape (140, 90, 3)\n",
      "rgb data shape (180, 180, 3)cropped rgb data shape (140, 90, 3)cloud data shape (180, 180, 4)\n",
      "\n",
      "rgb data shape (180, 180, 3)cropped rgb data shape (140, 90, 3)\n",
      "cloud data shape (180, 180, 4)cloud data shape (180, 180, 4)\n"
     ]
    },
    {
     "name": "stderr",
     "output_type": "stream",
     "text": [
      "\r",
      " 24%|██▍       | 46/192 [00:11<00:39,  3.66it/s]"
     ]
    },
    {
     "name": "stdout",
     "output_type": "stream",
     "text": [
      "\n",
      "\n",
      "\n",
      "cropped rgb data shape (140, 90, 3)\n",
      "rgb data shape (180, 180, 3)\n",
      "rgb data shape (180, 180, 3)\n",
      "cloud data shape (180, 180, 4)rgb data shape (180, 180, 3)\n",
      "cropped rgb data shape (140, 90, 3)cropped rgb data shape (140, 90, 3)\n",
      "cropped rgb data shape (140, 90, 3)\n",
      "cloud data shape (180, 180, 4)\n",
      "\n",
      "cloud data shape (180, 180, 4)\n",
      "\n",
      "cloud data shape (180, 180, 4)rgb data shape (180, 180, 3)\n",
      "\n",
      "cropped rgb data shape (140, 90, 3)\n",
      "cloud data shape (180, 180, 4)rgb data shape (180, 180, 3)rgb data shape (180, 180, 3)\n",
      "rgb data shape (180, 180, 3)\n",
      "\n",
      "\n",
      "cropped rgb data shape (140, 90, 3)cropped rgb data shape (140, 90, 3)\n",
      "\n",
      "cloud data shape (180, 180, 4)cropped rgb data shape (140, 90, 3)rgb data shape (180, 180, 3)\n",
      "\n",
      "cloud data shape (180, 180, 4)\n",
      "cropped rgb data shape (140, 90, 3)"
     ]
    },
    {
     "name": "stderr",
     "output_type": "stream",
     "text": [
      "\r",
      " 26%|██▌       | 49/192 [00:11<00:27,  5.13it/s]"
     ]
    },
    {
     "name": "stdout",
     "output_type": "stream",
     "text": [
      "cloud data shape (180, 180, 4)\n",
      "\n",
      "cloud data shape (180, 180, 4)\n",
      "\n",
      "rgb data shape (180, 180, 3)\n",
      "rgb data shape (180, 180, 3)rgb data shape (180, 180, 3)\n",
      "\n",
      "cropped rgb data shape (140, 90, 3)\n",
      "cloud data shape (180, 180, 4)\n",
      "cropped rgb data shape (140, 90, 3)\n",
      "cloud data shape (180, 180, 4)cropped rgb data shape (140, 90, 3)rgb data shape (180, 180, 3)\n",
      "cropped rgb data shape (140, 90, 3)\n",
      "cloud data shape (180, 180, 4)\n",
      "\n",
      "cloud data shape (180, 180, 4)rgb data shape (180, 180, 3)\n",
      "\n",
      "\n",
      "cropped rgb data shape (140, 90, 3)\n",
      "rgb data shape (180, 180, 3)cloud data shape (180, 180, 4)rgb data shape (180, 180, 3)\n",
      "cropped rgb data shape (140, 90, 3)\n",
      "rgb data shape (180, 180, 3)\n"
     ]
    },
    {
     "name": "stderr",
     "output_type": "stream",
     "text": [
      "\r",
      " 26%|██▌       | 50/192 [00:11<00:29,  4.82it/s]"
     ]
    },
    {
     "name": "stdout",
     "output_type": "stream",
     "text": [
      "cropped rgb data shape (140, 90, 3)\n",
      "cloud data shape (180, 180, 4)\n",
      "\n",
      "\n",
      "cropped rgb data shape (140, 90, 3)cloud data shape (180, 180, 4)\n",
      "rgb data shape (180, 180, 3)\n",
      "\n",
      "cropped rgb data shape (140, 90, 3)cloud data shape (180, 180, 4)\n",
      "rgb data shape (180, 180, 3)\n",
      "\n",
      "cropped rgb data shape (140, 90, 3)rgb data shape (180, 180, 3)cloud data shape (180, 180, 4)\n",
      "\n",
      "cropped rgb data shape (140, 90, 3)\n",
      "cloud data shape (180, 180, 4)\n",
      "\n",
      "cloud data shape (180, 180, 4)\n",
      "rgb data shape (180, 180, 3)\n",
      "rgb data shape (180, 180, 3)cropped rgb data shape (140, 90, 3)\n",
      "rgb data shape (180, 180, 3)\n",
      "rgb data shape (180, 180, 3)cloud data shape (180, 180, 4)cropped rgb data shape (140, 90, 3)\n",
      "\n",
      "\n",
      "cropped rgb data shape (140, 90, 3)cropped rgb data shape (140, 90, 3)\n",
      "cloud data shape (180, 180, 4)cloud data shape (180, 180, 4)\n",
      "\n",
      "\n",
      "\n",
      "rgb data shape (180, 180, 3)cloud data shape (180, 180, 4)\n",
      "\n",
      "cropped rgb data shape (140, 90, 3)rgb data shape (180, 180, 3)\n",
      "rgb data shape (180, 180, 3)cloud data shape (180, 180, 4)\n",
      "rgb data shape (180, 180, 3)cropped rgb data shape (140, 90, 3)\n",
      "\n",
      "\n",
      "cloud data shape (180, 180, 4)cropped rgb data shape (140, 90, 3)\n",
      "\n",
      "\n",
      "cloud data shape (180, 180, 4)\n"
     ]
    },
    {
     "name": "stderr",
     "output_type": "stream",
     "text": [
      "\r",
      " 28%|██▊       | 53/192 [00:12<00:26,  5.15it/s]"
     ]
    },
    {
     "name": "stdout",
     "output_type": "stream",
     "text": [
      "cropped rgb data shape (140, 90, 3)rgb data shape (180, 180, 3)\n",
      "\n",
      "rgb data shape (180, 180, 3)rgb data shape (180, 180, 3)cropped rgb data shape (140, 90, 3)cloud data shape (180, 180, 4)\n",
      "\n",
      "\n",
      "\n",
      "cropped rgb data shape (140, 90, 3)cropped rgb data shape (140, 90, 3)cloud data shape (180, 180, 4)\n",
      "rgb data shape (180, 180, 3)\n",
      "\n",
      "cloud data shape (180, 180, 4)\n",
      "cloud data shape (180, 180, 4)\n",
      "\n"
     ]
    },
    {
     "name": "stderr",
     "output_type": "stream",
     "text": [
      "\r",
      " 28%|██▊       | 54/192 [00:12<00:27,  5.09it/s]"
     ]
    },
    {
     "name": "stdout",
     "output_type": "stream",
     "text": [
      "cropped rgb data shape (140, 90, 3)rgb data shape (180, 180, 3)\n",
      "cloud data shape (180, 180, 4)\n",
      "rgb data shape (180, 180, 3)\n",
      "\n",
      "cropped rgb data shape (140, 90, 3)\n",
      "rgb data shape (180, 180, 3)cropped rgb data shape (140, 90, 3)\n",
      "cloud data shape (180, 180, 4)cloud data shape (180, 180, 4)\n",
      "\n",
      "\n",
      "rgb data shape (180, 180, 3)cropped rgb data shape (140, 90, 3)\n",
      "cloud data shape (180, 180, 4)\n",
      "rgb data shape (180, 180, 3)\n",
      "cropped rgb data shape (140, 90, 3)\n",
      "\n",
      "rgb data shape (180, 180, 3)cropped rgb data shape (140, 90, 3)cloud data shape (180, 180, 4)\n",
      "cropped rgb data shape (140, 90, 3)rgb data shape (180, 180, 3)\n",
      "\n",
      "\n",
      "cloud data shape (180, 180, 4)cloud data shape (180, 180, 4)\n",
      "\n",
      "cropped rgb data shape (140, 90, 3)\n",
      "\n",
      "rgb data shape (180, 180, 3)\n",
      "cropped rgb data shape (140, 90, 3)cloud data shape (180, 180, 4)rgb data shape (180, 180, 3)rgb data shape (180, 180, 3)\n",
      "\n",
      "\n",
      "cloud data shape (180, 180, 4)cropped rgb data shape (140, 90, 3)\n",
      "\n",
      "\n",
      "cloud data shape (180, 180, 4)cropped rgb data shape (140, 90, 3)\n",
      "rgb data shape (180, 180, 3)rgb data shape (180, 180, 3)\n",
      "\n"
     ]
    },
    {
     "name": "stderr",
     "output_type": "stream",
     "text": [
      "\r",
      " 30%|██▉       | 57/192 [00:12<00:25,  5.24it/s]"
     ]
    },
    {
     "name": "stdout",
     "output_type": "stream",
     "text": [
      "\n",
      "cloud data shape (180, 180, 4)cropped rgb data shape (140, 90, 3)\n",
      "\n",
      "cropped rgb data shape (140, 90, 3)cloud data shape (180, 180, 4)\n",
      "cloud data shape (180, 180, 4)\n",
      "rgb data shape (180, 180, 3)\n",
      "\n",
      "cropped rgb data shape (140, 90, 3)\n",
      "rgb data shape (180, 180, 3)\n",
      "cropped rgb data shape (140, 90, 3)cloud data shape (180, 180, 4)\n",
      "\n",
      "rgb data shape (180, 180, 3)cloud data shape (180, 180, 4)\n",
      "\n",
      "rgb data shape (180, 180, 3)rgb data shape (180, 180, 3)\n",
      "cropped rgb data shape (140, 90, 3)\n",
      "cropped rgb data shape (140, 90, 3)cropped rgb data shape (140, 90, 3)\n",
      "\n",
      "cloud data shape (180, 180, 4)rgb data shape (180, 180, 3)cloud data shape (180, 180, 4)\n",
      "\n",
      "\n",
      "\n",
      "cropped rgb data shape (140, 90, 3)cloud data shape (180, 180, 4)\n",
      "\n",
      "cloud data shape (180, 180, 4)"
     ]
    },
    {
     "name": "stderr",
     "output_type": "stream",
     "text": [
      "\r",
      " 30%|███       | 58/192 [00:13<00:32,  4.09it/s]"
     ]
    },
    {
     "name": "stdout",
     "output_type": "stream",
     "text": [
      "rgb data shape (180, 180, 3)\n",
      "\n",
      "cropped rgb data shape (140, 90, 3)rgb data shape (180, 180, 3)\n",
      "cloud data shape (180, 180, 4)\n",
      "rgb data shape (180, 180, 3)\n",
      "\n",
      "cropped rgb data shape (140, 90, 3)cropped rgb data shape (140, 90, 3)rgb data shape (180, 180, 3)\n",
      "\n",
      "\n",
      "rgb data shape (180, 180, 3)cloud data shape (180, 180, 4)\n",
      "cropped rgb data shape (140, 90, 3)cloud data shape (180, 180, 4)\n",
      "\n",
      "cropped rgb data shape (140, 90, 3)\n",
      "cloud data shape (180, 180, 4)rgb data shape (180, 180, 3)\n",
      "\n",
      "\n",
      "cloud data shape (180, 180, 4)cropped rgb data shape (140, 90, 3)\n",
      "\n",
      "rgb data shape (180, 180, 3)cloud data shape (180, 180, 4)\n",
      "\n",
      "rgb data shape (180, 180, 3)cropped rgb data shape (140, 90, 3)\n",
      "rgb data shape (180, 180, 3)\n",
      "\n",
      "cropped rgb data shape (140, 90, 3)cloud data shape (180, 180, 4)\n",
      "cropped rgb data shape (140, 90, 3)\n",
      "rgb data shape (180, 180, 3)cloud data shape (180, 180, 4)\n",
      "\n",
      "cloud data shape (180, 180, 4)\n",
      "\n",
      "cropped rgb data shape (140, 90, 3)rgb data shape (180, 180, 3)"
     ]
    },
    {
     "name": "stderr",
     "output_type": "stream",
     "text": [
      "\r",
      " 32%|███▏      | 61/192 [00:13<00:28,  4.61it/s]"
     ]
    },
    {
     "name": "stdout",
     "output_type": "stream",
     "text": [
      "\n",
      "\n",
      "cropped rgb data shape (140, 90, 3)cloud data shape (180, 180, 4)\n",
      "rgb data shape (180, 180, 3)cloud data shape (180, 180, 4)\n",
      "\n",
      "\n",
      "cropped rgb data shape (140, 90, 3)rgb data shape (180, 180, 3)\n",
      "\n",
      "cropped rgb data shape (140, 90, 3)rgb data shape (180, 180, 3)\n",
      "cropped rgb data shape (140, 90, 3)\n",
      "rgb data shape (180, 180, 3)\n",
      "cloud data shape (180, 180, 4)\n",
      "cloud data shape (180, 180, 4)cloud data shape (180, 180, 4)\n",
      "\n",
      "\n",
      "cropped rgb data shape (140, 90, 3)"
     ]
    },
    {
     "name": "stderr",
     "output_type": "stream",
     "text": [
      "\r",
      " 32%|███▏      | 62/192 [00:14<00:29,  4.42it/s]"
     ]
    },
    {
     "name": "stdout",
     "output_type": "stream",
     "text": [
      "\n",
      "cloud data shape (180, 180, 4)rgb data shape (180, 180, 3)\n",
      "\n",
      "rgb data shape (180, 180, 3)\n",
      "rgb data shape (180, 180, 3)cropped rgb data shape (140, 90, 3)\n",
      "cloud data shape (180, 180, 4)\n",
      "\n",
      "cropped rgb data shape (140, 90, 3)cropped rgb data shape (140, 90, 3)\n",
      "rgb data shape (180, 180, 3)\n",
      "\n",
      "rgb data shape (180, 180, 3)cloud data shape (180, 180, 4)\n",
      "cropped rgb data shape (140, 90, 3)cropped rgb data shape (140, 90, 3)\n",
      "\n",
      "cloud data shape (180, 180, 4)\n",
      "cloud data shape (180, 180, 4)\n",
      "cloud data shape (180, 180, 4)\n",
      "\n",
      "rgb data shape (180, 180, 3)rgb data shape (180, 180, 3)\n",
      "rgb data shape (180, 180, 3)\n",
      "cropped rgb data shape (140, 90, 3)\n",
      "cloud data shape (180, 180, 4)rgb data shape (180, 180, 3)\n",
      "\n",
      "cropped rgb data shape (140, 90, 3)\n",
      "cropped rgb data shape (140, 90, 3)\n",
      "\n",
      "cloud data shape (180, 180, 4)cloud data shape (180, 180, 4)cropped rgb data shape (140, 90, 3)\n",
      "\n",
      "rgb data shape (180, 180, 3)\n",
      "cloud data shape (180, 180, 4)\n",
      "cropped rgb data shape (140, 90, 3)\n",
      "\n"
     ]
    },
    {
     "name": "stderr",
     "output_type": "stream",
     "text": [
      "\r",
      " 34%|███▍      | 65/192 [00:14<00:24,  5.13it/s]"
     ]
    },
    {
     "name": "stdout",
     "output_type": "stream",
     "text": [
      "cloud data shape (180, 180, 4)\n",
      "rgb data shape (180, 180, 3)rgb data shape (180, 180, 3)rgb data shape (180, 180, 3)\n",
      "cropped rgb data shape (140, 90, 3)\n",
      "cloud data shape (180, 180, 4)\n",
      "\n",
      "cropped rgb data shape (140, 90, 3)rgb data shape (180, 180, 3)\n",
      "\n",
      "cropped rgb data shape (140, 90, 3)cropped rgb data shape (140, 90, 3)\n",
      "\n",
      "\n",
      "cloud data shape (180, 180, 4)cloud data shape (180, 180, 4)rgb data shape (180, 180, 3)\n",
      "cloud data shape (180, 180, 4)\n",
      "\n",
      "cropped rgb data shape (140, 90, 3)\n",
      "cloud data shape (180, 180, 4)\n",
      "\n"
     ]
    },
    {
     "name": "stderr",
     "output_type": "stream",
     "text": [
      "\r",
      " 34%|███▍      | 66/192 [00:14<00:24,  5.18it/s]"
     ]
    },
    {
     "name": "stdout",
     "output_type": "stream",
     "text": [
      "rgb data shape (180, 180, 3)rgb data shape (180, 180, 3)rgb data shape (180, 180, 3)\n",
      "\n",
      "cropped rgb data shape (140, 90, 3)\n",
      "cropped rgb data shape (140, 90, 3)cloud data shape (180, 180, 4)rgb data shape (180, 180, 3)\n",
      "\n",
      "cropped rgb data shape (140, 90, 3)\n",
      "\n",
      "cloud data shape (180, 180, 4)\n",
      "\n",
      "cropped rgb data shape (140, 90, 3)cloud data shape (180, 180, 4)\n",
      "\n",
      "rgb data shape (180, 180, 3)cloud data shape (180, 180, 4)\n",
      "rgb data shape (180, 180, 3)rgb data shape (180, 180, 3)\n",
      "\n",
      "cropped rgb data shape (140, 90, 3)\n",
      "cloud data shape (180, 180, 4)\n",
      "cropped rgb data shape (140, 90, 3)\n",
      "cropped rgb data shape (140, 90, 3)\n",
      "cloud data shape (180, 180, 4)\n",
      "cloud data shape (180, 180, 4)rgb data shape (180, 180, 3)\n",
      "\n",
      "\n",
      "rgb data shape (180, 180, 3)\n",
      "cropped rgb data shape (140, 90, 3)cropped rgb data shape (140, 90, 3)\n",
      "\n",
      "cloud data shape (180, 180, 4)rgb data shape (180, 180, 3)rgb data shape (180, 180, 3)cloud data shape (180, 180, 4)\n",
      "\n",
      "\n",
      "\n",
      "cropped rgb data shape (140, 90, 3)cropped rgb data shape (140, 90, 3)\n",
      "\n",
      "cloud data shape (180, 180, 4)cloud data shape (180, 180, 4)\n"
     ]
    },
    {
     "name": "stderr",
     "output_type": "stream",
     "text": [
      "\r",
      " 36%|███▌      | 69/192 [00:15<00:17,  6.96it/s]"
     ]
    },
    {
     "name": "stdout",
     "output_type": "stream",
     "text": [
      "\n",
      "rgb data shape (180, 180, 3)\n",
      "cropped rgb data shape (140, 90, 3)\n",
      "cloud data shape (180, 180, 4)rgb data shape (180, 180, 3)\n",
      "\n",
      "cropped rgb data shape (140, 90, 3)rgb data shape (180, 180, 3)\n",
      "cropped rgb data shape (140, 90, 3)rgb data shape (180, 180, 3)\n",
      "\n",
      "cropped rgb data shape (140, 90, 3)\n",
      "cloud data shape (180, 180, 4)cloud data shape (180, 180, 4)\n",
      "\n",
      "rgb data shape (180, 180, 3)\n",
      "cloud data shape (180, 180, 4)\n",
      "rgb data shape (180, 180, 3)\n",
      "rgb data shape (180, 180, 3)cropped rgb data shape (140, 90, 3)\n",
      "\n",
      "\n",
      "cropped rgb data shape (140, 90, 3)rgb data shape (180, 180, 3)cloud data shape (180, 180, 4)cropped rgb data shape (140, 90, 3)\n",
      "\n",
      "\n",
      "cloud data shape (180, 180, 4)cropped rgb data shape (140, 90, 3)\n",
      "cloud data shape (180, 180, 4)\n",
      "\n",
      "\n",
      "cloud data shape (180, 180, 4)rgb data shape (180, 180, 3)\n",
      "rgb data shape (180, 180, 3)rgb data shape (180, 180, 3)\n",
      "\n",
      "cropped rgb data shape (140, 90, 3)\n",
      "\n",
      "rgb data shape (180, 180, 3)cropped rgb data shape (140, 90, 3)\n",
      "cloud data shape (180, 180, 4)\n",
      "\n",
      "cropped rgb data shape (140, 90, 3)cropped rgb data shape (140, 90, 3)cloud data shape (180, 180, 4)\n",
      "\n",
      "\n",
      "cloud data shape (180, 180, 4)cloud data shape (180, 180, 4)\n",
      "rgb data shape (180, 180, 3)\n",
      "\n",
      "rgb data shape (180, 180, 3)\n",
      "cropped rgb data shape (140, 90, 3)cropped rgb data shape (140, 90, 3)rgb data shape (180, 180, 3)\n",
      "rgb data shape (180, 180, 3)\n",
      "cloud data shape (180, 180, 4)cloud data shape (180, 180, 4)\n",
      "\n",
      "cropped rgb data shape (140, 90, 3)\n"
     ]
    },
    {
     "name": "stderr",
     "output_type": "stream",
     "text": [
      "\r",
      " 38%|███▊      | 73/192 [00:15<00:17,  6.95it/s]"
     ]
    },
    {
     "name": "stdout",
     "output_type": "stream",
     "text": [
      "\n",
      "\n",
      "cropped rgb data shape (140, 90, 3)\n",
      "cloud data shape (180, 180, 4)\n",
      "rgb data shape (180, 180, 3)cloud data shape (180, 180, 4)rgb data shape (180, 180, 3)\n",
      "\n",
      "cropped rgb data shape (140, 90, 3)\n",
      "\n",
      "cropped rgb data shape (140, 90, 3)cloud data shape (180, 180, 4)\n",
      "\n",
      "rgb data shape (180, 180, 3)rgb data shape (180, 180, 3)\n",
      "cloud data shape (180, 180, 4)\n",
      "\n",
      "cropped rgb data shape (140, 90, 3)\n",
      "cropped rgb data shape (140, 90, 3)rgb data shape (180, 180, 3)\n",
      "cloud data shape (180, 180, 4)\n",
      "\n",
      "rgb data shape (180, 180, 3)"
     ]
    },
    {
     "name": "stderr",
     "output_type": "stream",
     "text": [
      "\r",
      " 39%|███▊      | 74/192 [00:15<00:19,  6.07it/s]"
     ]
    },
    {
     "name": "stdout",
     "output_type": "stream",
     "text": [
      "cropped rgb data shape (140, 90, 3)cloud data shape (180, 180, 4)\n",
      "\n",
      "\n",
      "cloud data shape (180, 180, 4)\n",
      "cropped rgb data shape (140, 90, 3)\n",
      "rgb data shape (180, 180, 3)cloud data shape (180, 180, 4)\n",
      "rgb data shape (180, 180, 3)\n",
      "rgb data shape (180, 180, 3)\n",
      "cropped rgb data shape (140, 90, 3)cropped rgb data shape (140, 90, 3)\n",
      "\n",
      "\n",
      "cloud data shape (180, 180, 4)cropped rgb data shape (140, 90, 3)cloud data shape (180, 180, 4)\n",
      "\n",
      "cloud data shape (180, 180, 4)rgb data shape (180, 180, 3)\n",
      "\n",
      "\n",
      "cropped rgb data shape (140, 90, 3)rgb data shape (180, 180, 3)\n",
      "cropped rgb data shape (140, 90, 3)\n",
      "\n",
      "cloud data shape (180, 180, 4)\n",
      "rgb data shape (180, 180, 3)\n",
      "cropped rgb data shape (140, 90, 3)\n",
      "cloud data shape (180, 180, 4)rgb data shape (180, 180, 3)cloud data shape (180, 180, 4)\n",
      "\n",
      "\n",
      "cropped rgb data shape (140, 90, 3)rgb data shape (180, 180, 3)\n",
      "cropped rgb data shape (140, 90, 3)\n",
      "\n",
      "cloud data shape (180, 180, 4)cloud data shape (180, 180, 4)\n",
      "\n",
      "rgb data shape (180, 180, 3)rgb data shape (180, 180, 3)\n",
      "cropped rgb data shape (140, 90, 3)"
     ]
    },
    {
     "name": "stderr",
     "output_type": "stream",
     "text": [
      "\r",
      " 40%|████      | 77/192 [00:16<00:20,  5.73it/s]"
     ]
    },
    {
     "name": "stdout",
     "output_type": "stream",
     "text": [
      "rgb data shape (180, 180, 3)\n",
      "\n",
      "\n",
      "cloud data shape (180, 180, 4)cropped rgb data shape (140, 90, 3)\n",
      "cropped rgb data shape (140, 90, 3)rgb data shape (180, 180, 3)cloud data shape (180, 180, 4)\n",
      "\n",
      "\n",
      "\n",
      "cloud data shape (180, 180, 4)\n",
      "cropped rgb data shape (140, 90, 3)rgb data shape (180, 180, 3)\n",
      "cloud data shape (180, 180, 4)\n",
      "\n",
      "cropped rgb data shape (140, 90, 3)rgb data shape (180, 180, 3)\n",
      "cropped rgb data shape (140, 90, 3)\n",
      "\n",
      "rgb data shape (180, 180, 3)cloud data shape (180, 180, 4)cloud data shape (180, 180, 4)\n",
      "\n",
      "cropped rgb data shape (140, 90, 3)\n",
      "rgb data shape (180, 180, 3)\n"
     ]
    },
    {
     "name": "stderr",
     "output_type": "stream",
     "text": [
      "\r",
      " 41%|████      | 78/192 [00:16<00:23,  4.91it/s]"
     ]
    },
    {
     "name": "stdout",
     "output_type": "stream",
     "text": [
      "cloud data shape (180, 180, 4)\n",
      "cropped rgb data shape (140, 90, 3)\n",
      "\n",
      "rgb data shape (180, 180, 3)rgb data shape (180, 180, 3)\n",
      "\n",
      "rgb data shape (180, 180, 3)cropped rgb data shape (140, 90, 3)cloud data shape (180, 180, 4)cropped rgb data shape (140, 90, 3)\n",
      "\n",
      "\n",
      "cloud data shape (180, 180, 4)cropped rgb data shape (140, 90, 3)\n",
      "\n",
      "\n",
      "cloud data shape (180, 180, 4)\n",
      "cloud data shape (180, 180, 4)\n",
      "rgb data shape (180, 180, 3)\n",
      "cropped rgb data shape (140, 90, 3)\n",
      "rgb data shape (180, 180, 3)cloud data shape (180, 180, 4)\n",
      "rgb data shape (180, 180, 3)\n",
      "cropped rgb data shape (140, 90, 3)\n",
      "rgb data shape (180, 180, 3)rgb data shape (180, 180, 3)\n",
      "\n",
      "cropped rgb data shape (140, 90, 3)\n",
      "cropped rgb data shape (140, 90, 3)cropped rgb data shape (140, 90, 3)cloud data shape (180, 180, 4)\n",
      "\n",
      "\n",
      "\n",
      "cloud data shape (180, 180, 4)cloud data shape (180, 180, 4)cloud data shape (180, 180, 4)\n",
      "\n",
      "rgb data shape (180, 180, 3)\n"
     ]
    },
    {
     "name": "stderr",
     "output_type": "stream",
     "text": [
      "\r",
      " 42%|████▏     | 81/192 [00:17<00:22,  4.96it/s]"
     ]
    },
    {
     "name": "stdout",
     "output_type": "stream",
     "text": [
      "\n",
      "cropped rgb data shape (140, 90, 3)rgb data shape (180, 180, 3)\n",
      "rgb data shape (180, 180, 3)\n",
      "cloud data shape (180, 180, 4)\n",
      "\n",
      "cropped rgb data shape (140, 90, 3)cropped rgb data shape (140, 90, 3)rgb data shape (180, 180, 3)\n",
      "cloud data shape (180, 180, 4)\n",
      "rgb data shape (180, 180, 3)\n",
      "\n",
      "\n",
      "cropped rgb data shape (140, 90, 3)cloud data shape (180, 180, 4)cropped rgb data shape (140, 90, 3)\n",
      "\n",
      "cloud data shape (180, 180, 4)rgb data shape (180, 180, 3)cloud data shape (180, 180, 4)\n",
      "\n",
      "\n",
      "cropped rgb data shape (140, 90, 3)\n",
      "\n",
      "cloud data shape (180, 180, 4)rgb data shape (180, 180, 3)\n",
      "\n",
      "cropped rgb data shape (140, 90, 3)rgb data shape (180, 180, 3)\n",
      "rgb data shape (180, 180, 3)cloud data shape (180, 180, 4)\n",
      "\n",
      "\n",
      "rgb data shape (180, 180, 3)cropped rgb data shape (140, 90, 3)\n",
      "\n",
      "cropped rgb data shape (140, 90, 3)\n",
      "cropped rgb data shape (140, 90, 3)rgb data shape (180, 180, 3)\n",
      "cloud data shape (180, 180, 4)cloud data shape (180, 180, 4)\n",
      "\n"
     ]
    },
    {
     "name": "stderr",
     "output_type": "stream",
     "text": [
      "\r",
      " 43%|████▎     | 82/192 [00:18<00:29,  3.71it/s]"
     ]
    },
    {
     "name": "stdout",
     "output_type": "stream",
     "text": [
      "\n",
      "cloud data shape (180, 180, 4)cropped rgb data shape (140, 90, 3)\n",
      "cloud data shape (180, 180, 4)\n",
      "rgb data shape (180, 180, 3)\n",
      "\n",
      "rgb data shape (180, 180, 3)\n",
      "cropped rgb data shape (140, 90, 3)\n",
      "rgb data shape (180, 180, 3)cloud data shape (180, 180, 4)cropped rgb data shape (140, 90, 3)\n",
      "\n",
      "rgb data shape (180, 180, 3)cropped rgb data shape (140, 90, 3)\n",
      "\n",
      "\n",
      "rgb data shape (180, 180, 3)cloud data shape (180, 180, 4)cloud data shape (180, 180, 4)\n",
      "\n",
      "cropped rgb data shape (140, 90, 3)\n",
      "\n",
      "cropped rgb data shape (140, 90, 3)cloud data shape (180, 180, 4)\n",
      "cloud data shape (180, 180, 4)\n",
      "\n"
     ]
    },
    {
     "name": "stderr",
     "output_type": "stream",
     "text": [
      "\r",
      " 44%|████▍     | 85/192 [00:18<00:21,  4.89it/s]"
     ]
    },
    {
     "name": "stdout",
     "output_type": "stream",
     "text": [
      "rgb data shape (180, 180, 3)rgb data shape (180, 180, 3)rgb data shape (180, 180, 3)rgb data shape (180, 180, 3)\n",
      "\n",
      "\n",
      "cropped rgb data shape (140, 90, 3)cropped rgb data shape (140, 90, 3)\n",
      "cropped rgb data shape (140, 90, 3)cropped rgb data shape (140, 90, 3)\n",
      "\n",
      "\n",
      "\n",
      "cloud data shape (180, 180, 4)cloud data shape (180, 180, 4)cloud data shape (180, 180, 4)cloud data shape (180, 180, 4)\n",
      "\n",
      "\n",
      "\n",
      "rgb data shape (180, 180, 3)\n",
      "rgb data shape (180, 180, 3)cropped rgb data shape (140, 90, 3)\n",
      "\n",
      "rgb data shape (180, 180, 3)cropped rgb data shape (140, 90, 3)\n",
      "\n",
      "cropped rgb data shape (140, 90, 3)cloud data shape (180, 180, 4)\n",
      "cloud data shape (180, 180, 4)\n",
      "cloud data shape (180, 180, 4)rgb data shape (180, 180, 3)\n",
      "\n",
      "\n",
      "cropped rgb data shape (140, 90, 3)\n",
      "rgb data shape (180, 180, 3)\n",
      "rgb data shape (180, 180, 3)cloud data shape (180, 180, 4)rgb data shape (180, 180, 3)\n",
      "\n",
      "cropped rgb data shape (140, 90, 3)cropped rgb data shape (140, 90, 3)\n",
      "\n",
      "cropped rgb data shape (140, 90, 3)\n",
      "cloud data shape (180, 180, 4)\n",
      "\n",
      "cloud data shape (180, 180, 4)cloud data shape (180, 180, 4)\n",
      "rgb data shape (180, 180, 3)"
     ]
    },
    {
     "name": "stderr",
     "output_type": "stream",
     "text": [
      "\r",
      " 45%|████▍     | 86/192 [00:19<00:27,  3.87it/s]"
     ]
    },
    {
     "name": "stdout",
     "output_type": "stream",
     "text": [
      "\n",
      "\n",
      "cropped rgb data shape (140, 90, 3)\n",
      "rgb data shape (180, 180, 3)\n",
      "cloud data shape (180, 180, 4)rgb data shape (180, 180, 3)\n",
      "\n",
      "cropped rgb data shape (140, 90, 3)rgb data shape (180, 180, 3)cropped rgb data shape (140, 90, 3)\n",
      "cropped rgb data shape (140, 90, 3)\n",
      "\n",
      "cloud data shape (180, 180, 4)\n",
      "cloud data shape (180, 180, 4)\n",
      "rgb data shape (180, 180, 3)\n",
      "\n",
      "cloud data shape (180, 180, 4)rgb data shape (180, 180, 3)\n",
      "\n",
      "cropped rgb data shape (140, 90, 3)\n",
      "cloud data shape (180, 180, 4)\n"
     ]
    },
    {
     "name": "stderr",
     "output_type": "stream",
     "text": [
      "\r",
      " 46%|████▋     | 89/192 [00:19<00:19,  5.23it/s]"
     ]
    },
    {
     "name": "stdout",
     "output_type": "stream",
     "text": [
      "cropped rgb data shape (140, 90, 3)\n",
      "cloud data shape (180, 180, 4)\n",
      "rgb data shape (180, 180, 3)rgb data shape (180, 180, 3)rgb data shape (180, 180, 3)\n",
      "\n",
      "cropped rgb data shape (140, 90, 3)\n",
      "cropped rgb data shape (140, 90, 3)\n",
      "cloud data shape (180, 180, 4)cropped rgb data shape (140, 90, 3)\n",
      "\n",
      "\n",
      "rgb data shape (180, 180, 3)cloud data shape (180, 180, 4)\n",
      "cloud data shape (180, 180, 4)\n",
      "cropped rgb data shape (140, 90, 3)\n",
      "rgb data shape (180, 180, 3)\n",
      "rgb data shape (180, 180, 3)cloud data shape (180, 180, 4)\n",
      "\n",
      "cropped rgb data shape (140, 90, 3)\n",
      "\n",
      "rgb data shape (180, 180, 3)cloud data shape (180, 180, 4)cropped rgb data shape (140, 90, 3)\n",
      "\n",
      "\n",
      "rgb data shape (180, 180, 3)cropped rgb data shape (140, 90, 3)cloud data shape (180, 180, 4)rgb data shape (180, 180, 3)\n",
      "\n",
      "\n",
      "\n",
      "cloud data shape (180, 180, 4)cropped rgb data shape (140, 90, 3)\n",
      "cropped rgb data shape (140, 90, 3)\n",
      "rgb data shape (180, 180, 3)cloud data shape (180, 180, 4)\n",
      "\n",
      "\n",
      "cropped rgb data shape (140, 90, 3)"
     ]
    },
    {
     "name": "stderr",
     "output_type": "stream",
     "text": [
      "\r",
      " 47%|████▋     | 90/192 [00:19<00:26,  3.82it/s]"
     ]
    },
    {
     "name": "stdout",
     "output_type": "stream",
     "text": [
      "cloud data shape (180, 180, 4)\n",
      "rgb data shape (180, 180, 3)\n",
      "cloud data shape (180, 180, 4)\n",
      "\n",
      "cropped rgb data shape (140, 90, 3)\n",
      "rgb data shape (180, 180, 3)\n",
      "rgb data shape (180, 180, 3)cloud data shape (180, 180, 4)cropped rgb data shape (140, 90, 3)\n",
      "\n",
      "\n",
      "rgb data shape (180, 180, 3)\n",
      "cropped rgb data shape (140, 90, 3)\n",
      "cloud data shape (180, 180, 4)cloud data shape (180, 180, 4)\n",
      "cropped rgb data shape (140, 90, 3)\n",
      "rgb data shape (180, 180, 3)\n",
      "\n",
      "rgb data shape (180, 180, 3)cloud data shape (180, 180, 4)rgb data shape (180, 180, 3)\n",
      "\n",
      "\n"
     ]
    },
    {
     "name": "stderr",
     "output_type": "stream",
     "text": [
      "\r",
      " 48%|████▊     | 93/192 [00:20<00:20,  4.77it/s]"
     ]
    },
    {
     "name": "stdout",
     "output_type": "stream",
     "text": [
      "cropped rgb data shape (140, 90, 3)cropped rgb data shape (140, 90, 3)cropped rgb data shape (140, 90, 3)\n",
      "\n",
      "\n",
      "cloud data shape (180, 180, 4)cloud data shape (180, 180, 4)\n",
      "cloud data shape (180, 180, 4)\n",
      "rgb data shape (180, 180, 3)\n",
      "\n",
      "rgb data shape (180, 180, 3)cropped rgb data shape (140, 90, 3)\n",
      "cropped rgb data shape (140, 90, 3)\n",
      "rgb data shape (180, 180, 3)cloud data shape (180, 180, 4)\n",
      "\n",
      "\n",
      "cloud data shape (180, 180, 4)rgb data shape (180, 180, 3)cropped rgb data shape (140, 90, 3)\n",
      "\n",
      "cropped rgb data shape (140, 90, 3)\n",
      "\n",
      "rgb data shape (180, 180, 3)cloud data shape (180, 180, 4)\n",
      "cloud data shape (180, 180, 4)\n",
      "rgb data shape (180, 180, 3)\n",
      "cropped rgb data shape (140, 90, 3)\n",
      "cropped rgb data shape (140, 90, 3)\n",
      "\n",
      "rgb data shape (180, 180, 3)cloud data shape (180, 180, 4)rgb data shape (180, 180, 3)\n",
      "cloud data shape (180, 180, 4)\n",
      "\n",
      "cropped rgb data shape (140, 90, 3)\n",
      "\n",
      "cropped rgb data shape (140, 90, 3)\n",
      "cloud data shape (180, 180, 4)cloud data shape (180, 180, 4)\n",
      "rgb data shape (180, 180, 3)"
     ]
    },
    {
     "name": "stderr",
     "output_type": "stream",
     "text": [
      "\r",
      " 49%|████▉     | 94/192 [00:20<00:28,  3.50it/s]"
     ]
    },
    {
     "name": "stdout",
     "output_type": "stream",
     "text": [
      "\n",
      "\n",
      "cropped rgb data shape (140, 90, 3)rgb data shape (180, 180, 3)\n",
      "\n",
      "cropped rgb data shape (140, 90, 3)rgb data shape (180, 180, 3)cloud data shape (180, 180, 4)rgb data shape (180, 180, 3)\n",
      "\n",
      "\n",
      "\n",
      "cloud data shape (180, 180, 4)cropped rgb data shape (140, 90, 3)\n",
      "cropped rgb data shape (140, 90, 3)\n",
      "\n",
      "cloud data shape (180, 180, 4)cloud data shape (180, 180, 4)\n",
      "\n",
      "rgb data shape (180, 180, 3)rgb data shape (180, 180, 3)\n",
      "rgb data shape (180, 180, 3)\n",
      "rgb data shape (180, 180, 3)\n",
      "cropped rgb data shape (140, 90, 3)cropped rgb data shape (140, 90, 3)\n",
      "\n",
      "cropped rgb data shape (140, 90, 3)\n",
      "cropped rgb data shape (140, 90, 3)\n",
      "cloud data shape (180, 180, 4)\n",
      "cloud data shape (180, 180, 4)cloud data shape (180, 180, 4)\n",
      "cloud data shape (180, 180, 4)"
     ]
    },
    {
     "name": "stderr",
     "output_type": "stream",
     "text": [
      "\r",
      " 51%|█████     | 97/192 [00:21<00:22,  4.15it/s]"
     ]
    },
    {
     "name": "stdout",
     "output_type": "stream",
     "text": [
      "\n",
      "\n",
      "\n",
      "rgb data shape (180, 180, 3)\n",
      "rgb data shape (180, 180, 3)cropped rgb data shape (140, 90, 3)\n",
      "\n",
      "rgb data shape (180, 180, 3)rgb data shape (180, 180, 3)cropped rgb data shape (140, 90, 3)cloud data shape (180, 180, 4)\n",
      "cropped rgb data shape (140, 90, 3)\n",
      "\n",
      "\n",
      "cloud data shape (180, 180, 4)cropped rgb data shape (140, 90, 3)\n",
      "\n",
      "cloud data shape (180, 180, 4)\n",
      "\n",
      "rgb data shape (180, 180, 3)cloud data shape (180, 180, 4)\n",
      "rgb data shape (180, 180, 3)\n",
      "rgb data shape (180, 180, 3)\n",
      "\n",
      "cropped rgb data shape (140, 90, 3)cropped rgb data shape (140, 90, 3)cropped rgb data shape (140, 90, 3)\n",
      "\n",
      "cloud data shape (180, 180, 4)\n",
      "cloud data shape (180, 180, 4)rgb data shape (180, 180, 3)\n",
      "cloud data shape (180, 180, 4)\n",
      "\n",
      "\n"
     ]
    },
    {
     "name": "stderr",
     "output_type": "stream",
     "text": [
      "\r",
      " 51%|█████     | 98/192 [00:22<00:28,  3.32it/s]"
     ]
    },
    {
     "name": "stdout",
     "output_type": "stream",
     "text": [
      "cropped rgb data shape (140, 90, 3)rgb data shape (180, 180, 3)\n",
      "\n",
      "cloud data shape (180, 180, 4)cropped rgb data shape (140, 90, 3)\n",
      "rgb data shape (180, 180, 3)rgb data shape (180, 180, 3)\n",
      "\n",
      "cropped rgb data shape (140, 90, 3)\n",
      "\n",
      "cropped rgb data shape (140, 90, 3)cloud data shape (180, 180, 4)\n",
      "cloud data shape (180, 180, 4)\n",
      "cloud data shape (180, 180, 4)\n",
      "rgb data shape (180, 180, 3)rgb data shape (180, 180, 3)\n",
      "\n",
      "\n",
      "cropped rgb data shape (140, 90, 3)\n",
      "rgb data shape (180, 180, 3)cropped rgb data shape (140, 90, 3)cloud data shape (180, 180, 4)\n",
      "\n",
      "\n",
      "cropped rgb data shape (140, 90, 3)rgb data shape (180, 180, 3)cloud data shape (180, 180, 4)\n",
      "\n",
      "\n",
      "cropped rgb data shape (140, 90, 3)rgb data shape (180, 180, 3)\n",
      "cloud data shape (180, 180, 4)rgb data shape (180, 180, 3)cloud data shape (180, 180, 4)\n",
      "\n",
      "cropped rgb data shape (140, 90, 3)\n"
     ]
    },
    {
     "name": "stderr",
     "output_type": "stream",
     "text": [
      "\r",
      " 53%|█████▎    | 101/192 [00:22<00:23,  3.88it/s]"
     ]
    },
    {
     "name": "stdout",
     "output_type": "stream",
     "text": [
      "\n",
      "\n",
      "cropped rgb data shape (140, 90, 3)\n",
      "cloud data shape (180, 180, 4)rgb data shape (180, 180, 3)\n",
      "cloud data shape (180, 180, 4)\n",
      "\n",
      "rgb data shape (180, 180, 3)cropped rgb data shape (140, 90, 3)\n",
      "cropped rgb data shape (140, 90, 3)\n",
      "rgb data shape (180, 180, 3)\n",
      "\n",
      "cropped rgb data shape (140, 90, 3)cloud data shape (180, 180, 4)\n",
      "\n",
      "rgb data shape (180, 180, 3)cloud data shape (180, 180, 4)\n",
      "\n",
      "cropped rgb data shape (140, 90, 3)cloud data shape (180, 180, 4)\n",
      "cloud data shape (180, 180, 4)\n",
      "\n",
      "rgb data shape (180, 180, 3)rgb data shape (180, 180, 3)\n",
      "rgb data shape (180, 180, 3)rgb data shape (180, 180, 3)\n",
      "\n",
      "cropped rgb data shape (140, 90, 3)\n",
      "cropped rgb data shape (140, 90, 3)cloud data shape (180, 180, 4)\n",
      "cropped rgb data shape (140, 90, 3)\n",
      "\n",
      "\n",
      "cropped rgb data shape (140, 90, 3)cloud data shape (180, 180, 4)\n",
      "cloud data shape (180, 180, 4)\n",
      "cloud data shape (180, 180, 4)"
     ]
    },
    {
     "name": "stderr",
     "output_type": "stream",
     "text": [
      "\r",
      " 53%|█████▎    | 102/192 [00:23<00:26,  3.42it/s]"
     ]
    },
    {
     "name": "stdout",
     "output_type": "stream",
     "text": [
      "\n",
      "\n",
      "rgb data shape (180, 180, 3)rgb data shape (180, 180, 3)rgb data shape (180, 180, 3)\n",
      "\n",
      "\n",
      "cropped rgb data shape (140, 90, 3)rgb data shape (180, 180, 3)cropped rgb data shape (140, 90, 3)cropped rgb data shape (140, 90, 3)\n",
      "\n",
      "\n",
      "cloud data shape (180, 180, 4)\n",
      "\n",
      "cropped rgb data shape (140, 90, 3)cloud data shape (180, 180, 4)\n",
      "cloud data shape (180, 180, 4)\n",
      "\n",
      "rgb data shape (180, 180, 3)cloud data shape (180, 180, 4)rgb data shape (180, 180, 3)\n",
      "\n",
      "\n",
      "cropped rgb data shape (140, 90, 3)\n",
      "rgb data shape (180, 180, 3)cropped rgb data shape (140, 90, 3)\n",
      "rgb data shape (180, 180, 3)\n",
      "cloud data shape (180, 180, 4)\n",
      "cropped rgb data shape (140, 90, 3)cloud data shape (180, 180, 4)\n",
      "cropped rgb data shape (140, 90, 3)\n",
      "\n",
      "cloud data shape (180, 180, 4)\n",
      "\n",
      "cloud data shape (180, 180, 4)\n"
     ]
    },
    {
     "name": "stderr",
     "output_type": "stream",
     "text": [
      "\r",
      " 55%|█████▍    | 105/192 [00:23<00:20,  4.20it/s]"
     ]
    },
    {
     "name": "stdout",
     "output_type": "stream",
     "text": [
      "rgb data shape (180, 180, 3)rgb data shape (180, 180, 3)\n",
      "\n",
      "cropped rgb data shape (140, 90, 3)rgb data shape (180, 180, 3)cropped rgb data shape (140, 90, 3)rgb data shape (180, 180, 3)\n",
      "\n",
      "\n",
      "cropped rgb data shape (140, 90, 3)cropped rgb data shape (140, 90, 3)\n",
      "cloud data shape (180, 180, 4)cloud data shape (180, 180, 4)\n",
      "\n",
      "\n",
      "\n",
      "cloud data shape (180, 180, 4)cloud data shape (180, 180, 4)\n",
      "rgb data shape (180, 180, 3)\n",
      "\n",
      "cropped rgb data shape (140, 90, 3)rgb data shape (180, 180, 3)rgb data shape (180, 180, 3)rgb data shape (180, 180, 3)\n",
      "\n",
      "\n",
      "cropped rgb data shape (140, 90, 3)cloud data shape (180, 180, 4)\n",
      "\n",
      "\n",
      "cropped rgb data shape (140, 90, 3)cloud data shape (180, 180, 4)\n",
      "\n",
      "cropped rgb data shape (140, 90, 3)"
     ]
    },
    {
     "name": "stderr",
     "output_type": "stream",
     "text": [
      "\r",
      " 55%|█████▌    | 106/192 [00:23<00:20,  4.28it/s]"
     ]
    },
    {
     "name": "stdout",
     "output_type": "stream",
     "text": [
      "rgb data shape (180, 180, 3)\n",
      "cloud data shape (180, 180, 4)\n",
      "\n",
      "cloud data shape (180, 180, 4)cropped rgb data shape (140, 90, 3)\n",
      "\n",
      "cloud data shape (180, 180, 4)\n",
      "rgb data shape (180, 180, 3)\n",
      "rgb data shape (180, 180, 3)cropped rgb data shape (140, 90, 3)rgb data shape (180, 180, 3)\n",
      "\n",
      "\n",
      "rgb data shape (180, 180, 3)cropped rgb data shape (140, 90, 3)cloud data shape (180, 180, 4)\n",
      "cropped rgb data shape (140, 90, 3)\n",
      "\n",
      "cloud data shape (180, 180, 4)\n",
      "cropped rgb data shape (140, 90, 3)\n",
      "\n",
      "cloud data shape (180, 180, 4)rgb data shape (180, 180, 3)rgb data shape (180, 180, 3)\n",
      "\n",
      "\n",
      "cloud data shape (180, 180, 4)\n",
      "cropped rgb data shape (140, 90, 3)cropped rgb data shape (140, 90, 3)rgb data shape (180, 180, 3)\n",
      "\n",
      "rgb data shape (180, 180, 3)cloud data shape (180, 180, 4)\n",
      "cropped rgb data shape (140, 90, 3)\n",
      "cloud data shape (180, 180, 4)\n",
      "\n",
      "\n",
      "cropped rgb data shape (140, 90, 3)cloud data shape (180, 180, 4)\n",
      "rgb data shape (180, 180, 3)\n",
      "cloud data shape (180, 180, 4)\n"
     ]
    },
    {
     "name": "stderr",
     "output_type": "stream",
     "text": [
      "\r",
      " 57%|█████▋    | 109/192 [00:24<00:16,  5.04it/s]"
     ]
    },
    {
     "name": "stdout",
     "output_type": "stream",
     "text": [
      "\n",
      "rgb data shape (180, 180, 3)cropped rgb data shape (140, 90, 3)rgb data shape (180, 180, 3)\n",
      "cloud data shape (180, 180, 4)\n",
      "cropped rgb data shape (140, 90, 3)rgb data shape (180, 180, 3)\n",
      "\n",
      "\n",
      "\n",
      "cloud data shape (180, 180, 4)\n",
      "cropped rgb data shape (140, 90, 3)\n",
      "cropped rgb data shape (140, 90, 3)\n",
      "cloud data shape (180, 180, 4)cloud data shape (180, 180, 4)\n",
      "\n",
      "rgb data shape (180, 180, 3)rgb data shape (180, 180, 3)\n",
      "\n",
      "rgb data shape (180, 180, 3)cropped rgb data shape (140, 90, 3)\n",
      "\n",
      "cropped rgb data shape (140, 90, 3)cropped rgb data shape (140, 90, 3)\n",
      "\n",
      "rgb data shape (180, 180, 3)cloud data shape (180, 180, 4)\n",
      "cloud data shape (180, 180, 4)\n",
      "cloud data shape (180, 180, 4)\n",
      "cropped rgb data shape (140, 90, 3)\n",
      "\n"
     ]
    },
    {
     "name": "stderr",
     "output_type": "stream",
     "text": [
      "\r",
      " 57%|█████▋    | 110/192 [00:24<00:18,  4.38it/s]"
     ]
    },
    {
     "name": "stdout",
     "output_type": "stream",
     "text": [
      "cloud data shape (180, 180, 4)\n",
      "rgb data shape (180, 180, 3)\n",
      "cropped rgb data shape (140, 90, 3)\n",
      "rgb data shape (180, 180, 3)cloud data shape (180, 180, 4)\n",
      "rgb data shape (180, 180, 3)\n",
      "cropped rgb data shape (140, 90, 3)rgb data shape (180, 180, 3)\n",
      "\n",
      "cropped rgb data shape (140, 90, 3)\n",
      "rgb data shape (180, 180, 3)cropped rgb data shape (140, 90, 3)cloud data shape (180, 180, 4)\n",
      "\n",
      "\n",
      "\n",
      "cloud data shape (180, 180, 4)cropped rgb data shape (140, 90, 3)cloud data shape (180, 180, 4)\n",
      "\n",
      "\n",
      "rgb data shape (180, 180, 3)cloud data shape (180, 180, 4)\n",
      "\n",
      "rgb data shape (180, 180, 3)rgb data shape (180, 180, 3)cropped rgb data shape (140, 90, 3)\n",
      "cropped rgb data shape (140, 90, 3)\n",
      "rgb data shape (180, 180, 3)\n",
      "\n",
      "cropped rgb data shape (140, 90, 3)\n",
      "cloud data shape (180, 180, 4)cloud data shape (180, 180, 4)cropped rgb data shape (140, 90, 3)\n",
      "\n"
     ]
    },
    {
     "name": "stderr",
     "output_type": "stream",
     "text": [
      "\r",
      " 59%|█████▉    | 113/192 [00:25<00:16,  4.76it/s]"
     ]
    },
    {
     "name": "stdout",
     "output_type": "stream",
     "text": [
      "\n",
      "\n",
      "cloud data shape (180, 180, 4)cloud data shape (180, 180, 4)\n",
      "rgb data shape (180, 180, 3)\n",
      "rgb data shape (180, 180, 3)\n",
      "\n",
      "cropped rgb data shape (140, 90, 3)rgb data shape (180, 180, 3)cropped rgb data shape (140, 90, 3)rgb data shape (180, 180, 3)\n",
      "\n",
      "\n",
      "cloud data shape (180, 180, 4)cloud data shape (180, 180, 4)\n",
      "cropped rgb data shape (140, 90, 3)\n",
      "\n",
      "cropped rgb data shape (140, 90, 3)\n",
      "\n",
      "cloud data shape (180, 180, 4)\n",
      "cloud data shape (180, 180, 4)\n",
      "rgb data shape (180, 180, 3)rgb data shape (180, 180, 3)"
     ]
    },
    {
     "name": "stderr",
     "output_type": "stream",
     "text": [
      "\r",
      " 59%|█████▉    | 114/192 [00:25<00:18,  4.16it/s]"
     ]
    },
    {
     "name": "stdout",
     "output_type": "stream",
     "text": [
      "\n",
      "rgb data shape (180, 180, 3)\n",
      "cropped rgb data shape (140, 90, 3)cropped rgb data shape (140, 90, 3)\n",
      "\n",
      "cloud data shape (180, 180, 4)\n",
      "\n",
      "cloud data shape (180, 180, 4)cropped rgb data shape (140, 90, 3)\n",
      "rgb data shape (180, 180, 3)\n",
      "\n",
      "cropped rgb data shape (140, 90, 3)cloud data shape (180, 180, 4)rgb data shape (180, 180, 3)\n",
      "\n",
      "rgb data shape (180, 180, 3)\n",
      "cloud data shape (180, 180, 4)cropped rgb data shape (140, 90, 3)\n",
      "\n",
      "cropped rgb data shape (140, 90, 3)rgb data shape (180, 180, 3)\n",
      "\n",
      "\n",
      "cloud data shape (180, 180, 4)cloud data shape (180, 180, 4)\n",
      "\n",
      "cropped rgb data shape (140, 90, 3)rgb data shape (180, 180, 3)\n",
      "\n",
      "cropped rgb data shape (140, 90, 3)rgb data shape (180, 180, 3)\n",
      "\n",
      "cropped rgb data shape (140, 90, 3)cloud data shape (180, 180, 4)rgb data shape (180, 180, 3)\n",
      "\n",
      "cloud data shape (180, 180, 4)cloud data shape (180, 180, 4)cropped rgb data shape (140, 90, 3)\n",
      "\n"
     ]
    },
    {
     "name": "stderr",
     "output_type": "stream",
     "text": [
      "\r",
      " 61%|██████    | 117/192 [00:26<00:16,  4.65it/s]"
     ]
    },
    {
     "name": "stdout",
     "output_type": "stream",
     "text": [
      "\n",
      "cloud data shape (180, 180, 4)\n",
      "rgb data shape (180, 180, 3)\n",
      "cropped rgb data shape (140, 90, 3)\n",
      "\n",
      "cloud data shape (180, 180, 4)rgb data shape (180, 180, 3)\n",
      "\n",
      "rgb data shape (180, 180, 3)cropped rgb data shape (140, 90, 3)\n",
      "\n",
      "rgb data shape (180, 180, 3)cloud data shape (180, 180, 4)cropped rgb data shape (140, 90, 3)\n",
      "\n",
      "\n",
      "cloud data shape (180, 180, 4)cropped rgb data shape (140, 90, 3)rgb data shape (180, 180, 3)\n",
      "\n",
      "\n",
      "cropped rgb data shape (140, 90, 3)\n",
      "cloud data shape (180, 180, 4)rgb data shape (180, 180, 3)cloud data shape (180, 180, 4)\n",
      "\n",
      "rgb data shape (180, 180, 3)"
     ]
    },
    {
     "name": "stderr",
     "output_type": "stream",
     "text": [
      "\r",
      " 61%|██████▏   | 118/192 [00:26<00:17,  4.15it/s]"
     ]
    },
    {
     "name": "stdout",
     "output_type": "stream",
     "text": [
      "cropped rgb data shape (140, 90, 3)\n",
      "\n",
      "\n",
      "cloud data shape (180, 180, 4)cropped rgb data shape (140, 90, 3)\n",
      "\n",
      "cloud data shape (180, 180, 4)rgb data shape (180, 180, 3)\n",
      "\n",
      "cropped rgb data shape (140, 90, 3)rgb data shape (180, 180, 3)\n",
      "\n",
      "rgb data shape (180, 180, 3)rgb data shape (180, 180, 3)cropped rgb data shape (140, 90, 3)\n",
      "cloud data shape (180, 180, 4)\n",
      "\n",
      "cropped rgb data shape (140, 90, 3)\n",
      "cloud data shape (180, 180, 4)\n",
      "\n",
      "cropped rgb data shape (140, 90, 3)rgb data shape (180, 180, 3)\n",
      "cloud data shape (180, 180, 4)cloud data shape (180, 180, 4)\n",
      "\n",
      "rgb data shape (180, 180, 3)\n",
      "cropped rgb data shape (140, 90, 3)cropped rgb data shape (140, 90, 3)\n",
      "\n",
      "\n",
      "cloud data shape (180, 180, 4)cloud data shape (180, 180, 4)\n",
      "rgb data shape (180, 180, 3)\n",
      "rgb data shape (180, 180, 3)\n",
      "cropped rgb data shape (140, 90, 3)\n",
      "rgb data shape (180, 180, 3)rgb data shape (180, 180, 3)\n",
      "cropped rgb data shape (140, 90, 3)\n",
      "\n",
      "cloud data shape (180, 180, 4)cloud data shape (180, 180, 4)cropped rgb data shape (140, 90, 3)\n"
     ]
    },
    {
     "name": "stderr",
     "output_type": "stream",
     "text": [
      "\r",
      " 63%|██████▎   | 121/192 [00:27<00:15,  4.62it/s]"
     ]
    },
    {
     "name": "stdout",
     "output_type": "stream",
     "text": [
      "\n",
      "\n",
      "cloud data shape (180, 180, 4)rgb data shape (180, 180, 3)\n",
      "\n",
      "cropped rgb data shape (140, 90, 3)\n",
      "cropped rgb data shape (140, 90, 3)rgb data shape (180, 180, 3)\n",
      "\n",
      "rgb data shape (180, 180, 3)\n",
      "cloud data shape (180, 180, 4)cloud data shape (180, 180, 4)\n",
      "\n",
      "cropped rgb data shape (140, 90, 3)\n",
      "\n",
      "cropped rgb data shape (140, 90, 3)rgb data shape (180, 180, 3)cloud data shape (180, 180, 4)\n",
      "\n",
      "\n",
      "cropped rgb data shape (140, 90, 3)rgb data shape (180, 180, 3)\n",
      "cloud data shape (180, 180, 4)cropped rgb data shape (140, 90, 3)\n",
      "\n",
      "rgb data shape (180, 180, 3)cloud data shape (180, 180, 4)\n",
      "\n"
     ]
    },
    {
     "name": "stderr",
     "output_type": "stream",
     "text": [
      "\r",
      " 64%|██████▎   | 122/192 [00:27<00:15,  4.56it/s]"
     ]
    },
    {
     "name": "stdout",
     "output_type": "stream",
     "text": [
      "cloud data shape (180, 180, 4)rgb data shape (180, 180, 3)\n",
      "\n",
      "\n",
      "cropped rgb data shape (140, 90, 3)rgb data shape (180, 180, 3)cropped rgb data shape (140, 90, 3)\n",
      "rgb data shape (180, 180, 3)cloud data shape (180, 180, 4)\n",
      "\n",
      "\n",
      "cropped rgb data shape (140, 90, 3)\n",
      "cloud data shape (180, 180, 4)\n",
      "\n",
      "cropped rgb data shape (140, 90, 3)cloud data shape (180, 180, 4)\n",
      "rgb data shape (180, 180, 3)\n",
      "\n",
      "cloud data shape (180, 180, 4)\n",
      "rgb data shape (180, 180, 3)cropped rgb data shape (140, 90, 3)\n",
      "\n",
      "rgb data shape (180, 180, 3)cropped rgb data shape (140, 90, 3)cloud data shape (180, 180, 4)\n",
      "rgb data shape (180, 180, 3)\n",
      "cloud data shape (180, 180, 4)cropped rgb data shape (140, 90, 3)\n",
      "\n",
      "\n",
      "\n",
      "cloud data shape (180, 180, 4)cropped rgb data shape (140, 90, 3)\n",
      "\n",
      "cloud data shape (180, 180, 4)"
     ]
    },
    {
     "name": "stderr",
     "output_type": "stream",
     "text": [
      "\r",
      " 65%|██████▌   | 125/192 [00:27<00:10,  6.28it/s]"
     ]
    },
    {
     "name": "stdout",
     "output_type": "stream",
     "text": [
      "rgb data shape (180, 180, 3)\n",
      "\n",
      "cropped rgb data shape (140, 90, 3)rgb data shape (180, 180, 3)rgb data shape (180, 180, 3)rgb data shape (180, 180, 3)\n",
      "\n",
      "\n",
      "cropped rgb data shape (140, 90, 3)\n",
      "cloud data shape (180, 180, 4)cloud data shape (180, 180, 4)\n",
      "cropped rgb data shape (140, 90, 3)\n",
      "cropped rgb data shape (140, 90, 3)\n",
      "\n",
      "\n",
      "cloud data shape (180, 180, 4)\n",
      "cloud data shape (180, 180, 4)\n",
      "rgb data shape (180, 180, 3)\n",
      "rgb data shape (180, 180, 3)rgb data shape (180, 180, 3)cropped rgb data shape (140, 90, 3)\n",
      "cropped rgb data shape (140, 90, 3)\n",
      "cloud data shape (180, 180, 4)\n",
      "\n",
      "\n",
      "cropped rgb data shape (140, 90, 3)cloud data shape (180, 180, 4)\n",
      "rgb data shape (180, 180, 3)\n",
      "\n",
      "cloud data shape (180, 180, 4)"
     ]
    },
    {
     "name": "stderr",
     "output_type": "stream",
     "text": [
      "\r",
      " 66%|██████▌   | 126/192 [00:27<00:10,  6.27it/s]"
     ]
    },
    {
     "name": "stdout",
     "output_type": "stream",
     "text": [
      "\n",
      "cropped rgb data shape (140, 90, 3)\n",
      "cloud data shape (180, 180, 4)\n",
      "rgb data shape (180, 180, 3)rgb data shape (180, 180, 3)rgb data shape (180, 180, 3)\n",
      "\n",
      "\n",
      "cropped rgb data shape (140, 90, 3)cropped rgb data shape (140, 90, 3)\n",
      "cropped rgb data shape (140, 90, 3)\n",
      "cloud data shape (180, 180, 4)cloud data shape (180, 180, 4)\n",
      "rgb data shape (180, 180, 3)\n",
      "\n",
      "\n",
      "cropped rgb data shape (140, 90, 3)cloud data shape (180, 180, 4)\n",
      "cloud data shape (180, 180, 4)\n",
      "\n",
      "rgb data shape (180, 180, 3)rgb data shape (180, 180, 3)\n",
      "cropped rgb data shape (140, 90, 3)rgb data shape (180, 180, 3)\n",
      "rgb data shape (180, 180, 3)\n",
      "\n",
      "cropped rgb data shape (140, 90, 3)cloud data shape (180, 180, 4)cropped rgb data shape (140, 90, 3)\n",
      "cropped rgb data shape (140, 90, 3)\n",
      "\n",
      "\n",
      "\n",
      "cloud data shape (180, 180, 4)cloud data shape (180, 180, 4)\n",
      "\n"
     ]
    },
    {
     "name": "stderr",
     "output_type": "stream",
     "text": [
      "\r",
      " 67%|██████▋   | 129/192 [00:28<00:08,  7.36it/s]"
     ]
    },
    {
     "name": "stdout",
     "output_type": "stream",
     "text": [
      "cloud data shape (180, 180, 4)\n",
      "rgb data shape (180, 180, 3)rgb data shape (180, 180, 3)\n",
      "cropped rgb data shape (140, 90, 3)\n",
      "rgb data shape (180, 180, 3)\n",
      "rgb data shape (180, 180, 3)cloud data shape (180, 180, 4)\n",
      "\n",
      "cropped rgb data shape (140, 90, 3)\n",
      "\n",
      "cropped rgb data shape (140, 90, 3)cloud data shape (180, 180, 4)cropped rgb data shape (140, 90, 3)\n",
      "\n",
      "\n",
      "cloud data shape (180, 180, 4)rgb data shape (180, 180, 3)\n",
      "\n",
      "cloud data shape (180, 180, 4)\n",
      "rgb data shape (180, 180, 3)cropped rgb data shape (140, 90, 3)\n",
      "\n",
      "cropped rgb data shape (140, 90, 3)\n",
      "rgb data shape (180, 180, 3)\n",
      "cloud data shape (180, 180, 4)\n",
      "rgb data shape (180, 180, 3)cloud data shape (180, 180, 4)cropped rgb data shape (140, 90, 3)\n",
      "\n",
      "\n",
      "cloud data shape (180, 180, 4)cropped rgb data shape (140, 90, 3)\n",
      "\n",
      "rgb data shape (180, 180, 3)\n",
      "cropped rgb data shape (140, 90, 3)\n",
      "cloud data shape (180, 180, 4)\n"
     ]
    },
    {
     "name": "stderr",
     "output_type": "stream",
     "text": [
      "\r",
      " 68%|██████▊   | 130/192 [00:28<00:13,  4.50it/s]"
     ]
    },
    {
     "name": "stdout",
     "output_type": "stream",
     "text": [
      "rgb data shape (180, 180, 3)rgb data shape (180, 180, 3)cloud data shape (180, 180, 4)\n",
      "\n",
      "\n",
      "cropped rgb data shape (140, 90, 3)cropped rgb data shape (140, 90, 3)\n",
      "\n",
      "rgb data shape (180, 180, 3)cloud data shape (180, 180, 4)\n",
      "\n",
      "cloud data shape (180, 180, 4)rgb data shape (180, 180, 3)cropped rgb data shape (140, 90, 3)\n",
      "\n",
      "cloud data shape (180, 180, 4)\n",
      "\n",
      "rgb data shape (180, 180, 3)cropped rgb data shape (140, 90, 3)\n",
      "\n",
      "cloud data shape (180, 180, 4)cropped rgb data shape (140, 90, 3)\n",
      "rgb data shape (180, 180, 3)\n",
      "cloud data shape (180, 180, 4)"
     ]
    },
    {
     "name": "stderr",
     "output_type": "stream",
     "text": [
      "\r",
      " 69%|██████▉   | 133/192 [00:29<00:10,  5.45it/s]"
     ]
    },
    {
     "name": "stdout",
     "output_type": "stream",
     "text": [
      "\n",
      "\n",
      "cropped rgb data shape (140, 90, 3)rgb data shape (180, 180, 3)\n",
      "\n",
      "cropped rgb data shape (140, 90, 3)cloud data shape (180, 180, 4)rgb data shape (180, 180, 3)\n",
      "\n",
      "\n",
      "cloud data shape (180, 180, 4)cropped rgb data shape (140, 90, 3)rgb data shape (180, 180, 3)\n",
      "\n",
      "\n",
      "cloud data shape (180, 180, 4)\n",
      "cropped rgb data shape (140, 90, 3)\n",
      "cloud data shape (180, 180, 4)rgb data shape (180, 180, 3)rgb data shape (180, 180, 3)\n",
      "\n",
      "\n",
      "rgb data shape (180, 180, 3)cropped rgb data shape (140, 90, 3)\n",
      "\n",
      "cloud data shape (180, 180, 4)\n",
      "cropped rgb data shape (140, 90, 3)\n",
      "cropped rgb data shape (140, 90, 3)\n",
      "cloud data shape (180, 180, 4)cloud data shape (180, 180, 4)rgb data shape (180, 180, 3)\n",
      "\n",
      "rgb data shape (180, 180, 3)\n",
      "\n",
      "cropped rgb data shape (140, 90, 3)cropped rgb data shape (140, 90, 3)\n",
      "rgb data shape (180, 180, 3)rgb data shape (180, 180, 3)\n",
      "\n",
      "cloud data shape (180, 180, 4)cropped rgb data shape (140, 90, 3)\n",
      "\n",
      "cloud data shape (180, 180, 4)\n",
      "cropped rgb data shape (140, 90, 3)cloud data shape (180, 180, 4)\n",
      "\n",
      "\n"
     ]
    },
    {
     "name": "stderr",
     "output_type": "stream",
     "text": [
      "\r",
      " 70%|██████▉   | 134/192 [00:29<00:14,  3.90it/s]"
     ]
    },
    {
     "name": "stdout",
     "output_type": "stream",
     "text": [
      "cloud data shape (180, 180, 4)rgb data shape (180, 180, 3)\n",
      "rgb data shape (180, 180, 3)\n",
      "\n",
      "cropped rgb data shape (140, 90, 3)rgb data shape (180, 180, 3)rgb data shape (180, 180, 3)cropped rgb data shape (140, 90, 3)\n",
      "\n",
      "\n",
      "\n",
      "cropped rgb data shape (140, 90, 3)cloud data shape (180, 180, 4)cloud data shape (180, 180, 4)\n",
      "cropped rgb data shape (140, 90, 3)\n",
      "cloud data shape (180, 180, 4)\n",
      "\n",
      "\n"
     ]
    },
    {
     "name": "stderr",
     "output_type": "stream",
     "text": [
      "\r",
      " 71%|███████▏  | 137/192 [00:29<00:10,  5.42it/s]"
     ]
    },
    {
     "name": "stdout",
     "output_type": "stream",
     "text": [
      "cloud data shape (180, 180, 4)\n",
      "rgb data shape (180, 180, 3)rgb data shape (180, 180, 3)\n",
      "rgb data shape (180, 180, 3)\n",
      "cropped rgb data shape (140, 90, 3)\n",
      "rgb data shape (180, 180, 3)cloud data shape (180, 180, 4)cropped rgb data shape (140, 90, 3)\n",
      "\n",
      "cropped rgb data shape (140, 90, 3)\n",
      "\n",
      "\n",
      "cloud data shape (180, 180, 4)cropped rgb data shape (140, 90, 3)\n",
      "\n",
      "cloud data shape (180, 180, 4)cloud data shape (180, 180, 4)rgb data shape (180, 180, 3)\n",
      "\n",
      "\n",
      "cropped rgb data shape (140, 90, 3)rgb data shape (180, 180, 3)\n",
      "rgb data shape (180, 180, 3)\n",
      "rgb data shape (180, 180, 3)\n",
      "cloud data shape (180, 180, 4)cropped rgb data shape (140, 90, 3)\n",
      "\n",
      "\n",
      "cropped rgb data shape (140, 90, 3)cloud data shape (180, 180, 4)\n",
      "\n",
      "cropped rgb data shape (140, 90, 3)\n",
      "cloud data shape (180, 180, 4)cloud data shape (180, 180, 4)\n",
      "rgb data shape (180, 180, 3)\n",
      "rgb data shape (180, 180, 3)\n",
      "\n",
      "cropped rgb data shape (140, 90, 3)cropped rgb data shape (140, 90, 3)\n",
      "\n",
      "rgb data shape (180, 180, 3)rgb data shape (180, 180, 3)\n",
      "cloud data shape (180, 180, 4)\n",
      "cloud data shape (180, 180, 4)cropped rgb data shape (140, 90, 3)cropped rgb data shape (140, 90, 3)\n"
     ]
    },
    {
     "name": "stderr",
     "output_type": "stream",
     "text": [
      "\r",
      " 72%|███████▏  | 138/192 [00:30<00:14,  3.67it/s]"
     ]
    },
    {
     "name": "stdout",
     "output_type": "stream",
     "text": [
      "\n",
      "\n",
      "\n",
      "cloud data shape (180, 180, 4)cloud data shape (180, 180, 4)\n",
      "\n",
      "rgb data shape (180, 180, 3)\n",
      "rgb data shape (180, 180, 3)\n",
      "cropped rgb data shape (140, 90, 3)cropped rgb data shape (140, 90, 3)\n",
      "cloud data shape (180, 180, 4)\n",
      "\n",
      "cloud data shape (180, 180, 4)rgb data shape (180, 180, 3)rgb data shape (180, 180, 3)\n",
      "\n",
      "\n",
      "cropped rgb data shape (140, 90, 3)\n",
      "cropped rgb data shape (140, 90, 3)\n",
      "rgb data shape (180, 180, 3)\n",
      "cloud data shape (180, 180, 4)cloud data shape (180, 180, 4)rgb data shape (180, 180, 3)\n",
      "\n",
      "cropped rgb data shape (140, 90, 3)\n"
     ]
    },
    {
     "name": "stderr",
     "output_type": "stream",
     "text": [
      "\r",
      " 73%|███████▎  | 141/192 [00:31<00:10,  4.74it/s]"
     ]
    },
    {
     "name": "stdout",
     "output_type": "stream",
     "text": [
      "\n",
      "cropped rgb data shape (140, 90, 3)rgb data shape (180, 180, 3)\n",
      "cloud data shape (180, 180, 4)rgb data shape (180, 180, 3)cloud data shape (180, 180, 4)\n",
      "\n",
      "cropped rgb data shape (140, 90, 3)\n",
      "\n",
      "\n",
      "cropped rgb data shape (140, 90, 3)rgb data shape (180, 180, 3)\n",
      "cloud data shape (180, 180, 4)\n",
      "cloud data shape (180, 180, 4)\n",
      "\n",
      "rgb data shape (180, 180, 3)cropped rgb data shape (140, 90, 3)\n",
      "\n",
      "rgb data shape (180, 180, 3)cropped rgb data shape (140, 90, 3)\n",
      "cloud data shape (180, 180, 4)rgb data shape (180, 180, 3)cropped rgb data shape (140, 90, 3)\n",
      "\n",
      "\n",
      "\n",
      "cloud data shape (180, 180, 4)cloud data shape (180, 180, 4)\n",
      "\n",
      "cropped rgb data shape (140, 90, 3)\n",
      "cloud data shape (180, 180, 4)rgb data shape (180, 180, 3)\n",
      "\n",
      "cropped rgb data shape (140, 90, 3)\n",
      "cloud data shape (180, 180, 4)\n",
      "rgb data shape (180, 180, 3)rgb data shape (180, 180, 3)rgb data shape (180, 180, 3)\n",
      "\n",
      "cropped rgb data shape (140, 90, 3)\n",
      "cropped rgb data shape (140, 90, 3)\n",
      "\n",
      "cloud data shape (180, 180, 4)cloud data shape (180, 180, 4)cropped rgb data shape (140, 90, 3)\n",
      "\n",
      "cloud data shape (180, 180, 4)rgb data shape (180, 180, 3)\n"
     ]
    },
    {
     "name": "stderr",
     "output_type": "stream",
     "text": [
      "\r",
      " 74%|███████▍  | 142/192 [00:31<00:14,  3.50it/s]"
     ]
    },
    {
     "name": "stdout",
     "output_type": "stream",
     "text": [
      "\n",
      "\n",
      "cropped rgb data shape (140, 90, 3)\n",
      "rgb data shape (180, 180, 3)\n",
      "cloud data shape (180, 180, 4)cropped rgb data shape (140, 90, 3)rgb data shape (180, 180, 3)\n",
      "\n",
      "\n",
      "rgb data shape (180, 180, 3)cropped rgb data shape (140, 90, 3)cloud data shape (180, 180, 4)\n",
      "rgb data shape (180, 180, 3)cloud data shape (180, 180, 4)\n",
      "\n"
     ]
    },
    {
     "name": "stderr",
     "output_type": "stream",
     "text": [
      "\r",
      " 76%|███████▌  | 145/192 [00:31<00:08,  5.27it/s]"
     ]
    },
    {
     "name": "stdout",
     "output_type": "stream",
     "text": [
      "cropped rgb data shape (140, 90, 3)\n",
      "\n",
      "\n",
      "cropped rgb data shape (140, 90, 3)cloud data shape (180, 180, 4)\n",
      "cloud data shape (180, 180, 4)rgb data shape (180, 180, 3)\n",
      "\n",
      "\n",
      "rgb data shape (180, 180, 3)cropped rgb data shape (140, 90, 3)\n",
      "\n",
      "rgb data shape (180, 180, 3)cloud data shape (180, 180, 4)\n",
      "\n",
      "cropped rgb data shape (140, 90, 3)rgb data shape (180, 180, 3)cropped rgb data shape (140, 90, 3)\n",
      "\n",
      "\n",
      "cloud data shape (180, 180, 4)cropped rgb data shape (140, 90, 3)cloud data shape (180, 180, 4)\n",
      "\n",
      "\n",
      "rgb data shape (180, 180, 3)cloud data shape (180, 180, 4)rgb data shape (180, 180, 3)\n",
      "\n",
      "\n",
      "cropped rgb data shape (140, 90, 3)rgb data shape (180, 180, 3)\n",
      "cropped rgb data shape (140, 90, 3)cloud data shape (180, 180, 4)\n",
      "\n",
      "cropped rgb data shape (140, 90, 3)cloud data shape (180, 180, 4)\n",
      "rgb data shape (180, 180, 3)\n",
      "cloud data shape (180, 180, 4)\n",
      "\n",
      "\n",
      "cropped rgb data shape (140, 90, 3)\n",
      "cloud data shape (180, 180, 4)\n",
      "rgb data shape (180, 180, 3)\n",
      "rgb data shape (180, 180, 3)cropped rgb data shape (140, 90, 3)\n",
      "rgb data shape (180, 180, 3)cropped rgb data shape (140, 90, 3)\n",
      "rgb data shape (180, 180, 3)\n",
      "cloud data shape (180, 180, 4)\n",
      "\n",
      "cropped rgb data shape (140, 90, 3)cropped rgb data shape (140, 90, 3)cloud data shape (180, 180, 4)\n",
      "\n",
      "\n"
     ]
    },
    {
     "name": "stderr",
     "output_type": "stream",
     "text": [
      "\r",
      " 76%|███████▌  | 146/192 [00:32<00:12,  3.60it/s]"
     ]
    },
    {
     "name": "stdout",
     "output_type": "stream",
     "text": [
      "cloud data shape (180, 180, 4)cloud data shape (180, 180, 4)\n",
      "\n",
      "\n",
      "rgb data shape (180, 180, 3)rgb data shape (180, 180, 3)rgb data shape (180, 180, 3)\n",
      "\n",
      "rgb data shape (180, 180, 3)cropped rgb data shape (140, 90, 3)cropped rgb data shape (140, 90, 3)\n",
      "\n",
      "\n",
      "cloud data shape (180, 180, 4)\n",
      "cropped rgb data shape (140, 90, 3)cropped rgb data shape (140, 90, 3)\n",
      "cloud data shape (180, 180, 4)\n",
      "\n",
      "cloud data shape (180, 180, 4)\n",
      "rgb data shape (180, 180, 3)"
     ]
    },
    {
     "name": "stderr",
     "output_type": "stream",
     "text": [
      "\r",
      " 78%|███████▊  | 149/192 [00:32<00:09,  4.75it/s]"
     ]
    },
    {
     "name": "stdout",
     "output_type": "stream",
     "text": [
      "\n",
      "cloud data shape (180, 180, 4)\n",
      "cropped rgb data shape (140, 90, 3)\n",
      "\n",
      "cloud data shape (180, 180, 4)rgb data shape (180, 180, 3)\n",
      "rgb data shape (180, 180, 3)\n",
      "cropped rgb data shape (140, 90, 3)\n",
      "\n",
      "cropped rgb data shape (140, 90, 3)cloud data shape (180, 180, 4)rgb data shape (180, 180, 3)\n",
      "\n",
      "\n",
      "rgb data shape (180, 180, 3)cropped rgb data shape (140, 90, 3)\n",
      "cloud data shape (180, 180, 4)\n",
      "\n",
      "cropped rgb data shape (140, 90, 3)cloud data shape (180, 180, 4)\n",
      "cloud data shape (180, 180, 4)rgb data shape (180, 180, 3)\n",
      "\n",
      "\n",
      "rgb data shape (180, 180, 3)\n",
      "cropped rgb data shape (140, 90, 3)cropped rgb data shape (140, 90, 3)rgb data shape (180, 180, 3)\n",
      "rgb data shape (180, 180, 3)\n",
      "cloud data shape (180, 180, 4)\n",
      "\n",
      "cropped rgb data shape (140, 90, 3)cloud data shape (180, 180, 4)\n",
      "\n",
      "\n"
     ]
    },
    {
     "name": "stderr",
     "output_type": "stream",
     "text": [
      "\r",
      " 78%|███████▊  | 150/192 [00:33<00:10,  3.83it/s]"
     ]
    },
    {
     "name": "stdout",
     "output_type": "stream",
     "text": [
      "cropped rgb data shape (140, 90, 3)cloud data shape (180, 180, 4)\n",
      "\n",
      "cloud data shape (180, 180, 4)\n",
      "rgb data shape (180, 180, 3)\n",
      "rgb data shape (180, 180, 3)\n",
      "cropped rgb data shape (140, 90, 3)rgb data shape (180, 180, 3)\n",
      "cropped rgb data shape (140, 90, 3)\n",
      "rgb data shape (180, 180, 3)\n",
      "\n",
      "cloud data shape (180, 180, 4)cropped rgb data shape (140, 90, 3)cloud data shape (180, 180, 4)cropped rgb data shape (140, 90, 3)\n",
      "\n",
      "\n",
      "\n",
      "cloud data shape (180, 180, 4)\n",
      "cloud data shape (180, 180, 4)rgb data shape (180, 180, 3)\n",
      "rgb data shape (180, 180, 3)\n",
      "\n",
      "rgb data shape (180, 180, 3)rgb data shape (180, 180, 3)cropped rgb data shape (140, 90, 3)cropped rgb data shape (140, 90, 3)\n",
      "\n",
      "\n",
      "\n",
      "cropped rgb data shape (140, 90, 3)cloud data shape (180, 180, 4)\n",
      "cloud data shape (180, 180, 4)\n",
      "cloud data shape (180, 180, 4)cropped rgb data shape (140, 90, 3)\n"
     ]
    },
    {
     "name": "stderr",
     "output_type": "stream",
     "text": [
      "\r",
      " 80%|███████▉  | 153/192 [00:34<00:09,  4.26it/s]"
     ]
    },
    {
     "name": "stdout",
     "output_type": "stream",
     "text": [
      "\n",
      "\n",
      "cloud data shape (180, 180, 4)\n",
      "rgb data shape (180, 180, 3)\n",
      "rgb data shape (180, 180, 3)cropped rgb data shape (140, 90, 3)\n",
      "rgb data shape (180, 180, 3)\n",
      "\n",
      "cloud data shape (180, 180, 4)cropped rgb data shape (140, 90, 3)\n",
      "\n",
      "cropped rgb data shape (140, 90, 3)\n",
      "rgb data shape (180, 180, 3)\n",
      "cloud data shape (180, 180, 4)cloud data shape (180, 180, 4)cropped rgb data shape (140, 90, 3)\n",
      "rgb data shape (180, 180, 3)\n",
      "\n",
      "\n",
      "cloud data shape (180, 180, 4)cropped rgb data shape (140, 90, 3)\n",
      "rgb data shape (180, 180, 3)\n",
      "\n",
      "rgb data shape (180, 180, 3)\n",
      "rgb data shape (180, 180, 3)cloud data shape (180, 180, 4)cropped rgb data shape (140, 90, 3)\n",
      "\n",
      "cropped rgb data shape (140, 90, 3)"
     ]
    },
    {
     "name": "stderr",
     "output_type": "stream",
     "text": [
      "\r",
      " 80%|████████  | 154/192 [00:34<00:10,  3.66it/s]"
     ]
    },
    {
     "name": "stdout",
     "output_type": "stream",
     "text": [
      "cropped rgb data shape (140, 90, 3)\n",
      "\n",
      "\n",
      "cloud data shape (180, 180, 4)cloud data shape (180, 180, 4)\n",
      "rgb data shape (180, 180, 3)\n",
      "cloud data shape (180, 180, 4)\n",
      "\n",
      "cropped rgb data shape (140, 90, 3)rgb data shape (180, 180, 3)rgb data shape (180, 180, 3)\n",
      "\n",
      "\n",
      "cropped rgb data shape (140, 90, 3)cloud data shape (180, 180, 4)\n",
      "cropped rgb data shape (140, 90, 3)\n",
      "rgb data shape (180, 180, 3)\n",
      "\n",
      "cloud data shape (180, 180, 4)cloud data shape (180, 180, 4)\n",
      "cropped rgb data shape (140, 90, 3)\n",
      "rgb data shape (180, 180, 3)\n",
      "\n",
      "cropped rgb data shape (140, 90, 3)cloud data shape (180, 180, 4)\n",
      "\n",
      "cloud data shape (180, 180, 4)\n",
      "rgb data shape (180, 180, 3)rgb data shape (180, 180, 3)\n",
      "\n",
      "rgb data shape (180, 180, 3)\n",
      "cropped rgb data shape (140, 90, 3)cropped rgb data shape (140, 90, 3)rgb data shape (180, 180, 3)cropped rgb data shape (140, 90, 3)\n",
      "cloud data shape (180, 180, 4)\n",
      "\n",
      "\n",
      "cloud data shape (180, 180, 4)\n",
      "cropped rgb data shape (140, 90, 3)"
     ]
    },
    {
     "name": "stderr",
     "output_type": "stream",
     "text": [
      "\r",
      " 82%|████████▏ | 157/192 [00:35<00:08,  3.99it/s]"
     ]
    },
    {
     "name": "stdout",
     "output_type": "stream",
     "text": [
      "cloud data shape (180, 180, 4)\n",
      "\n",
      "\n",
      "cloud data shape (180, 180, 4)rgb data shape (180, 180, 3)\n",
      "\n",
      "cropped rgb data shape (140, 90, 3)rgb data shape (180, 180, 3)\n",
      "rgb data shape (180, 180, 3)\n",
      "cloud data shape (180, 180, 4)\n",
      "\n",
      "cropped rgb data shape (140, 90, 3)cropped rgb data shape (140, 90, 3)rgb data shape (180, 180, 3)\n",
      "\n",
      "\n",
      "cropped rgb data shape (140, 90, 3)cloud data shape (180, 180, 4)cloud data shape (180, 180, 4)rgb data shape (180, 180, 3)\n",
      "\n",
      "\n",
      "\n",
      "cropped rgb data shape (140, 90, 3)cloud data shape (180, 180, 4)\n",
      "\n",
      "rgb data shape (180, 180, 3)rgb data shape (180, 180, 3)"
     ]
    },
    {
     "name": "stderr",
     "output_type": "stream",
     "text": [
      "\r",
      " 82%|████████▏ | 158/192 [00:35<00:09,  3.57it/s]"
     ]
    },
    {
     "name": "stdout",
     "output_type": "stream",
     "text": [
      "cloud data shape (180, 180, 4)\n",
      "\n",
      "cropped rgb data shape (140, 90, 3)cropped rgb data shape (140, 90, 3)\n",
      "\n",
      "rgb data shape (180, 180, 3)\n",
      "\n",
      "cloud data shape (180, 180, 4)cloud data shape (180, 180, 4)rgb data shape (180, 180, 3)cropped rgb data shape (140, 90, 3)\n",
      "\n",
      "\n",
      "cloud data shape (180, 180, 4)\n",
      "\n",
      "cropped rgb data shape (140, 90, 3)rgb data shape (180, 180, 3)\n",
      "cloud data shape (180, 180, 4)\n",
      "\n",
      "rgb data shape (180, 180, 3)cropped rgb data shape (140, 90, 3)rgb data shape (180, 180, 3)\n",
      "\n",
      "\n",
      "rgb data shape (180, 180, 3)\n",
      "cropped rgb data shape (140, 90, 3)cropped rgb data shape (140, 90, 3)cloud data shape (180, 180, 4)\n",
      "cropped rgb data shape (140, 90, 3)\n",
      "\n",
      "\n",
      "cloud data shape (180, 180, 4)\n",
      "cloud data shape (180, 180, 4)\n",
      "cloud data shape (180, 180, 4)\n"
     ]
    },
    {
     "name": "stderr",
     "output_type": "stream",
     "text": [
      "\r",
      " 84%|████████▍ | 161/192 [00:35<00:06,  4.61it/s]"
     ]
    },
    {
     "name": "stdout",
     "output_type": "stream",
     "text": [
      "rgb data shape (180, 180, 3)rgb data shape (180, 180, 3)rgb data shape (180, 180, 3)\n",
      "\n",
      "cropped rgb data shape (140, 90, 3)\n",
      "cropped rgb data shape (140, 90, 3)rgb data shape (180, 180, 3)\n",
      "cropped rgb data shape (140, 90, 3)\n",
      "\n",
      "cropped rgb data shape (140, 90, 3)\n",
      "cloud data shape (180, 180, 4)\n",
      "cloud data shape (180, 180, 4)\n",
      "cloud data shape (180, 180, 4)cloud data shape (180, 180, 4)\n",
      "\n",
      "\n",
      "rgb data shape (180, 180, 3)rgb data shape (180, 180, 3)\n",
      "\n",
      "cropped rgb data shape (140, 90, 3)rgb data shape (180, 180, 3)rgb data shape (180, 180, 3)\n",
      "\n",
      "cropped rgb data shape (140, 90, 3)cropped rgb data shape (140, 90, 3)\n",
      "cloud data shape (180, 180, 4)\n",
      "\n",
      "\n",
      "cloud data shape (180, 180, 4)cropped rgb data shape (140, 90, 3)\n",
      "cloud data shape (180, 180, 4)\n",
      "rgb data shape (180, 180, 3)\n",
      "cloud data shape (180, 180, 4)"
     ]
    },
    {
     "name": "stderr",
     "output_type": "stream",
     "text": [
      "\r",
      " 84%|████████▍ | 162/192 [00:36<00:07,  4.09it/s]"
     ]
    },
    {
     "name": "stdout",
     "output_type": "stream",
     "text": [
      "\n",
      "\n",
      "cropped rgb data shape (140, 90, 3)\n",
      "rgb data shape (180, 180, 3)rgb data shape (180, 180, 3)\n",
      "cropped rgb data shape (140, 90, 3)\n",
      "cloud data shape (180, 180, 4)cloud data shape (180, 180, 4)\n",
      "\n",
      "cropped rgb data shape (140, 90, 3)rgb data shape (180, 180, 3)\n",
      "\n",
      "cropped rgb data shape (140, 90, 3)\n",
      "\n",
      "cloud data shape (180, 180, 4)\n",
      "cloud data shape (180, 180, 4)rgb data shape (180, 180, 3)\n",
      "\n",
      "cropped rgb data shape (140, 90, 3)rgb data shape (180, 180, 3)rgb data shape (180, 180, 3)\n",
      "cropped rgb data shape (140, 90, 3)\n",
      "\n",
      "\n",
      "cropped rgb data shape (140, 90, 3)cloud data shape (180, 180, 4)\n",
      "cloud data shape (180, 180, 4)\n",
      "\n",
      "cloud data shape (180, 180, 4)\n",
      "rgb data shape (180, 180, 3)"
     ]
    },
    {
     "name": "stderr",
     "output_type": "stream",
     "text": [
      "\r",
      " 86%|████████▌ | 165/192 [00:36<00:04,  5.42it/s]"
     ]
    },
    {
     "name": "stdout",
     "output_type": "stream",
     "text": [
      "rgb data shape (180, 180, 3)\n",
      "\n",
      "cropped rgb data shape (140, 90, 3)rgb data shape (180, 180, 3)\n",
      "cropped rgb data shape (140, 90, 3)cloud data shape (180, 180, 4)rgb data shape (180, 180, 3)\n",
      "\n",
      "cropped rgb data shape (140, 90, 3)\n",
      "cloud data shape (180, 180, 4)\n",
      "\n",
      "cropped rgb data shape (140, 90, 3)\n",
      "\n",
      "cloud data shape (180, 180, 4)cloud data shape (180, 180, 4)rgb data shape (180, 180, 3)rgb data shape (180, 180, 3)\n",
      "\n",
      "\n",
      "\n",
      "rgb data shape (180, 180, 3)rgb data shape (180, 180, 3)cropped rgb data shape (140, 90, 3)\n",
      "cropped rgb data shape (140, 90, 3)\n",
      "\n",
      "\n",
      "cropped rgb data shape (140, 90, 3)cropped rgb data shape (140, 90, 3)\n",
      "cloud data shape (180, 180, 4)\n",
      "cloud data shape (180, 180, 4)cloud data shape (180, 180, 4)\n",
      "cloud data shape (180, 180, 4)\n",
      "\n",
      "rgb data shape (180, 180, 3)\n",
      "\n",
      "cropped rgb data shape (140, 90, 3)rgb data shape (180, 180, 3)\n",
      "\n",
      "cropped rgb data shape (140, 90, 3)rgb data shape (180, 180, 3)cloud data shape (180, 180, 4)rgb data shape (180, 180, 3)\n",
      "\n",
      "\n",
      "cropped rgb data shape (140, 90, 3)\n",
      "cloud data shape (180, 180, 4)\n",
      "cloud data shape (180, 180, 4)\n",
      "cropped rgb data shape (140, 90, 3)\n",
      "\n"
     ]
    },
    {
     "name": "stderr",
     "output_type": "stream",
     "text": [
      "\r",
      " 86%|████████▋ | 166/192 [00:37<00:06,  4.11it/s]"
     ]
    },
    {
     "name": "stdout",
     "output_type": "stream",
     "text": [
      "cloud data shape (180, 180, 4)rgb data shape (180, 180, 3)\n",
      "cropped rgb data shape (140, 90, 3)\n",
      "\n",
      "rgb data shape (180, 180, 3)cloud data shape (180, 180, 4)\n",
      "\n",
      "rgb data shape (180, 180, 3)"
     ]
    },
    {
     "name": "stderr",
     "output_type": "stream",
     "text": [
      "\r",
      " 88%|████████▊ | 169/192 [00:37<00:03,  6.29it/s]"
     ]
    },
    {
     "name": "stdout",
     "output_type": "stream",
     "text": [
      "\n",
      "rgb data shape (180, 180, 3)cropped rgb data shape (140, 90, 3)cropped rgb data shape (140, 90, 3)\n",
      "\n",
      "\n",
      "cloud data shape (180, 180, 4)rgb data shape (180, 180, 3)cropped rgb data shape (140, 90, 3)cloud data shape (180, 180, 4)\n",
      "\n",
      "\n",
      "cropped rgb data shape (140, 90, 3)\n",
      "rgb data shape (180, 180, 3)\n",
      "cropped rgb data shape (140, 90, 3)\n",
      "\n",
      "cloud data shape (180, 180, 4)cloud data shape (180, 180, 4)cloud data shape (180, 180, 4)\n",
      "\n",
      "rgb data shape (180, 180, 3)\n",
      "\n",
      "cropped rgb data shape (140, 90, 3)rgb data shape (180, 180, 3)\n",
      "\n",
      "rgb data shape (180, 180, 3)cropped rgb data shape (140, 90, 3)cloud data shape (180, 180, 4)\n",
      "\n",
      "\n",
      "rgb data shape (180, 180, 3)cloud data shape (180, 180, 4)cropped rgb data shape (140, 90, 3)\n",
      "\n",
      "\n",
      "cloud data shape (180, 180, 4)cropped rgb data shape (140, 90, 3)\n",
      "\n",
      "rgb data shape (180, 180, 3)\n",
      "cloud data shape (180, 180, 4)rgb data shape (180, 180, 3)cropped rgb data shape (140, 90, 3)\n",
      "\n",
      "rgb data shape (180, 180, 3)\n",
      "cropped rgb data shape (140, 90, 3)\n",
      "cropped rgb data shape (140, 90, 3)\n",
      "cloud data shape (180, 180, 4)cloud data shape (180, 180, 4)rgb data shape (180, 180, 3)\n",
      "\n",
      "\n",
      "\n",
      "cropped rgb data shape (140, 90, 3)cloud data shape (180, 180, 4)\n",
      "rgb data shape (180, 180, 3)cloud data shape (180, 180, 4)\n",
      "\n",
      "cropped rgb data shape (140, 90, 3)\n",
      "rgb data shape (180, 180, 3)\n",
      "\n",
      "cloud data shape (180, 180, 4)cropped rgb data shape (140, 90, 3)\n",
      "rgb data shape (180, 180, 3)"
     ]
    },
    {
     "name": "stderr",
     "output_type": "stream",
     "text": [
      "\r",
      " 89%|████████▉ | 171/192 [00:38<00:04,  4.25it/s]"
     ]
    },
    {
     "name": "stdout",
     "output_type": "stream",
     "text": [
      "\n",
      "cloud data shape (180, 180, 4)\n",
      "rgb data shape (180, 180, 3)cropped rgb data shape (140, 90, 3)\n",
      "rgb data shape (180, 180, 3)\n",
      "\n",
      "\n",
      "cloud data shape (180, 180, 4)cropped rgb data shape (140, 90, 3)cropped rgb data shape (140, 90, 3)\n",
      "\n"
     ]
    },
    {
     "name": "stderr",
     "output_type": "stream",
     "text": [
      "\r",
      " 90%|█████████ | 173/192 [00:38<00:03,  5.21it/s]"
     ]
    },
    {
     "name": "stdout",
     "output_type": "stream",
     "text": [
      "cloud data shape (180, 180, 4)\n",
      "rgb data shape (180, 180, 3)cloud data shape (180, 180, 4)rgb data shape (180, 180, 3)\n",
      "\n",
      "\n",
      "\n",
      "cropped rgb data shape (140, 90, 3)cropped rgb data shape (140, 90, 3)\n",
      "rgb data shape (180, 180, 3)rgb data shape (180, 180, 3)\n",
      "cropped rgb data shape (140, 90, 3)\n",
      "cloud data shape (180, 180, 4)\n",
      "cropped rgb data shape (140, 90, 3)\n",
      "\n",
      "cloud data shape (180, 180, 4)\n",
      "cloud data shape (180, 180, 4)cloud data shape (180, 180, 4)\n",
      "\n",
      "\n",
      "rgb data shape (180, 180, 3)\n",
      "rgb data shape (180, 180, 3)rgb data shape (180, 180, 3)rgb data shape (180, 180, 3)\n",
      "cropped rgb data shape (140, 90, 3)\n",
      "\n",
      "cropped rgb data shape (140, 90, 3)cropped rgb data shape (140, 90, 3)\n",
      "\n",
      "cropped rgb data shape (140, 90, 3)cloud data shape (180, 180, 4)\n",
      "\n",
      "cloud data shape (180, 180, 4)\n",
      "cloud data shape (180, 180, 4)\n",
      "cloud data shape (180, 180, 4)\n",
      "\n",
      "rgb data shape (180, 180, 3)rgb data shape (180, 180, 3)rgb data shape (180, 180, 3)\n",
      "\n",
      "cropped rgb data shape (140, 90, 3)rgb data shape (180, 180, 3)\n",
      "\n",
      "cropped rgb data shape (140, 90, 3)\n",
      "cloud data shape (180, 180, 4)cloud data shape (180, 180, 4)\n",
      "\n",
      "cropped rgb data shape (140, 90, 3)"
     ]
    },
    {
     "name": "stderr",
     "output_type": "stream",
     "text": [
      "\r",
      " 91%|█████████ | 174/192 [00:39<00:04,  3.62it/s]"
     ]
    },
    {
     "name": "stdout",
     "output_type": "stream",
     "text": [
      "\n",
      "cropped rgb data shape (140, 90, 3)\n",
      "\n",
      "cloud data shape (180, 180, 4)cloud data shape (180, 180, 4)\n",
      "rgb data shape (180, 180, 3)rgb data shape (180, 180, 3)\n",
      "\n",
      "\n",
      "cropped rgb data shape (140, 90, 3)cropped rgb data shape (140, 90, 3)\n",
      "rgb data shape (180, 180, 3)cloud data shape (180, 180, 4)\n",
      "\n",
      "rgb data shape (180, 180, 3)cropped rgb data shape (140, 90, 3)\n",
      "\n",
      "\n",
      "cloud data shape (180, 180, 4)cropped rgb data shape (140, 90, 3)\n",
      "\n",
      "rgb data shape (180, 180, 3)\n",
      "cropped rgb data shape (140, 90, 3)cloud data shape (180, 180, 4)cloud data shape (180, 180, 4)\n",
      "\n",
      "rgb data shape (180, 180, 3)"
     ]
    },
    {
     "name": "stderr",
     "output_type": "stream",
     "text": [
      "\r",
      " 92%|█████████▏| 177/192 [00:39<00:03,  4.87it/s]"
     ]
    },
    {
     "name": "stdout",
     "output_type": "stream",
     "text": [
      "\n",
      "\n",
      "cropped rgb data shape (140, 90, 3)cloud data shape (180, 180, 4)\n",
      "cloud data shape (180, 180, 4)\n",
      "\n",
      "rgb data shape (180, 180, 3)rgb data shape (180, 180, 3)\n",
      "\n",
      "rgb data shape (180, 180, 3)\n",
      "cropped rgb data shape (140, 90, 3)cropped rgb data shape (140, 90, 3)\n",
      "\n",
      "rgb data shape (180, 180, 3)\n",
      "cropped rgb data shape (140, 90, 3)cloud data shape (180, 180, 4)\n",
      "\n",
      "cropped rgb data shape (140, 90, 3)cloud data shape (180, 180, 4)\n",
      "\n",
      "cloud data shape (180, 180, 4)\n",
      "cloud data shape (180, 180, 4)rgb data shape (180, 180, 3)rgb data shape (180, 180, 3)\n",
      "rgb data shape (180, 180, 3)\n",
      "\n",
      "cropped rgb data shape (140, 90, 3)\n",
      "cropped rgb data shape (140, 90, 3)\n",
      "\n",
      "rgb data shape (180, 180, 3)cropped rgb data shape (140, 90, 3)cloud data shape (180, 180, 4)cloud data shape (180, 180, 4)\n",
      "\n",
      "\n",
      "\n",
      "cropped rgb data shape (140, 90, 3)cloud data shape (180, 180, 4)\n",
      "\n",
      "cloud data shape (180, 180, 4)rgb data shape (180, 180, 3)\n",
      "rgb data shape (180, 180, 3)\n",
      "\n"
     ]
    },
    {
     "name": "stderr",
     "output_type": "stream",
     "text": [
      "\r",
      " 93%|█████████▎| 178/192 [00:39<00:03,  4.05it/s]"
     ]
    },
    {
     "name": "stdout",
     "output_type": "stream",
     "text": [
      "cropped rgb data shape (140, 90, 3)rgb data shape (180, 180, 3)\n",
      "\n",
      "cropped rgb data shape (140, 90, 3)cloud data shape (180, 180, 4)cropped rgb data shape (140, 90, 3)rgb data shape (180, 180, 3)\n",
      "\n",
      "cropped rgb data shape (140, 90, 3)\n",
      "\n",
      "\n",
      "cloud data shape (180, 180, 4)cloud data shape (180, 180, 4)\n",
      "\n",
      "cloud data shape (180, 180, 4)\n",
      "rgb data shape (180, 180, 3)\n",
      "cropped rgb data shape (140, 90, 3)\n",
      "rgb data shape (180, 180, 3)cloud data shape (180, 180, 4)rgb data shape (180, 180, 3)\n",
      "\n",
      "\n"
     ]
    },
    {
     "name": "stderr",
     "output_type": "stream",
     "text": [
      "\r",
      " 94%|█████████▍| 181/192 [00:40<00:01,  5.58it/s]"
     ]
    },
    {
     "name": "stdout",
     "output_type": "stream",
     "text": [
      "cropped rgb data shape (140, 90, 3)rgb data shape (180, 180, 3)cropped rgb data shape (140, 90, 3)\n",
      "cloud data shape (180, 180, 4)\n",
      "\n",
      "rgb data shape (180, 180, 3)\n",
      "\n",
      "cloud data shape (180, 180, 4)cropped rgb data shape (140, 90, 3)\n",
      "cropped rgb data shape (140, 90, 3)\n",
      "\n",
      "cloud data shape (180, 180, 4)\n",
      "cloud data shape (180, 180, 4)\n",
      "rgb data shape (180, 180, 3)rgb data shape (180, 180, 3)\n",
      "\n",
      "cropped rgb data shape (140, 90, 3)cropped rgb data shape (140, 90, 3)\n",
      "\n",
      "rgb data shape (180, 180, 3)cloud data shape (180, 180, 4)rgb data shape (180, 180, 3)\n",
      "\n",
      "\n",
      "cropped rgb data shape (140, 90, 3)cloud data shape (180, 180, 4)\n",
      "cloud data shape (180, 180, 4)\n",
      "cropped rgb data shape (140, 90, 3)\n",
      "\n",
      "rgb data shape (180, 180, 3)rgb data shape (180, 180, 3)\n",
      "cloud data shape (180, 180, 4)\n",
      "\n",
      "cropped rgb data shape (140, 90, 3)\n",
      "rgb data shape (180, 180, 3)cropped rgb data shape (140, 90, 3)\n",
      "\n",
      "cropped rgb data shape (140, 90, 3)\n",
      "cloud data shape (180, 180, 4)cloud data shape (180, 180, 4)\n",
      "\n",
      "cloud data shape (180, 180, 4)\n",
      "rgb data shape (180, 180, 3)\n",
      "rgb data shape (180, 180, 3)\n",
      "cropped rgb data shape (140, 90, 3)\n",
      "cropped rgb data shape (140, 90, 3)\n",
      "rgb data shape (180, 180, 3)cloud data shape (180, 180, 4)\n",
      "cloud data shape (180, 180, 4)rgb data shape (180, 180, 3)\n",
      "cropped rgb data shape (140, 90, 3)cropped rgb data shape (140, 90, 3)\n",
      "\n",
      "\n",
      "cloud data shape (180, 180, 4)\n"
     ]
    },
    {
     "name": "stderr",
     "output_type": "stream",
     "text": [
      "\r",
      " 95%|█████████▍| 182/192 [00:40<00:02,  4.93it/s]"
     ]
    },
    {
     "name": "stdout",
     "output_type": "stream",
     "text": [
      "cloud data shape (180, 180, 4)\n",
      "rgb data shape (180, 180, 3)\n",
      "rgb data shape (180, 180, 3)\n",
      "cropped rgb data shape (140, 90, 3)\n",
      "rgb data shape (180, 180, 3)cropped rgb data shape (140, 90, 3)\n",
      "\n",
      "\n",
      "cropped rgb data shape (140, 90, 3)rgb data shape (180, 180, 3)\n",
      "cloud data shape (180, 180, 4)cloud data shape (180, 180, 4)\n",
      "\n",
      "\n",
      "cropped rgb data shape (140, 90, 3)cloud data shape (180, 180, 4)\n",
      "\n",
      "cloud data shape (180, 180, 4)\n",
      "rgb data shape (180, 180, 3)\n",
      "rgb data shape (180, 180, 3)rgb data shape (180, 180, 3)\n",
      "rgb data shape (180, 180, 3)cropped rgb data shape (140, 90, 3)\n",
      "\n",
      "\n",
      "cropped rgb data shape (140, 90, 3)cropped rgb data shape (140, 90, 3)cropped rgb data shape (140, 90, 3)cloud data shape (180, 180, 4)\n",
      "\n",
      "cloud data shape (180, 180, 4)cloud data shape (180, 180, 4)\n",
      "\n",
      "\n",
      "cloud data shape (180, 180, 4)\n",
      "\n",
      "rgb data shape (180, 180, 3)rgb data shape (180, 180, 3)rgb data shape (180, 180, 3)\n",
      "rgb data shape (180, 180, 3)\n",
      "\n",
      "\n",
      "cropped rgb data shape (140, 90, 3)cropped rgb data shape (140, 90, 3)cropped rgb data shape (140, 90, 3)\n",
      "\n",
      "cloud data shape (180, 180, 4)cloud data shape (180, 180, 4)\n",
      "\n",
      "cropped rgb data shape (140, 90, 3)cloud data shape (180, 180, 4)\n",
      "\n",
      "rgb data shape (180, 180, 3)\n",
      "rgb data shape (180, 180, 3)\n",
      "cropped rgb data shape (140, 90, 3)cloud data shape (180, 180, 4)\n",
      "\n",
      "rgb data shape (180, 180, 3)\n",
      "cropped rgb data shape (140, 90, 3)\n",
      "\n",
      "rgb data shape (180, 180, 3)cropped rgb data shape (140, 90, 3)cloud data shape (180, 180, 4)\n",
      "cloud data shape (180, 180, 4)\n",
      "\n",
      "\n",
      "cloud data shape (180, 180, 4)"
     ]
    },
    {
     "name": "stderr",
     "output_type": "stream",
     "text": [
      "\r",
      " 97%|█████████▋| 186/192 [00:41<00:01,  5.28it/s]"
     ]
    },
    {
     "name": "stdout",
     "output_type": "stream",
     "text": [
      "cropped rgb data shape (140, 90, 3)\n",
      "\n",
      "rgb data shape (180, 180, 3)rgb data shape (180, 180, 3)cloud data shape (180, 180, 4)\n",
      "cropped rgb data shape (140, 90, 3)\n",
      "cloud data shape (180, 180, 4)\n",
      "\n",
      "\n",
      "cropped rgb data shape (140, 90, 3)\n",
      "cloud data shape (180, 180, 4)rgb data shape (180, 180, 3)\n",
      "\n",
      "cropped rgb data shape (140, 90, 3)rgb data shape (180, 180, 3)\n",
      "rgb data shape (180, 180, 3)\n",
      "\n",
      "cropped rgb data shape (140, 90, 3)cloud data shape (180, 180, 4)cropped rgb data shape (140, 90, 3)\n",
      "\n",
      "\n",
      "cloud data shape (180, 180, 4)cloud data shape (180, 180, 4)\n",
      "\n",
      "rgb data shape (180, 180, 3)\n",
      "rgb data shape (180, 180, 3)cropped rgb data shape (140, 90, 3)\n",
      "\n",
      "cloud data shape (180, 180, 4)cropped rgb data shape (140, 90, 3)\n",
      "\n",
      "cloud data shape (180, 180, 4)rgb data shape (180, 180, 3)\n",
      "\n",
      "cropped rgb data shape (140, 90, 3)\n",
      "cloud data shape (180, 180, 4)\n"
     ]
    },
    {
     "name": "stderr",
     "output_type": "stream",
     "text": [
      "100%|██████████| 192/192 [00:42<00:00,  4.53it/s]\n",
      "Clipping input data to the valid range for imshow with RGB data ([0..1] for floats or [0..255] for integers).\n"
     ]
    },
    {
     "name": "stdout",
     "output_type": "stream",
     "text": [
      "768 True\n",
      "4 torch.Size([4, 3, 140, 90]) torch.Size([4, 180, 180, 4]) torch.Size([4, 3, 180, 180])\n"
     ]
    },
    {
     "data": {
      "image/png": "[encoded data removed]",
      "text/plain": [
       "<Figure size 432x288 with 1 Axes>"
      ]
     },
     "metadata": {
      "needs_background": "light"
     },
     "output_type": "display_data"
    }
   ],
   "source": [
    "batch_size = 4\n",
    "num_workers = 4\n",
    "\n",
    "train_dataset = FaceData(train_img_paths)\n",
    "test_dataset = FaceData(test_img_paths)\n",
    "\n",
    "train_loader = DataLoader(train_dataset, batch_size = batch_size, shuffle=True, num_workers=num_workers, pin_memory=True)\n",
    "test_loader = DataLoader(test_dataset, batch_size = batch_size, shuffle=False, num_workers=num_workers, pin_memory=True)\n",
    "\n",
    "\n",
    "\n",
    "print(len(train_img_paths),len(test_img_paths))\n",
    "t = 0\n",
    "for i in tqdm(train_loader) :\n",
    "    t+=i[0].shape[0]\n",
    "print(t,t==len(train_img_paths))\n",
    "# t = 0\n",
    "# for i in tqdm(test_loader) :\n",
    "#     t+=i[0].shape[0]\n",
    "# print(t,t==len(test_img_paths))\n",
    "\n",
    "# data, cloud_data, scaled_cloud, label\n",
    "print(len(i),i[0].shape,i[1].shape,i[2].shape)\n",
    "plt.imshow(i[0][0].permute(1,2,0))\n",
    "plt.show()"
   ]
  },
  {
   "cell_type": "code",
   "execution_count": 73,
   "id": "cff4f023",
   "metadata": {},
   "outputs": [
    {
     "data": {
      "text/plain": [
       "<AxesSubplot:>"
      ]
     },
     "execution_count": 73,
     "metadata": {},
     "output_type": "execute_result"
    },
    {
     "data": {
      "image/png": "[encoded data removed]",
      "text/plain": [
       "<Figure size 432x288 with 2 Axes>"
      ]
     },
     "metadata": {
      "needs_background": "light"
     },
     "output_type": "display_data"
    }
   ],
   "source": [
    "sns.heatmap(i[2][0][2])"
   ]
  },
  {
   "cell_type": "code",
   "execution_count": null,
   "id": "780910bd",
   "metadata": {},
   "outputs": [],
   "source": []
  },
  {
   "cell_type": "code",
   "execution_count": null,
   "id": "d1c10efe",
   "metadata": {},
   "outputs": [],
   "source": []
  }
 ],
 "metadata": {
  "kernelspec": {
   "display_name": "yrkim",
   "language": "python",
   "name": "yrkim"
  },
  "language_info": {
   "codemirror_mode": {
    "name": "ipython",
    "version": 3
   },
   "file_extension": ".py",
   "mimetype": "text/x-python",
   "name": "python",
   "nbconvert_exporter": "python",
   "pygments_lexer": "ipython3",
   "version": "3.6.13"
  }
 },
 "nbformat": 4,
 "nbformat_minor": 5
}
