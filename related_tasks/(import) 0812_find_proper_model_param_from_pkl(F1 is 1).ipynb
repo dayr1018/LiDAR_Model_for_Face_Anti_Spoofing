{
 "cells": [
  {
   "cell_type": "code",
   "execution_count": 1,
   "id": "3d5caa42",
   "metadata": {},
   "outputs": [],
   "source": [
    "import os\n",
    "import pickle\n",
    "import pandas as pd\n",
    "import numpy as np\n",
    "import matplotlib.pyplot as plt"
   ]
  },
  {
   "cell_type": "code",
   "execution_count": 2,
   "id": "5b5e960e",
   "metadata": {},
   "outputs": [],
   "source": [
    "attacks = [\"paper\", \"replay\", \"mask\", \"total\"]\n",
    "rgb_model = [f\"0814_{attack}_rgb\" for attack in attacks]\n",
    "\n",
    "others = [\"rgbp\", \"rgbd\", \"rgbdp\"]\n",
    "paper_models = [f\"0814_paper_{model}\" for model in others]\n",
    "replay_models = [f\"0814_replay_{model}\" for model in others]\n",
    "mask_models = [f\"0814_mask_{model}\" for model in others]\n",
    "total_models = [f\"0814_total_{model}\" for model in others]"
   ]
  },
  {
   "cell_type": "code",
   "execution_count": 3,
   "id": "9c961902",
   "metadata": {},
   "outputs": [
    {
     "name": "stdout",
     "output_type": "stream",
     "text": [
      "['0814_paper_rgbp', '0814_paper_rgbd', '0814_paper_rgbdp']\n",
      "['0814_replay_rgbp', '0814_replay_rgbd', '0814_replay_rgbdp']\n",
      "['0814_mask_rgbp', '0814_mask_rgbd', '0814_mask_rgbdp']\n",
      "['0814_total_rgbp', '0814_total_rgbd', '0814_total_rgbdp']\n"
     ]
    }
   ],
   "source": [
    "print(paper_models)\n",
    "print(replay_models)\n",
    "print(mask_models)\n",
    "print(total_models)"
   ]
  },
  {
   "cell_type": "code",
   "execution_count": 4,
   "id": "e9967b43",
   "metadata": {},
   "outputs": [],
   "source": [
    "# directory = \"0814_paper_rgb\"\n",
    "# directory = \"0814_paper_rgbp\"\n",
    "# directory = \"0814_paper_rgbd\"\n",
    "# directory = \"0814_paper_rgbdp\"\n",
    "\n",
    "# directory = \"0814_replay_rgb\"\n",
    "# directory = \"0814_replay_rgbp\"\n",
    "# directory = \"0814_replay_rgbd\"\n",
    "# directory = \"0814_replay_rgbdp\"\n",
    "\n",
    "# directory = \"0814_mask_rgb\"\n",
    "# directory = \"0814_mask_rgbp\"\n",
    "# directory = \"0814_mask_rgbd\"\n",
    "# directory = \"0814_mask_rgbdp\"\n",
    "\n",
    "directory = \"0814_total_rgb\"\n",
    "# directory = \"0814_total_rgbp\"\n",
    "# directory = \"0814_total_rgbd\"\n",
    "# directory = \"0814_total_rgbdp\"\n",
    "\n",
    "\n",
    "indoor = \"/mnt/nas3/yrkim/liveness_lidar_project/GC_project/bc_output/logs/\" + directory + \"/\" + directory + \"_indoor.pkl\"\n",
    "outdoor = \"/mnt/nas3/yrkim/liveness_lidar_project/GC_project/bc_output/logs/\" + directory + \"/\" + directory + \"_outdoor.pkl\"\n",
    "dark = \"/mnt/nas3/yrkim/liveness_lidar_project/GC_project/bc_output/logs/\" + directory + \"/\" + directory + \"_dark.pkl\"\n",
    "\n",
    "with open(indoor,\"rb\") as fr:\n",
    "    indoor_check = pickle.load(fr)\n",
    "with open(outdoor,\"rb\") as fr:\n",
    "    outdoor_check = pickle.load(fr)\n",
    "with open(dark,\"rb\") as fr:\n",
    "    dark_check = pickle.load(fr)"
   ]
  },
  {
   "cell_type": "code",
   "execution_count": 5,
   "id": "0e28ff18",
   "metadata": {},
   "outputs": [],
   "source": [
    "indoor = pd.DataFrame(indoor_check)\n",
    "outdoor = pd.DataFrame(outdoor_check)\n",
    "dark = pd.DataFrame(dark_check)\n",
    "\n",
    "indoor[\"epoch\"]=[i for i in range(1,len(indoor)+1)]\n",
    "outdoor[\"epoch\"]=[i for i in range(1,len(outdoor)+1)]\n",
    "dark[\"epoch\"]=[i for i in range(1,len(dark)+1)]"
   ]
  },
  {
   "cell_type": "markdown",
   "id": "8ce438f0",
   "metadata": {},
   "source": [
    "paper\n",
    "\n",
    "rgb: \n",
    "rgb+pc : 474 \n",
    "rgb+depth :\n",
    "rgb+depth+pc :\n",
    "\n"
   ]
  },
  {
   "cell_type": "code",
   "execution_count": 6,
   "id": "927720df",
   "metadata": {
    "scrolled": true
   },
   "outputs": [
    {
     "data": {
      "text/plain": [
       "Index(['train_loss', 'test_loss', 'train_f1', 'test_f1', 'train_acc',\n",
       "       'test_acc', 'epoch'],\n",
       "      dtype='object')"
      ]
     },
     "execution_count": 6,
     "metadata": {},
     "output_type": "execute_result"
    }
   ],
   "source": [
    "indoor.keys()"
   ]
  },
  {
   "cell_type": "code",
   "execution_count": 7,
   "id": "5122aacc",
   "metadata": {},
   "outputs": [
    {
     "data": {
      "text/plain": [
       "Index(['test_loss', 'test_f1', 'test_acc', 'epoch'], dtype='object')"
      ]
     },
     "execution_count": 7,
     "metadata": {},
     "output_type": "execute_result"
    }
   ],
   "source": [
    "outdoor.keys()"
   ]
  },
  {
   "cell_type": "code",
   "execution_count": 8,
   "id": "af21350d",
   "metadata": {},
   "outputs": [
    {
     "data": {
      "text/plain": [
       "Index(['test_loss', 'test_f1', 'test_acc', 'epoch'], dtype='object')"
      ]
     },
     "execution_count": 8,
     "metadata": {},
     "output_type": "execute_result"
    }
   ],
   "source": [
    "dark.keys()"
   ]
  },
  {
   "cell_type": "code",
   "execution_count": 9,
   "id": "f4922611",
   "metadata": {},
   "outputs": [
    {
     "data": {
      "text/plain": [
       "500"
      ]
     },
     "execution_count": 9,
     "metadata": {},
     "output_type": "execute_result"
    }
   ],
   "source": [
    "target = indoor[(indoor[\"train_f1\"]!=1) | (indoor[\"test_f1\"]!=1)]\n",
    "target_list = target[\"epoch\"].tolist()\n",
    "len(target_list)"
   ]
  },
  {
   "cell_type": "code",
   "execution_count": 10,
   "id": "2ec67984",
   "metadata": {
    "scrolled": true
   },
   "outputs": [
    {
     "data": {
      "text/html": [
       "<div>\n",
       "<style scoped>\n",
       "    .dataframe tbody tr th:only-of-type {\n",
       "        vertical-align: middle;\n",
       "    }\n",
       "\n",
       "    .dataframe tbody tr th {\n",
       "        vertical-align: top;\n",
       "    }\n",
       "\n",
       "    .dataframe thead th {\n",
       "        text-align: right;\n",
       "    }\n",
       "</style>\n",
       "<table border=\"1\" class=\"dataframe\">\n",
       "  <thead>\n",
       "    <tr style=\"text-align: right;\">\n",
       "      <th></th>\n",
       "      <th>train_loss</th>\n",
       "      <th>test_loss</th>\n",
       "      <th>train_f1</th>\n",
       "      <th>test_f1</th>\n",
       "      <th>train_acc</th>\n",
       "      <th>test_acc</th>\n",
       "      <th>epoch</th>\n",
       "    </tr>\n",
       "  </thead>\n",
       "  <tbody>\n",
       "    <tr>\n",
       "      <th>472</th>\n",
       "      <td>1.000000e-09</td>\n",
       "      <td>0.166510</td>\n",
       "      <td>1.000000</td>\n",
       "      <td>0.978253</td>\n",
       "      <td>1.000000</td>\n",
       "      <td>0.983333</td>\n",
       "      <td>473</td>\n",
       "    </tr>\n",
       "    <tr>\n",
       "      <th>479</th>\n",
       "      <td>1.200000e-09</td>\n",
       "      <td>0.168712</td>\n",
       "      <td>1.000000</td>\n",
       "      <td>0.972958</td>\n",
       "      <td>1.000000</td>\n",
       "      <td>0.979167</td>\n",
       "      <td>480</td>\n",
       "    </tr>\n",
       "    <tr>\n",
       "      <th>474</th>\n",
       "      <td>3.000000e-10</td>\n",
       "      <td>0.187239</td>\n",
       "      <td>1.000000</td>\n",
       "      <td>0.972958</td>\n",
       "      <td>1.000000</td>\n",
       "      <td>0.979167</td>\n",
       "      <td>475</td>\n",
       "    </tr>\n",
       "    <tr>\n",
       "      <th>463</th>\n",
       "      <td>2.000000e-09</td>\n",
       "      <td>0.168754</td>\n",
       "      <td>1.000000</td>\n",
       "      <td>0.972958</td>\n",
       "      <td>1.000000</td>\n",
       "      <td>0.979167</td>\n",
       "      <td>464</td>\n",
       "    </tr>\n",
       "    <tr>\n",
       "      <th>459</th>\n",
       "      <td>3.500000e-09</td>\n",
       "      <td>0.171526</td>\n",
       "      <td>1.000000</td>\n",
       "      <td>0.972958</td>\n",
       "      <td>1.000000</td>\n",
       "      <td>0.979167</td>\n",
       "      <td>460</td>\n",
       "    </tr>\n",
       "    <tr>\n",
       "      <th>...</th>\n",
       "      <td>...</td>\n",
       "      <td>...</td>\n",
       "      <td>...</td>\n",
       "      <td>...</td>\n",
       "      <td>...</td>\n",
       "      <td>...</td>\n",
       "      <td>...</td>\n",
       "    </tr>\n",
       "    <tr>\n",
       "      <th>5</th>\n",
       "      <td>3.809280e-01</td>\n",
       "      <td>2.069588</td>\n",
       "      <td>0.711535</td>\n",
       "      <td>0.287449</td>\n",
       "      <td>0.794444</td>\n",
       "      <td>0.312500</td>\n",
       "      <td>6</td>\n",
       "    </tr>\n",
       "    <tr>\n",
       "      <th>166</th>\n",
       "      <td>6.354857e-01</td>\n",
       "      <td>1.610559</td>\n",
       "      <td>0.676137</td>\n",
       "      <td>0.513238</td>\n",
       "      <td>0.773611</td>\n",
       "      <td>0.541667</td>\n",
       "      <td>167</td>\n",
       "    </tr>\n",
       "    <tr>\n",
       "      <th>2</th>\n",
       "      <td>4.581002e-01</td>\n",
       "      <td>0.643395</td>\n",
       "      <td>0.674483</td>\n",
       "      <td>0.637827</td>\n",
       "      <td>0.784722</td>\n",
       "      <td>0.650000</td>\n",
       "      <td>3</td>\n",
       "    </tr>\n",
       "    <tr>\n",
       "      <th>1</th>\n",
       "      <td>4.487273e-01</td>\n",
       "      <td>0.600609</td>\n",
       "      <td>0.664801</td>\n",
       "      <td>0.622612</td>\n",
       "      <td>0.777778</td>\n",
       "      <td>0.666667</td>\n",
       "      <td>2</td>\n",
       "    </tr>\n",
       "    <tr>\n",
       "      <th>0</th>\n",
       "      <td>6.061874e-01</td>\n",
       "      <td>0.593567</td>\n",
       "      <td>0.559331</td>\n",
       "      <td>0.428571</td>\n",
       "      <td>0.719444</td>\n",
       "      <td>0.750000</td>\n",
       "      <td>1</td>\n",
       "    </tr>\n",
       "  </tbody>\n",
       "</table>\n",
       "<p>500 rows × 7 columns</p>\n",
       "</div>"
      ],
      "text/plain": [
       "       train_loss  test_loss  train_f1   test_f1  train_acc  test_acc  epoch\n",
       "472  1.000000e-09   0.166510  1.000000  0.978253   1.000000  0.983333    473\n",
       "479  1.200000e-09   0.168712  1.000000  0.972958   1.000000  0.979167    480\n",
       "474  3.000000e-10   0.187239  1.000000  0.972958   1.000000  0.979167    475\n",
       "463  2.000000e-09   0.168754  1.000000  0.972958   1.000000  0.979167    464\n",
       "459  3.500000e-09   0.171526  1.000000  0.972958   1.000000  0.979167    460\n",
       "..            ...        ...       ...       ...        ...       ...    ...\n",
       "5    3.809280e-01   2.069588  0.711535  0.287449   0.794444  0.312500      6\n",
       "166  6.354857e-01   1.610559  0.676137  0.513238   0.773611  0.541667    167\n",
       "2    4.581002e-01   0.643395  0.674483  0.637827   0.784722  0.650000      3\n",
       "1    4.487273e-01   0.600609  0.664801  0.622612   0.777778  0.666667      2\n",
       "0    6.061874e-01   0.593567  0.559331  0.428571   0.719444  0.750000      1\n",
       "\n",
       "[500 rows x 7 columns]"
      ]
     },
     "execution_count": 10,
     "metadata": {},
     "output_type": "execute_result"
    }
   ],
   "source": [
    "t1 = indoor.sort_values([\"train_f1\", \"test_f1\", \"epoch\"], ascending=[False, False, False])\n",
    "t1"
   ]
  },
  {
   "cell_type": "code",
   "execution_count": 11,
   "id": "6ec73235",
   "metadata": {
    "scrolled": true
   },
   "outputs": [
    {
     "data": {
      "text/html": [
       "<div>\n",
       "<style scoped>\n",
       "    .dataframe tbody tr th:only-of-type {\n",
       "        vertical-align: middle;\n",
       "    }\n",
       "\n",
       "    .dataframe tbody tr th {\n",
       "        vertical-align: top;\n",
       "    }\n",
       "\n",
       "    .dataframe thead th {\n",
       "        text-align: right;\n",
       "    }\n",
       "</style>\n",
       "<table border=\"1\" class=\"dataframe\">\n",
       "  <thead>\n",
       "    <tr style=\"text-align: right;\">\n",
       "      <th></th>\n",
       "      <th>test_loss</th>\n",
       "      <th>test_f1</th>\n",
       "      <th>test_acc</th>\n",
       "      <th>epoch</th>\n",
       "    </tr>\n",
       "  </thead>\n",
       "  <tbody>\n",
       "    <tr>\n",
       "      <th>182</th>\n",
       "      <td>1.830354</td>\n",
       "      <td>0.638035</td>\n",
       "      <td>0.666667</td>\n",
       "      <td>183</td>\n",
       "    </tr>\n",
       "    <tr>\n",
       "      <th>183</th>\n",
       "      <td>2.030079</td>\n",
       "      <td>0.620474</td>\n",
       "      <td>0.648958</td>\n",
       "      <td>184</td>\n",
       "    </tr>\n",
       "    <tr>\n",
       "      <th>181</th>\n",
       "      <td>2.782149</td>\n",
       "      <td>0.602414</td>\n",
       "      <td>0.622917</td>\n",
       "      <td>182</td>\n",
       "    </tr>\n",
       "    <tr>\n",
       "      <th>173</th>\n",
       "      <td>1.492219</td>\n",
       "      <td>0.598982</td>\n",
       "      <td>0.642708</td>\n",
       "      <td>174</td>\n",
       "    </tr>\n",
       "    <tr>\n",
       "      <th>479</th>\n",
       "      <td>5.071657</td>\n",
       "      <td>0.598490</td>\n",
       "      <td>0.634375</td>\n",
       "      <td>480</td>\n",
       "    </tr>\n",
       "    <tr>\n",
       "      <th>...</th>\n",
       "      <td>...</td>\n",
       "      <td>...</td>\n",
       "      <td>...</td>\n",
       "      <td>...</td>\n",
       "    </tr>\n",
       "    <tr>\n",
       "      <th>172</th>\n",
       "      <td>9.420993</td>\n",
       "      <td>0.382998</td>\n",
       "      <td>0.388542</td>\n",
       "      <td>173</td>\n",
       "    </tr>\n",
       "    <tr>\n",
       "      <th>166</th>\n",
       "      <td>4.492544</td>\n",
       "      <td>0.370833</td>\n",
       "      <td>0.370833</td>\n",
       "      <td>167</td>\n",
       "    </tr>\n",
       "    <tr>\n",
       "      <th>5</th>\n",
       "      <td>3.299431</td>\n",
       "      <td>0.360785</td>\n",
       "      <td>0.364583</td>\n",
       "      <td>6</td>\n",
       "    </tr>\n",
       "    <tr>\n",
       "      <th>481</th>\n",
       "      <td>6.227388</td>\n",
       "      <td>0.352809</td>\n",
       "      <td>0.356250</td>\n",
       "      <td>482</td>\n",
       "    </tr>\n",
       "    <tr>\n",
       "      <th>7</th>\n",
       "      <td>2.672400</td>\n",
       "      <td>0.343600</td>\n",
       "      <td>0.345833</td>\n",
       "      <td>8</td>\n",
       "    </tr>\n",
       "  </tbody>\n",
       "</table>\n",
       "<p>500 rows × 4 columns</p>\n",
       "</div>"
      ],
      "text/plain": [
       "     test_loss   test_f1  test_acc  epoch\n",
       "182   1.830354  0.638035  0.666667    183\n",
       "183   2.030079  0.620474  0.648958    184\n",
       "181   2.782149  0.602414  0.622917    182\n",
       "173   1.492219  0.598982  0.642708    174\n",
       "479   5.071657  0.598490  0.634375    480\n",
       "..         ...       ...       ...    ...\n",
       "172   9.420993  0.382998  0.388542    173\n",
       "166   4.492544  0.370833  0.370833    167\n",
       "5     3.299431  0.360785  0.364583      6\n",
       "481   6.227388  0.352809  0.356250    482\n",
       "7     2.672400  0.343600  0.345833      8\n",
       "\n",
       "[500 rows x 4 columns]"
      ]
     },
     "execution_count": 11,
     "metadata": {},
     "output_type": "execute_result"
    }
   ],
   "source": [
    "t2 = outdoor.sort_values([\"test_f1\", \"epoch\"], ascending=[False, False])\n",
    "t2\n",
    "# t2[t2[\"epoch\"]>=437].head(10) # paper rgb + pc\n"
   ]
  },
  {
   "cell_type": "code",
   "execution_count": 12,
   "id": "62677f44",
   "metadata": {
    "scrolled": true
   },
   "outputs": [
    {
     "data": {
      "text/html": [
       "<div>\n",
       "<style scoped>\n",
       "    .dataframe tbody tr th:only-of-type {\n",
       "        vertical-align: middle;\n",
       "    }\n",
       "\n",
       "    .dataframe tbody tr th {\n",
       "        vertical-align: top;\n",
       "    }\n",
       "\n",
       "    .dataframe thead th {\n",
       "        text-align: right;\n",
       "    }\n",
       "</style>\n",
       "<table border=\"1\" class=\"dataframe\">\n",
       "  <thead>\n",
       "    <tr style=\"text-align: right;\">\n",
       "      <th></th>\n",
       "      <th>test_loss</th>\n",
       "      <th>test_f1</th>\n",
       "      <th>test_acc</th>\n",
       "      <th>epoch</th>\n",
       "    </tr>\n",
       "  </thead>\n",
       "  <tbody>\n",
       "    <tr>\n",
       "      <th>31</th>\n",
       "      <td>5.726501</td>\n",
       "      <td>0.493684</td>\n",
       "      <td>0.509375</td>\n",
       "      <td>32</td>\n",
       "    </tr>\n",
       "    <tr>\n",
       "      <th>30</th>\n",
       "      <td>5.929676</td>\n",
       "      <td>0.459382</td>\n",
       "      <td>0.460417</td>\n",
       "      <td>31</td>\n",
       "    </tr>\n",
       "    <tr>\n",
       "      <th>165</th>\n",
       "      <td>30.879598</td>\n",
       "      <td>0.428571</td>\n",
       "      <td>0.750000</td>\n",
       "      <td>166</td>\n",
       "    </tr>\n",
       "    <tr>\n",
       "      <th>26</th>\n",
       "      <td>2.796275</td>\n",
       "      <td>0.428050</td>\n",
       "      <td>0.428125</td>\n",
       "      <td>27</td>\n",
       "    </tr>\n",
       "    <tr>\n",
       "      <th>0</th>\n",
       "      <td>0.756741</td>\n",
       "      <td>0.426181</td>\n",
       "      <td>0.742708</td>\n",
       "      <td>1</td>\n",
       "    </tr>\n",
       "    <tr>\n",
       "      <th>...</th>\n",
       "      <td>...</td>\n",
       "      <td>...</td>\n",
       "      <td>...</td>\n",
       "      <td>...</td>\n",
       "    </tr>\n",
       "    <tr>\n",
       "      <th>168</th>\n",
       "      <td>14.799156</td>\n",
       "      <td>0.221434</td>\n",
       "      <td>0.264583</td>\n",
       "      <td>169</td>\n",
       "    </tr>\n",
       "    <tr>\n",
       "      <th>1</th>\n",
       "      <td>4.087260</td>\n",
       "      <td>0.216898</td>\n",
       "      <td>0.261458</td>\n",
       "      <td>2</td>\n",
       "    </tr>\n",
       "    <tr>\n",
       "      <th>481</th>\n",
       "      <td>24.607649</td>\n",
       "      <td>0.200000</td>\n",
       "      <td>0.250000</td>\n",
       "      <td>482</td>\n",
       "    </tr>\n",
       "    <tr>\n",
       "      <th>167</th>\n",
       "      <td>14.745140</td>\n",
       "      <td>0.200000</td>\n",
       "      <td>0.250000</td>\n",
       "      <td>168</td>\n",
       "    </tr>\n",
       "    <tr>\n",
       "      <th>166</th>\n",
       "      <td>15.315730</td>\n",
       "      <td>0.200000</td>\n",
       "      <td>0.250000</td>\n",
       "      <td>167</td>\n",
       "    </tr>\n",
       "  </tbody>\n",
       "</table>\n",
       "<p>500 rows × 4 columns</p>\n",
       "</div>"
      ],
      "text/plain": [
       "     test_loss   test_f1  test_acc  epoch\n",
       "31    5.726501  0.493684  0.509375     32\n",
       "30    5.929676  0.459382  0.460417     31\n",
       "165  30.879598  0.428571  0.750000    166\n",
       "26    2.796275  0.428050  0.428125     27\n",
       "0     0.756741  0.426181  0.742708      1\n",
       "..         ...       ...       ...    ...\n",
       "168  14.799156  0.221434  0.264583    169\n",
       "1     4.087260  0.216898  0.261458      2\n",
       "481  24.607649  0.200000  0.250000    482\n",
       "167  14.745140  0.200000  0.250000    168\n",
       "166  15.315730  0.200000  0.250000    167\n",
       "\n",
       "[500 rows x 4 columns]"
      ]
     },
     "execution_count": 12,
     "metadata": {},
     "output_type": "execute_result"
    }
   ],
   "source": [
    "t3 = dark.sort_values([\"test_f1\", \"epoch\"], ascending=[False, False])\n",
    "t3\n",
    "# t3[t3[\"epoch\"]>=437].head(10) # paper rgb + pc\n"
   ]
  },
  {
   "cell_type": "code",
   "execution_count": 13,
   "id": "1df42b30",
   "metadata": {
    "scrolled": true
   },
   "outputs": [
    {
     "name": "stdout",
     "output_type": "stream",
     "text": [
      "500\n",
      "500\n",
      "500\n",
      "0\n",
      "0\n"
     ]
    }
   ],
   "source": [
    "print(len(target_list))\n",
    "print(len(t2))\n",
    "print(len(t3))\n",
    "for epoch in target_list:\n",
    "    t2 = t2.drop(t2[t2[\"epoch\"]==epoch].index, axis=0)\n",
    "    t3 = t3.drop(t3[t3[\"epoch\"]==epoch].index, axis=0)\n",
    "print(len(t2))\n",
    "print(len(t3))"
   ]
  },
  {
   "cell_type": "code",
   "execution_count": 14,
   "id": "e9d6c248",
   "metadata": {
    "scrolled": true
   },
   "outputs": [
    {
     "name": "stdout",
     "output_type": "stream",
     "text": [
      "0\n"
     ]
    },
    {
     "data": {
      "text/html": [
       "<div>\n",
       "<style scoped>\n",
       "    .dataframe tbody tr th:only-of-type {\n",
       "        vertical-align: middle;\n",
       "    }\n",
       "\n",
       "    .dataframe tbody tr th {\n",
       "        vertical-align: top;\n",
       "    }\n",
       "\n",
       "    .dataframe thead th {\n",
       "        text-align: right;\n",
       "    }\n",
       "</style>\n",
       "<table border=\"1\" class=\"dataframe\">\n",
       "  <thead>\n",
       "    <tr style=\"text-align: right;\">\n",
       "      <th></th>\n",
       "      <th>test_loss</th>\n",
       "      <th>test_f1</th>\n",
       "      <th>test_acc</th>\n",
       "      <th>epoch</th>\n",
       "    </tr>\n",
       "  </thead>\n",
       "  <tbody>\n",
       "  </tbody>\n",
       "</table>\n",
       "</div>"
      ],
      "text/plain": [
       "Empty DataFrame\n",
       "Columns: [test_loss, test_f1, test_acc, epoch]\n",
       "Index: []"
      ]
     },
     "execution_count": 14,
     "metadata": {},
     "output_type": "execute_result"
    }
   ],
   "source": [
    "t2 = t2.sort_values([\"test_f1\", \"epoch\"], ascending=[False, False]).head(50)\n",
    "print(len(t2))\n",
    "t2"
   ]
  },
  {
   "cell_type": "code",
   "execution_count": 15,
   "id": "16ec4603",
   "metadata": {
    "scrolled": true
   },
   "outputs": [
    {
     "name": "stdout",
     "output_type": "stream",
     "text": [
      "0\n"
     ]
    },
    {
     "data": {
      "text/html": [
       "<div>\n",
       "<style scoped>\n",
       "    .dataframe tbody tr th:only-of-type {\n",
       "        vertical-align: middle;\n",
       "    }\n",
       "\n",
       "    .dataframe tbody tr th {\n",
       "        vertical-align: top;\n",
       "    }\n",
       "\n",
       "    .dataframe thead th {\n",
       "        text-align: right;\n",
       "    }\n",
       "</style>\n",
       "<table border=\"1\" class=\"dataframe\">\n",
       "  <thead>\n",
       "    <tr style=\"text-align: right;\">\n",
       "      <th></th>\n",
       "      <th>test_loss</th>\n",
       "      <th>test_f1</th>\n",
       "      <th>test_acc</th>\n",
       "      <th>epoch</th>\n",
       "    </tr>\n",
       "  </thead>\n",
       "  <tbody>\n",
       "  </tbody>\n",
       "</table>\n",
       "</div>"
      ],
      "text/plain": [
       "Empty DataFrame\n",
       "Columns: [test_loss, test_f1, test_acc, epoch]\n",
       "Index: []"
      ]
     },
     "execution_count": 15,
     "metadata": {},
     "output_type": "execute_result"
    }
   ],
   "source": [
    "t3 = t3.sort_values([\"test_f1\", \"epoch\"], ascending=[False, False]).head(50)\n",
    "print(len(t3))\n",
    "t3"
   ]
  },
  {
   "cell_type": "code",
   "execution_count": 16,
   "id": "f1d340b2",
   "metadata": {
    "scrolled": true
   },
   "outputs": [],
   "source": [
    "# print(indoor[indoor[\"epoch\"]==6])\n",
    "\n",
    "# indoor.sort_values(\"train_loss\", ascending=False).head(50)"
   ]
  },
  {
   "cell_type": "code",
   "execution_count": 17,
   "id": "62a75de4",
   "metadata": {
    "scrolled": true
   },
   "outputs": [
    {
     "ename": "ZeroDivisionError",
     "evalue": "division by zero",
     "output_type": "error",
     "traceback": [
      "\u001b[0;31m---------------------------------------------------------------------------\u001b[0m",
      "\u001b[0;31mZeroDivisionError\u001b[0m                         Traceback (most recent call last)",
      "\u001b[0;32m<ipython-input-17-f6cc6d14333b>\u001b[0m in \u001b[0;36m<module>\u001b[0;34m\u001b[0m\n\u001b[0;32m----> 1\u001b[0;31m \u001b[0;36m3\u001b[0m\u001b[0;34m/\u001b[0m\u001b[0;36m0\u001b[0m\u001b[0;34m\u001b[0m\u001b[0;34m\u001b[0m\u001b[0m\n\u001b[0m",
      "\u001b[0;31mZeroDivisionError\u001b[0m: division by zero"
     ]
    }
   ],
   "source": [
    "3/0"
   ]
  },
  {
   "cell_type": "code",
   "execution_count": null,
   "id": "7364afcf",
   "metadata": {},
   "outputs": [],
   "source": [
    "epoch = 500"
   ]
  },
  {
   "cell_type": "code",
   "execution_count": null,
   "id": "ee057f14",
   "metadata": {},
   "outputs": [],
   "source": [
    "print(indoor[indoor[\"epoch\"]==epoch][\"train_acc\"])\n",
    "print(indoor[indoor[\"epoch\"]==epoch][\"train_f1\"])\n",
    "\n",
    "print(indoor[indoor[\"epoch\"]==epoch][\"test_acc\"])\n",
    "print(indoor[indoor[\"epoch\"]==epoch][\"test_f1\"])\n",
    "\n",
    "print(outdoor[outdoor[\"epoch\"]==epoch][\"test_acc\"])\n",
    "print(outdoor[outdoor[\"epoch\"]==epoch][\"test_f1\"])\n",
    "\n",
    "print(dark[dark[\"epoch\"]==epoch][\"test_acc\"])\n",
    "print(dark[dark[\"epoch\"]==epoch][\"test_f1\"])"
   ]
  },
  {
   "cell_type": "code",
   "execution_count": null,
   "id": "dd486c1b",
   "metadata": {},
   "outputs": [],
   "source": []
  },
  {
   "cell_type": "code",
   "execution_count": null,
   "id": "e991cfc7",
   "metadata": {},
   "outputs": [],
   "source": []
  }
 ],
 "metadata": {
  "kernelspec": {
   "display_name": "yrkim",
   "language": "python",
   "name": "yrkim"
  },
  "language_info": {
   "codemirror_mode": {
    "name": "ipython",
    "version": 3
   },
   "file_extension": ".py",
   "mimetype": "text/x-python",
   "name": "python",
   "nbconvert_exporter": "python",
   "pygments_lexer": "ipython3",
   "version": "3.6.13"
  }
 },
 "nbformat": 4,
 "nbformat_minor": 5
}
