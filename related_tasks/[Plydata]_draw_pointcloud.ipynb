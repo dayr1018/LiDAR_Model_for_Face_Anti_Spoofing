{
 "cells": [
  {
   "cell_type": "code",
   "execution_count": 45,
   "id": "96b68af4",
   "metadata": {},
   "outputs": [],
   "source": [
    "import numpy as np\n",
    "from open3d import *"
   ]
  },
  {
   "cell_type": "code",
   "execution_count": 46,
   "id": "e3218f68",
   "metadata": {},
   "outputs": [
    {
     "name": "stdout",
     "output_type": "stream",
     "text": [
      "Load a ply point cloud, print it, and render it\n",
      "PointCloud with 49152 points.\n",
      "[[ 1.6857576 -1.6201947 31.446089 ]\n",
      " [ 1.6828185 -1.6210761 31.453117 ]\n",
      " [ 1.6872741 -1.620445  31.442335 ]\n",
      " ...\n",
      " [ 1.7766651 -1.6687493 31.425692 ]\n",
      " [ 1.7801087 -1.6691065 31.41949  ]\n",
      " [ 1.7784309 -1.669449  31.422478 ]]\n"
     ]
    }
   ],
   "source": [
    "path = \"/mnt/nas3/yrkim/liveness_lidar_project/GC_project/LDFAS/1. Indoor/1/bonafide/pc_1.ply\"\n",
    "\n",
    "# cloud = read_point_cloud(path)\n",
    "# draw_geometries([cloud])\n",
    "\n",
    "print(\"Load a ply point cloud, print it, and render it\")\n",
    "# ply_point_cloud = o3d.data.PLYPointCloud()\n",
    "cloud = o3d.io.read_point_cloud(path)\n",
    "print(cloud)\n",
    "print(np.asarray(cloud.points))\n",
    "# o3d.visualization.draw_geometries([cloud])\n"
   ]
  },
  {
   "cell_type": "markdown",
   "id": "f954788f",
   "metadata": {},
   "source": [
    "-----------------------------"
   ]
  },
  {
   "cell_type": "code",
   "execution_count": 48,
   "id": "75883ac6",
   "metadata": {},
   "outputs": [
    {
     "name": "stdout",
     "output_type": "stream",
     "text": [
      "\u001b[1;33m[Open3D WARNING] GLFW Error: X11: The DISPLAY environment variable is missing\u001b[0;m\n",
      "\u001b[1;33m[Open3D WARNING] Failed to initialize GLFW\u001b[0;m\n",
      "\u001b[1;33m[Open3D WARNING] GLFW Error: X11: The DISPLAY environment variable is missing\u001b[0;m\n",
      "\u001b[1;33m[Open3D WARNING] Failed to initialize GLFW\u001b[0;m\n",
      "\u001b[1;33m[Open3D WARNING] [DrawGeometries] Failed creating OpenGL window.\u001b[0;m\n"
     ]
    }
   ],
   "source": [
    "vis = o3d.visualization.Visualizer()\n",
    "vis.create_window('camera_view', 320, 240, 50, 50, True) # width, height, left, top is_window_visible\n",
    "vis.add_geometry(cloud)\n",
    "control = vis.get_view_control()\n",
    "o3d.visualization.draw_geometries([cloud])"
   ]
  },
  {
   "cell_type": "markdown",
   "id": "3e00efe0",
   "metadata": {},
   "source": [
    "-----------------------------"
   ]
  },
  {
   "cell_type": "code",
   "execution_count": 36,
   "id": "0d696f1e",
   "metadata": {},
   "outputs": [
    {
     "name": "stdout",
     "output_type": "stream",
     "text": [
      "geometry::PointCloud with 49152 points.\n"
     ]
    }
   ],
   "source": [
    "print(cloud)"
   ]
  },
  {
   "cell_type": "code",
   "execution_count": 43,
   "id": "471421d0",
   "metadata": {},
   "outputs": [
    {
     "name": "stdout",
     "output_type": "stream",
     "text": [
      "<class 'open3d.open3d.geometry.PointCloud'>\n",
      "<class 'numpy.ndarray'>\n",
      "[[[ 3.7124412  -0.37966383 -1.0175008 ]\n",
      "  [ 3.7213168  -0.3787248  -1.0195369 ]\n",
      "  [ 3.7525938  -0.3702149  -1.0267969 ]\n",
      "  ...\n",
      "  [ 1.0057799  -1.3992425  -0.23381893]\n",
      "  [ 0.99933845 -1.4015361  -0.23313473]\n",
      "  [ 1.0100014  -1.3994961  -0.23422964]]]\n",
      "49152\n"
     ]
    }
   ],
   "source": [
    "pc_array = np.asarray([cloud.points])\n",
    "print(type(cloud))\n",
    "print(type(pc_array))\n",
    "print(pc_array)\n",
    "print(len(pc_array[0]))"
   ]
  },
  {
   "cell_type": "code",
   "execution_count": 42,
   "id": "20b2282d",
   "metadata": {},
   "outputs": [
    {
     "ename": "NameError",
     "evalue": "name 'Visualizer' is not defined",
     "output_type": "error",
     "traceback": [
      "\u001b[0;31m---------------------------------------------------------------------------\u001b[0m",
      "\u001b[0;31mNameError\u001b[0m                                 Traceback (most recent call last)",
      "\u001b[0;32m<ipython-input-42-075c68e415b6>\u001b[0m in \u001b[0;36m<module>\u001b[0;34m\u001b[0m\n\u001b[0;32m----> 1\u001b[0;31m \u001b[0mvis\u001b[0m \u001b[0;34m=\u001b[0m \u001b[0mVisualizer\u001b[0m\u001b[0;34m(\u001b[0m\u001b[0;34m)\u001b[0m\u001b[0;34m\u001b[0m\u001b[0;34m\u001b[0m\u001b[0m\n\u001b[0m\u001b[1;32m      2\u001b[0m \u001b[0mvis\u001b[0m\u001b[0;34m.\u001b[0m\u001b[0mcreate_window\u001b[0m\u001b[0;34m(\u001b[0m\u001b[0;34m'camera_view'\u001b[0m\u001b[0;34m,\u001b[0m \u001b[0;36m320\u001b[0m\u001b[0;34m,\u001b[0m \u001b[0;36m240\u001b[0m\u001b[0;34m,\u001b[0m \u001b[0;36m50\u001b[0m\u001b[0;34m,\u001b[0m \u001b[0;36m50\u001b[0m\u001b[0;34m,\u001b[0m \u001b[0;32mTrue\u001b[0m\u001b[0;34m)\u001b[0m \u001b[0;31m# width, height, left, top is_window_visible\u001b[0m\u001b[0;34m\u001b[0m\u001b[0;34m\u001b[0m\u001b[0m\n\u001b[1;32m      3\u001b[0m \u001b[0mvis\u001b[0m\u001b[0;34m.\u001b[0m\u001b[0madd_geometry\u001b[0m\u001b[0;34m(\u001b[0m\u001b[0mcloud\u001b[0m\u001b[0;34m)\u001b[0m\u001b[0;34m\u001b[0m\u001b[0;34m\u001b[0m\u001b[0m\n\u001b[1;32m      4\u001b[0m \u001b[0mcontrol\u001b[0m \u001b[0;34m=\u001b[0m \u001b[0mvis\u001b[0m\u001b[0;34m.\u001b[0m\u001b[0mget_view_control\u001b[0m\u001b[0;34m(\u001b[0m\u001b[0;34m)\u001b[0m\u001b[0;34m\u001b[0m\u001b[0;34m\u001b[0m\u001b[0m\n\u001b[1;32m      5\u001b[0m \u001b[0mdraw_geometries\u001b[0m\u001b[0;34m(\u001b[0m\u001b[0;34m[\u001b[0m\u001b[0mcloud\u001b[0m\u001b[0;34m]\u001b[0m\u001b[0;34m)\u001b[0m\u001b[0;34m\u001b[0m\u001b[0;34m\u001b[0m\u001b[0m\n",
      "\u001b[0;31mNameError\u001b[0m: name 'Visualizer' is not defined"
     ]
    }
   ],
   "source": [
    "vis = Visualizer()\n",
    "vis.create_window('camera_view', 320, 240, 50, 50, True) # width, height, left, top is_window_visible\n",
    "vis.add_geometry(cloud)\n",
    "control = vis.get_view_control()\n",
    "draw_geometries([cloud])"
   ]
  },
  {
   "cell_type": "code",
   "execution_count": 43,
   "id": "6f1c4209",
   "metadata": {},
   "outputs": [
    {
     "ename": "NameError",
     "evalue": "name 'control' is not defined",
     "output_type": "error",
     "traceback": [
      "\u001b[0;31m---------------------------------------------------------------------------\u001b[0m",
      "\u001b[0;31mNameError\u001b[0m                                 Traceback (most recent call last)",
      "\u001b[0;32m<ipython-input-43-df6f43197a6f>\u001b[0m in \u001b[0;36m<module>\u001b[0;34m\u001b[0m\n\u001b[1;32m      2\u001b[0m \u001b[0mfy\u001b[0m \u001b[0;34m=\u001b[0m \u001b[0;36m115\u001b[0m\u001b[0;34m\u001b[0m\u001b[0;34m\u001b[0m\u001b[0m\n\u001b[1;32m      3\u001b[0m \u001b[0;34m\u001b[0m\u001b[0m\n\u001b[0;32m----> 4\u001b[0;31m \u001b[0minit_param\u001b[0m \u001b[0;34m=\u001b[0m \u001b[0mcontrol\u001b[0m\u001b[0;34m.\u001b[0m\u001b[0mconvert_to_pinhole_camera_parameters\u001b[0m\u001b[0;34m(\u001b[0m\u001b[0;34m)\u001b[0m\u001b[0;34m\u001b[0m\u001b[0;34m\u001b[0m\u001b[0m\n\u001b[0m\u001b[1;32m      5\u001b[0m \u001b[0mcx\u001b[0m \u001b[0;34m=\u001b[0m \u001b[0minit_param\u001b[0m\u001b[0;34m.\u001b[0m\u001b[0mintrinsic\u001b[0m\u001b[0;34m.\u001b[0m\u001b[0mwidth\u001b[0m \u001b[0;34m/\u001b[0m \u001b[0;36m2\u001b[0m \u001b[0;34m-\u001b[0m \u001b[0;36m0.5\u001b[0m\u001b[0;34m\u001b[0m\u001b[0;34m\u001b[0m\u001b[0m\n\u001b[1;32m      6\u001b[0m \u001b[0mcy\u001b[0m \u001b[0;34m=\u001b[0m \u001b[0minit_param\u001b[0m\u001b[0;34m.\u001b[0m\u001b[0mintrinsic\u001b[0m\u001b[0;34m.\u001b[0m\u001b[0mheight\u001b[0m \u001b[0;34m/\u001b[0m \u001b[0;36m2\u001b[0m \u001b[0;34m-\u001b[0m \u001b[0;36m0.5\u001b[0m\u001b[0;34m\u001b[0m\u001b[0;34m\u001b[0m\u001b[0m\n",
      "\u001b[0;31mNameError\u001b[0m: name 'control' is not defined"
     ]
    }
   ],
   "source": [
    "fx = 115\n",
    "fy = 115\n",
    "\n",
    "init_param = control.convert_to_pinhole_camera_parameters()\n",
    "cx = init_param.intrinsic.width / 2 - 0.5\n",
    "cy = init_param.intrinsic.height / 2 - 0.5\n",
    "init_param.intrinsic.set_intrinsics(init_param.intrinsic.width, \n",
    "    init_param.intrinsic.height, fx, fy, cx, cy)\n",
    "print(init_param.intrinsic.intrinsic_matrix)\n",
    "\n",
    "control.convert_from_pinhole_camera_parameters(init_param)\n",
    "current_param = control.convert_to_pinhole_camera_parameters()\n",
    "print(current_param.intrinsic.intrinsic_matrix)"
   ]
  },
  {
   "cell_type": "code",
   "execution_count": 47,
   "id": "d7f8e3ad",
   "metadata": {},
   "outputs": [
    {
     "data": {
      "text/plain": [
       "camera::PinholeCameraParameters class.\n",
       "Access its data via intrinsic and extrinsic."
      ]
     },
     "execution_count": 47,
     "metadata": {},
     "output_type": "execute_result"
    }
   ],
   "source": []
  },
  {
   "cell_type": "code",
   "execution_count": null,
   "id": "65a36e75",
   "metadata": {},
   "outputs": [],
   "source": []
  }
 ],
 "metadata": {
  "kernelspec": {
   "display_name": "yrkim",
   "language": "python",
   "name": "yrkim"
  },
  "language_info": {
   "codemirror_mode": {
    "name": "ipython",
    "version": 3
   },
   "file_extension": ".py",
   "mimetype": "text/x-python",
   "name": "python",
   "nbconvert_exporter": "python",
   "pygments_lexer": "ipython3",
   "version": "3.6.13"
  }
 },
 "nbformat": 4,
 "nbformat_minor": 5
}
