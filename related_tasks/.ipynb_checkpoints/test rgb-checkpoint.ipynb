{
 "cells": [
  {
   "cell_type": "code",
   "execution_count": 1,
   "id": "bab1d1e5",
   "metadata": {},
   "outputs": [],
   "source": [
    "import time\n",
    "import argparse\n",
    "import os\n",
    "import matplotlib\n",
    "from tqdm import tqdm\n",
    "\n",
    "matplotlib.use('Agg')\n",
    "import numpy as np\n",
    "\n",
    "import torch\n",
    "import torch.nn as nn\n",
    "import torch.optim as optim\n",
    "import torch.nn.functional as F\n",
    "from torch.optim import lr_scheduler\n",
    "\n",
    "from dataloader.dataloader_RGB import load_cisia_surf\n",
    "# from data.dataloader_RGB_Depth import load_cisia_surf\n",
    "# from dataloader.dataloader_RGB_Depth_IR import load_cisia_surf\n",
    "\n",
    "from models.model_RGB import Model\n",
    "# from models.model_RGB_Depth import Model\n",
    "# from models.model_RGB_Depth_IR import Model\n",
    "\n",
    "from loger import Logger\n",
    "from evalution import eval_model\n",
    "from centerloss import CenterLoss\n",
    "from utils import plot_roc_curve, plot_eval_metric"
   ]
  },
  {
   "cell_type": "code",
   "execution_count": 2,
   "id": "82bd358a",
   "metadata": {},
   "outputs": [
    {
     "name": "stdout",
     "output_type": "stream",
     "text": [
      "Namespace(batch_size=64, message='', mode=1, save_path='./logs/RGB/Test/', test_size=64)\n"
     ]
    }
   ],
   "source": [
    "time_object = time.localtime(time.time())\n",
    "time_string = time.strftime('%Y-%m-%d_%I:%M_%p', time_object)\n",
    "use_cuda = True if torch.cuda.is_available() else False\n",
    "\n",
    "parser = argparse.ArgumentParser(description='face anti-spoofing test')\n",
    "parser.add_argument('--batch-size', default='64', type=int, help='train batch size')\n",
    "parser.add_argument('--test-size', default='64', type=int, help='test batch size')\n",
    "parser.add_argument('--save-path', default='./logs/RGB/Test/', type=str, help='logs save path')\n",
    "parser.add_argument('--message', default='', type=str, help='pretrained model checkpoint')\n",
    "parser.add_argument('--mode', default=1, type=int, help='dataset protocol_mode')\n",
    "args = parser.parse_known_args()[0]\n",
    "print(args)\n",
    "\n",
    "save_path = args.save_path + f'{time_string}' + '_' + f'{args.message}'"
   ]
  },
  {
   "cell_type": "code",
   "execution_count": 3,
   "id": "3d0cd1f8",
   "metadata": {},
   "outputs": [
    {
     "name": "stdout",
     "output_type": "stream",
     "text": [
      "train dataset count : 5580\n",
      "test dataset count : 2520\n",
      "train loader count : 88\n",
      "test loader count : 40\n"
     ]
    }
   ],
   "source": [
    "if not os.path.exists(save_path):\n",
    "    os.makedirs(save_path)\n",
    "\n",
    "# logger = Logger(f'{save_path}/logs.logs')\n",
    "# logger.Print(args.message)\n",
    "\n",
    "_, test_data = load_cisia_surf(train_size=args.batch_size,test_size=args.test_size, mode=args.mode)\n",
    "\n",
    "eval_history = []\n",
    "eval_loss = []\n",
    "eval_score = []\n",
    "test_score = []\n"
   ]
  },
  {
   "cell_type": "code",
   "execution_count": null,
   "id": "851a2114",
   "metadata": {},
   "outputs": [],
   "source": []
  },
  {
   "cell_type": "code",
   "execution_count": null,
   "id": "49fbc475",
   "metadata": {},
   "outputs": [],
   "source": []
  },
  {
   "cell_type": "code",
   "execution_count": null,
   "id": "869a5155",
   "metadata": {},
   "outputs": [],
   "source": []
  },
  {
   "cell_type": "code",
   "execution_count": 4,
   "id": "4c8febfa",
   "metadata": {},
   "outputs": [],
   "source": [
    "def val(epoch=0, data_set=test_data,flag=1, weight_dir=''):\n",
    "    device = torch.device('cuda' if torch.cuda.is_available() else 'cpu')\n",
    "\n",
    "    model = Model(pretrained=False, num_classes=2)\n",
    "\n",
    "    if use_cuda:\n",
    "        model = torch.nn.DataParallel(model,device_ids=list(range(torch.cuda.device_count()))) \n",
    "        model = model.cuda()\n",
    "        model.load_state_dict(\n",
    "            torch.load(weight_dir))\n",
    "\n",
    "    y_true = []\n",
    "    y_pred = []\n",
    "    y_prob = []\n",
    "    \n",
    "    model.eval()\n",
    "\n",
    "    total_batch = 0\n",
    "    \n",
    "    with torch.no_grad():\n",
    "        pbar = tqdm(enumerate(data_set, 1))\n",
    "        for batch, data in pbar :\n",
    "\n",
    "            rgb_img = data[0]\n",
    "            labels = data[1]\n",
    "\n",
    "            if use_cuda:\n",
    "                rgb_img = rgb_img.cuda()\n",
    "                labels = labels.cuda()\n",
    "\n",
    "            # 예측 오류 계산\n",
    "            outputs, features = model(rgb_img)\n",
    "            _, pred_outputs = torch.max(outputs, 1)\n",
    "            prob_outputs = F.softmax(outputs,1)[:,1]\n",
    "\n",
    "            y_true.extend(labels.data.cpu().numpy())\n",
    "            y_pred.extend(pred_outputs.data.cpu().numpy())\n",
    "            y_prob.extend(prob_outputs.data.cpu().numpy())\n",
    "\n",
    "\n",
    "            total_batch = batch\n",
    "\n",
    "\n",
    "    eval_result, score, acer = eval_model(y_true, y_pred, y_prob)\n",
    "    eval_history.append(eval_result)\n",
    "\n",
    "    plot_roc_curve(save_path, epoch, y_true, y_prob)\n",
    "    plot_eval_metric(save_path, epoch, y_true, y_pred)\n",
    "\n",
    "    if flag == 0 :\n",
    "        eval_score.append(score)\n",
    "        # avg_loss = total_loss/total_batch\n",
    "        # eval_loss.append(avg_loss)\n",
    "        # message = f'|eval|loss:{avg_loss:.6f}|'\n",
    "        # logger.Print(message)\n",
    "    else:\n",
    "        test_score.append(score)\n"
   ]
  },
  {
   "cell_type": "code",
   "execution_count": null,
   "id": "51e1331d",
   "metadata": {},
   "outputs": [],
   "source": []
  },
  {
   "cell_type": "code",
   "execution_count": 5,
   "id": "1d6a7718",
   "metadata": {},
   "outputs": [
    {
     "name": "stdout",
     "output_type": "stream",
     "text": [
      "--global_dir start--\n",
      "auc_value: 0.6674052028218693\n"
     ]
    }
   ],
   "source": [
    "global_dir = '/mnt/nas3/yrkim/liveness_lidar_project/GC_project/code/models/output/RGB/checkpoint_v'+ str(args.mode) +'_0/global_min_acer_model.pth'\n",
    "print(\"--global_dir start--\")\n",
    "val(epoch=\"_global_min\", weight_dir=global_dir)"
   ]
  },
  {
   "cell_type": "code",
   "execution_count": null,
   "id": "c3e68892",
   "metadata": {},
   "outputs": [],
   "source": []
  },
  {
   "cell_type": "code",
   "execution_count": null,
   "id": "e1403c7d",
   "metadata": {},
   "outputs": [],
   "source": []
  },
  {
   "cell_type": "code",
   "execution_count": null,
   "id": "9e7ec15b",
   "metadata": {},
   "outputs": [],
   "source": []
  },
  {
   "cell_type": "code",
   "execution_count": null,
   "id": "8b3cf27c",
   "metadata": {},
   "outputs": [],
   "source": []
  },
  {
   "cell_type": "code",
   "execution_count": null,
   "id": "11ff72a6",
   "metadata": {},
   "outputs": [],
   "source": []
  },
  {
   "cell_type": "code",
   "execution_count": null,
   "id": "db71ad38",
   "metadata": {},
   "outputs": [],
   "source": []
  }
 ],
 "metadata": {
  "kernelspec": {
   "display_name": "clothes",
   "language": "python",
   "name": "clothes"
  },
  "language_info": {
   "codemirror_mode": {
    "name": "ipython",
    "version": 3
   },
   "file_extension": ".py",
   "mimetype": "text/x-python",
   "name": "python",
   "nbconvert_exporter": "python",
   "pygments_lexer": "ipython3",
   "version": "3.7.11"
  }
 },
 "nbformat": 4,
 "nbformat_minor": 5
}
