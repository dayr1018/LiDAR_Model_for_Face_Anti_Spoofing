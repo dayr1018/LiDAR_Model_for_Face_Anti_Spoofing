{
 "cells": [
  {
   "cell_type": "code",
   "execution_count": 1,
   "id": "e129ce3d",
   "metadata": {},
   "outputs": [],
   "source": [
    "import os\n",
    "import pickle\n",
    "import pandas as pd\n",
    "import numpy as np\n",
    "import matplotlib.pyplot as plt"
   ]
  },
  {
   "cell_type": "code",
   "execution_count": null,
   "id": "ad031265",
   "metadata": {},
   "outputs": [],
   "source": []
  },
  {
   "cell_type": "code",
   "execution_count": 2,
   "id": "0ed75dd9",
   "metadata": {},
   "outputs": [],
   "source": [
    "tasks = [\"0810_paper_rgb\",\"0810_paper_rgbp\",\"0810_paper_rgbd\",\"0810_paper_rgbdp\",\n",
    "             \"0810_replay_rgb\",\"0810_replay_rgbp\",\"0810_replay_rgbd\",\"0810_replay_rgbdp\",\n",
    "             \"0810_mask_rgb\",\"0810_mask_rgbp\",\"0810_mask_rgbd\",\"0810_mask_rgbdp\"]\n"
   ]
  },
  {
   "cell_type": "code",
   "execution_count": 5,
   "id": "86b74108",
   "metadata": {},
   "outputs": [
    {
     "name": "stdout",
     "output_type": "stream",
     "text": [
      "  @@ Task : 0810_paper_rgb\n",
      "Indoor - Train-F1:1.0 & Test-F1:1.0\n",
      "Outdoor - Test-F1:0.5559\n",
      "Dark - Test-F1:0.4938\n",
      "\n",
      "----------------------------------------------------------------------------------------------------------------------------------\n",
      "  @@ Task : 0810_paper_rgbp\n",
      "Indoor - Train-F1:1.0 & Test-F1:0.9583\n",
      "Outdoor - Test-F1:0.8478\n",
      "Dark - Test-F1:0.487\n",
      "\n",
      "----------------------------------------------------------------------------------------------------------------------------------\n",
      "  @@ Task : 0810_paper_rgbd\n",
      "Indoor - Train-F1:1.0 & Test-F1:1.0\n",
      "Outdoor - Test-F1:0.9979\n",
      "Dark - Test-F1:0.7964\n",
      "\n",
      "----------------------------------------------------------------------------------------------------------------------------------\n",
      "  @@ Task : 0810_paper_rgbdp\n",
      "Indoor - Train-F1:1.0 & Test-F1:1.0\n",
      "Outdoor - Test-F1:1.0\n",
      "Dark - Test-F1:0.6452\n",
      "\n",
      "----------------------------------------------------------------------------------------------------------------------------------\n",
      "  @@ Task : 0810_replay_rgb\n",
      "Indoor - Train-F1:1.0 & Test-F1:1.0\n",
      "Outdoor - Test-F1:0.7606\n",
      "Dark - Test-F1:0.3333\n",
      "\n",
      "----------------------------------------------------------------------------------------------------------------------------------\n",
      "  @@ Task : 0810_replay_rgbp\n",
      "Indoor - Train-F1:1.0 & Test-F1:1.0\n",
      "Outdoor - Test-F1:1.0\n",
      "Dark - Test-F1:0.9979\n",
      "\n",
      "----------------------------------------------------------------------------------------------------------------------------------\n",
      "  @@ Task : 0810_replay_rgbd\n",
      "Indoor - Train-F1:1.0 & Test-F1:1.0\n",
      "Outdoor - Test-F1:0.9937\n",
      "Dark - Test-F1:0.9288\n",
      "\n",
      "----------------------------------------------------------------------------------------------------------------------------------\n",
      "  @@ Task : 0810_replay_rgbdp\n",
      "Indoor - Train-F1:1.0 & Test-F1:1.0\n",
      "Outdoor - Test-F1:1.0\n",
      "Dark - Test-F1:0.9979\n",
      "\n",
      "----------------------------------------------------------------------------------------------------------------------------------\n",
      "  @@ Task : 0810_mask_rgb\n",
      "Indoor - Train-F1:1.0 & Test-F1:1.0\n",
      "Outdoor - Test-F1:0.6273\n",
      "Dark - Test-F1:0.3471\n",
      "\n",
      "----------------------------------------------------------------------------------------------------------------------------------\n",
      "  @@ Task : 0810_mask_rgbp\n",
      "Indoor - Train-F1:1.0 & Test-F1:0.9247\n",
      "Outdoor - Test-F1:0.738\n",
      "Dark - Test-F1:0.3823\n",
      "\n",
      "----------------------------------------------------------------------------------------------------------------------------------\n",
      "  @@ Task : 0810_mask_rgbd\n",
      "Indoor - Train-F1:1.0 & Test-F1:0.8571\n",
      "Outdoor - Test-F1:0.7288\n",
      "Dark - Test-F1:0.4198\n",
      "\n",
      "----------------------------------------------------------------------------------------------------------------------------------\n",
      "  @@ Task : 0810_mask_rgbdp\n",
      "Indoor - Train-F1:1.0 & Test-F1:0.9666\n",
      "Outdoor - Test-F1:0.7682\n",
      "Dark - Test-F1:0.3823\n",
      "\n",
      "----------------------------------------------------------------------------------------------------------------------------------\n"
     ]
    }
   ],
   "source": [
    "for directory in tasks : \n",
    "    print('  @@ Task :',directory)\n",
    "    indoor = \"/mnt/nas3/yrkim/liveness_lidar_project/GC_project/bc_output/logs/\" + directory + \"/\" + directory + \"_indoor.pkl\"\n",
    "    outdoor = \"/mnt/nas3/yrkim/liveness_lidar_project/GC_project/bc_output/logs/\" + directory + \"/\" + directory + \"_outdoor.pkl\"\n",
    "    dark = \"/mnt/nas3/yrkim/liveness_lidar_project/GC_project/bc_output/logs/\" + directory + \"/\" + directory + \"_dark.pkl\"\n",
    "\n",
    "    with open(indoor,\"rb\") as fr:\n",
    "        indoor_check = pickle.load(fr)\n",
    "    with open(outdoor,\"rb\") as fr:\n",
    "        outdoor_check = pickle.load(fr)\n",
    "    with open(dark,\"rb\") as fr:\n",
    "        dark_check = pickle.load(fr)\n",
    "        \n",
    "    df = pd.DataFrame({'train_loss':indoor_check['train_loss'],'train_f1':indoor_check['train_f1'],'test_f1':indoor_check['test_f1']})\n",
    "    df2 = df[df['train_f1']==df['train_f1'].max()]\n",
    "    train_loss_IQR = np.quantile(indoor_check['train_loss'],0.75) - np.quantile(indoor_check['train_loss'],0.25)\n",
    "    df2 = df2[df2['train_loss']<train_loss_IQR]\n",
    "    \n",
    "    df2= df2.sort_values(['train_loss'],ascending=False)\n",
    "    sel_idx = df2.index[0]\n",
    "        \n",
    "    print(f\"Indoor - Train-F1:{round(indoor_check['train_f1'][sel_idx],4)} & Test-F1:{round(indoor_check['test_f1'][sel_idx],4)}\")\n",
    "    print(f\"Outdoor - Test-F1:{round(outdoor_check['test_f1'][sel_idx],4)}\")\n",
    "    print(f\"Dark - Test-F1:{round(dark_check['test_f1'][sel_idx],4)}\")\n",
    "    \n",
    "    print()\n",
    "    print('--------------------------'*5)\n",
    "\n",
    "#     break"
   ]
  },
  {
   "cell_type": "code",
   "execution_count": null,
   "id": "af9f0793",
   "metadata": {},
   "outputs": [],
   "source": []
  },
  {
   "cell_type": "code",
   "execution_count": null,
   "id": "6ff5c144",
   "metadata": {},
   "outputs": [],
   "source": []
  },
  {
   "cell_type": "code",
   "execution_count": null,
   "id": "435d755b",
   "metadata": {},
   "outputs": [],
   "source": []
  },
  {
   "cell_type": "code",
   "execution_count": null,
   "id": "a698e6e7",
   "metadata": {},
   "outputs": [],
   "source": []
  }
 ],
 "metadata": {
  "kernelspec": {
   "display_name": "yrkim",
   "language": "python",
   "name": "yrkim"
  },
  "language_info": {
   "codemirror_mode": {
    "name": "ipython",
    "version": 3
   },
   "file_extension": ".py",
   "mimetype": "text/x-python",
   "name": "python",
   "nbconvert_exporter": "python",
   "pygments_lexer": "ipython3",
   "version": "3.6.13"
  }
 },
 "nbformat": 4,
 "nbformat_minor": 5
}
