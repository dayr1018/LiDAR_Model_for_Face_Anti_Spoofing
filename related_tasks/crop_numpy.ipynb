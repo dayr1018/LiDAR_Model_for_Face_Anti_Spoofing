{
 "cells": [
  {
   "cell_type": "code",
   "execution_count": 6,
   "id": "f426c09c",
   "metadata": {},
   "outputs": [],
   "source": [
    "import numpy as np"
   ]
  },
  {
   "cell_type": "code",
   "execution_count": null,
   "id": "55409034",
   "metadata": {},
   "outputs": [],
   "source": [
    "dir(np.zeros)"
   ]
  },
  {
   "cell_type": "code",
   "execution_count": 21,
   "id": "4a918d95",
   "metadata": {},
   "outputs": [],
   "source": [
    "arr = np.zeros([3,128,128])"
   ]
  },
  {
   "cell_type": "code",
   "execution_count": 22,
   "id": "0c0a6b77",
   "metadata": {},
   "outputs": [
    {
     "data": {
      "text/plain": [
       "(3, 128, 128)"
      ]
     },
     "execution_count": 22,
     "metadata": {},
     "output_type": "execute_result"
    }
   ],
   "source": [
    "arr.shape"
   ]
  },
  {
   "cell_type": "code",
   "execution_count": 23,
   "id": "d7765a85",
   "metadata": {
    "scrolled": true
   },
   "outputs": [],
   "source": [
    "arr = arr[:, 0:112, 0:112]"
   ]
  },
  {
   "cell_type": "code",
   "execution_count": 24,
   "id": "06d43571",
   "metadata": {},
   "outputs": [
    {
     "data": {
      "text/plain": [
       "(3, 112, 112)"
      ]
     },
     "execution_count": 24,
     "metadata": {},
     "output_type": "execute_result"
    }
   ],
   "source": [
    "arr.shape"
   ]
  },
  {
   "cell_type": "code",
   "execution_count": null,
   "id": "e5b222c6",
   "metadata": {},
   "outputs": [],
   "source": []
  }
 ],
 "metadata": {
  "kernelspec": {
   "display_name": "yrkim",
   "language": "python",
   "name": "yrkim"
  },
  "language_info": {
   "codemirror_mode": {
    "name": "ipython",
    "version": 3
   },
   "file_extension": ".py",
   "mimetype": "text/x-python",
   "name": "python",
   "nbconvert_exporter": "python",
   "pygments_lexer": "ipython3",
   "version": "3.6.13"
  }
 },
 "nbformat": 4,
 "nbformat_minor": 5
}
